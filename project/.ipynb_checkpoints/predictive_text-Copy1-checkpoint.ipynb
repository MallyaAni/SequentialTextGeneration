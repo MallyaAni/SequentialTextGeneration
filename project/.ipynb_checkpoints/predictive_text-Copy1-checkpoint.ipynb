{
 "cells": [
  {
   "cell_type": "code",
   "execution_count": 1,
   "metadata": {},
   "outputs": [
    {
     "name": "stderr",
     "output_type": "stream",
     "text": [
      "Using TensorFlow backend.\n",
      "/Library/Frameworks/Python.framework/Versions/3.7/lib/python3.7/site-packages/tensorflow/python/framework/dtypes.py:526: FutureWarning: Passing (type, 1) or '1type' as a synonym of type is deprecated; in a future version of numpy, it will be understood as (type, (1,)) / '(1,)type'.\n",
      "  _np_qint8 = np.dtype([(\"qint8\", np.int8, 1)])\n",
      "/Library/Frameworks/Python.framework/Versions/3.7/lib/python3.7/site-packages/tensorflow/python/framework/dtypes.py:527: FutureWarning: Passing (type, 1) or '1type' as a synonym of type is deprecated; in a future version of numpy, it will be understood as (type, (1,)) / '(1,)type'.\n",
      "  _np_quint8 = np.dtype([(\"quint8\", np.uint8, 1)])\n",
      "/Library/Frameworks/Python.framework/Versions/3.7/lib/python3.7/site-packages/tensorflow/python/framework/dtypes.py:528: FutureWarning: Passing (type, 1) or '1type' as a synonym of type is deprecated; in a future version of numpy, it will be understood as (type, (1,)) / '(1,)type'.\n",
      "  _np_qint16 = np.dtype([(\"qint16\", np.int16, 1)])\n",
      "/Library/Frameworks/Python.framework/Versions/3.7/lib/python3.7/site-packages/tensorflow/python/framework/dtypes.py:529: FutureWarning: Passing (type, 1) or '1type' as a synonym of type is deprecated; in a future version of numpy, it will be understood as (type, (1,)) / '(1,)type'.\n",
      "  _np_quint16 = np.dtype([(\"quint16\", np.uint16, 1)])\n",
      "/Library/Frameworks/Python.framework/Versions/3.7/lib/python3.7/site-packages/tensorflow/python/framework/dtypes.py:530: FutureWarning: Passing (type, 1) or '1type' as a synonym of type is deprecated; in a future version of numpy, it will be understood as (type, (1,)) / '(1,)type'.\n",
      "  _np_qint32 = np.dtype([(\"qint32\", np.int32, 1)])\n",
      "/Library/Frameworks/Python.framework/Versions/3.7/lib/python3.7/site-packages/tensorflow/python/framework/dtypes.py:535: FutureWarning: Passing (type, 1) or '1type' as a synonym of type is deprecated; in a future version of numpy, it will be understood as (type, (1,)) / '(1,)type'.\n",
      "  np_resource = np.dtype([(\"resource\", np.ubyte, 1)])\n",
      "[nltk_data] Downloading package stopwords to\n",
      "[nltk_data]     /Users/animallya/nltk_data...\n",
      "[nltk_data]   Package stopwords is already up-to-date!\n"
     ]
    }
   ],
   "source": [
    "from sklearn.feature_extraction.text import CountVectorizer, TfidfVectorizer\n",
    "import nltk\n",
    "import keras\n",
    "import numpy as np\n",
    "from keras.preprocessing.text import Tokenizer\n",
    "from nltk.stem import PorterStemmer \n",
    "from nltk.lm import Vocabulary\n",
    "import glob\n",
    "import string\n",
    "import bs4 as bs\n",
    "import pandas as pd\n",
    "from collections import Counter\n",
    "import urllib.request\n",
    "import re\n",
    "from sklearn.utils import shuffle\n",
    "import nltk\n",
    "import multiprocessing\n",
    "import ndjson\n",
    "from sklearn import linear_model\n",
    "import tensorflow as tf\n",
    "from nltk.corpus import stopwords\n",
    "from sklearn.naive_bayes import MultinomialNB\n",
    "from sklearn.model_selection import train_test_split\n",
    "from keras.models import model_from_json\n",
    "from sklearn.neural_network import MLPClassifier\n",
    "from sklearn.linear_model import SGDClassifier\n",
    "from keras.models import Sequential\n",
    "from keras.layers import Dense, Dropout, Flatten, Activation\n",
    "from keras.layers import MaxPooling2D, Conv2D, GlobalAveragePooling2D, Bidirectional, LSTM\n",
    "from gensim.models import Word2Vec\n",
    "import pickle\n",
    "import nltk\n",
    "from keras.optimizers import Adam\n",
    "from keras.callbacks import EarlyStopping\n",
    "from keras.metrics import categorical_accuracy\n",
    "import ssl\n",
    "from google.cloud import storage\n",
    "%load_ext autotime\n",
    "from keras import backend as K\n",
    "import matplotlib.pyplot as plt\n",
    "%matplotlib inline\n",
    "np.random.seed(7)\n",
    "\n",
    "import warnings\n",
    "warnings.filterwarnings('ignore')\n",
    "\n",
    "try:\n",
    "    _create_unverified_https_context = ssl._create_unverified_context\n",
    "except AttributeError:\n",
    "    pass\n",
    "else:\n",
    "    ssl._create_default_https_context = _create_unverified_https_context\n",
    "\n",
    "nltk.download('stopwords')\n",
    "import os\n",
    "\n",
    "device = 'w'\n",
    "\n",
    "gpath = 'C:/Users/Ani/Desktop/NLP_project/key.json'\n",
    "ngram_size = 3\n",
    "\n",
    "if device=='m':\n",
    "    gpath = '/Users/animallya/Desktop/NLP_project/key.json'\n",
    "\n",
    "os.environ[\"GOOGLE_APPLICATION_CREDENTIALS\"] = gpath"
   ]
  },
  {
   "cell_type": "code",
   "execution_count": 2,
   "metadata": {},
   "outputs": [
    {
     "name": "stdout",
     "output_type": "stream",
     "text": [
      "[name: \"/device:CPU:0\"\n",
      "device_type: \"CPU\"\n",
      "memory_limit: 268435456\n",
      "locality {\n",
      "}\n",
      "incarnation: 5308251790121484179\n",
      "]\n",
      "time: 2.71 ms\n"
     ]
    }
   ],
   "source": [
    "from tensorflow.python.client import device_lib\n",
    "print(device_lib.list_local_devices())"
   ]
  },
  {
   "cell_type": "markdown",
   "metadata": {},
   "source": [
    "## Map tags to meanings and examples"
   ]
  },
  {
   "cell_type": "code",
   "execution_count": 3,
   "metadata": {},
   "outputs": [
    {
     "name": "stdout",
     "output_type": "stream",
     "text": [
      "time: 1.77 ms\n"
     ]
    }
   ],
   "source": [
    "tagmap = {\n",
    "'CC': 'coordinating conjunction',\n",
    "'CD': 'cardinal digit',\n",
    "'DT': 'determiner',\n",
    "'EX': 'existential there (like: “there is”)',\n",
    "'FW': 'foreign word',\n",
    "'IN': 'preposition/subordinating conjunction',\n",
    "'JJ' :'adjective ‘big’',\n",
    "'JJR' :'adjective, comparative ‘bigger’',\n",
    "'JJS': 'adjective, superlative ‘biggest’',\n",
    "'LS': 'list marker 1)',\n",
    "'MD': 'modal, could, will',\n",
    "'NN': 'noun, singular ex:‘desk',\n",
    "'NNS': 'noun plural ex:‘desks',\n",
    "'NNP': 'proper noun, singular ex:‘Harrison’',\n",
    "'NNPS':'proper noun, plural ex:‘Americans’',\n",
    "'PDT': 'predeterminer ex:‘all the kids’',\n",
    "'POS': 'possessive ending ex:parent’s',\n",
    "'PRP': 'personal pronoun ex:I, he, she',\n",
    "'PRP$':'possessive pronoun ex:my, his, hers',\n",
    "'RB': 'adverb ex:very, silently,',\n",
    "'RBR': 'adverb, comparative ex:better',\n",
    "'RBS': 'adverb, superlative ex:best',\n",
    "'RP': 'particle give up',\n",
    "'TO': 'to go ex:‘to’ the store.',\n",
    "'UH': 'interjection, ex:errrrrrrrm',\n",
    "'VB': 'verb, base form ex:take',\n",
    "'VBD': 'verb, past tense ex:took',\n",
    "'VBG': 'verb, gerund/present participle ex:taking',\n",
    "'VBN': 'verb, past participle ex:taken',\n",
    "'VBP': 'verb, sing. present, non-3d ex:take',\n",
    "'VBZ': 'verb, 3rd person sing. present ex:takes',\n",
    "'WDT': 'wh-determiner ex:which',\n",
    "'WP': 'wh-pronoun ex:who, what',\n",
    "'WP$': 'possessive wh-pronoun ex:whose',\n",
    "'WRB': 'wh-abverb ex:where, when'\n",
    "}"
   ]
  },
  {
   "cell_type": "code",
   "execution_count": 4,
   "metadata": {},
   "outputs": [
    {
     "name": "stdout",
     "output_type": "stream",
     "text": [
      "time: 6.16 ms\n"
     ]
    }
   ],
   "source": [
    "import sqlite3\n",
    "import pandas as pd\n",
    "\n",
    "def message_scrape(path, n):\n",
    "    conn = sqlite3.connect(path)\n",
    "    c = conn.cursor()\n",
    "    cmd1 = 'SELECT ROWID, text, handle_id, \\\n",
    "                datetime(date + strftime(\\'%s\\',\\'2001-01-01\\'), \\'unixepoch\\') as date_utc \\\n",
    "                FROM message T1 \\\n",
    "                INNER JOIN chat_message_join T2 \\\n",
    "                    ON T2.chat_id='+str(n)+ ' \\\n",
    "                    AND T1.ROWID=T2.message_id \\\n",
    "                ORDER BY T1.date'\n",
    "    c.execute(cmd1)\n",
    "    df_msg = pd.DataFrame(c.fetchall(), columns=['id', 'text', 'sender', 'time'])\n",
    "    corpus = df_msg.text.tolist()\n",
    "    corpus = ' '.join(corpus)\n",
    "    corpus = re.sub('[^a-zA-Z0-9]', ' ', corpus)\n",
    "    corpus = re.sub(r'\\s+', ' ', corpus)\n",
    "    corpus = corpus.lower()\n",
    "\n",
    "    return [corpus]"
   ]
  },
  {
   "cell_type": "markdown",
   "metadata": {},
   "source": [
    "## Web scraping data about AI\n"
   ]
  },
  {
   "cell_type": "code",
   "execution_count": 5,
   "metadata": {},
   "outputs": [
    {
     "name": "stdout",
     "output_type": "stream",
     "text": [
      "time: 1.92 ms\n"
     ]
    }
   ],
   "source": [
    "def web_scrape(urls):\n",
    "    corpuses = []\n",
    "    for url in urls:\n",
    "        scraped_data = urllib.request.urlopen('https://en.wikipedia.org/wiki/'+url)\n",
    "        article = scraped_data .read()\n",
    "\n",
    "        parsed_article = bs.BeautifulSoup(article,'lxml')\n",
    "\n",
    "        paragraphs = parsed_article.find_all('p')\n",
    "\n",
    "        article_text = \"\"\n",
    "\n",
    "        for p in paragraphs:\n",
    "            article_text += p.text\n",
    "\n",
    "        corpus = article_text.lower()\n",
    "        corpus = re.sub('[^a-zA-Z0-9]', ' ', corpus)\n",
    "        corpus = re.sub(r'\\s+', ' ', corpus)\n",
    "        corpuses.append(corpus)\n",
    "    return corpuses"
   ]
  },
  {
   "cell_type": "code",
   "execution_count": 6,
   "metadata": {},
   "outputs": [
    {
     "name": "stdout",
     "output_type": "stream",
     "text": [
      "time: 500 µs\n"
     ]
    }
   ],
   "source": [
    "#open AI GPT-2 data\n",
    "# client = storage.Client()\n",
    "# bucket = client.get_bucket('nlp_predictive_text')\n",
    "# blob = bucket.get_blob('data/webtext.test.jsonl')\n",
    "# json_data_string = blob.download_as_string()\n",
    "# train_data = ndjson.loads(json_data_string)[:50]\n",
    "# test_data = ndjson.loads(json_data_string)[51:52]"
   ]
  },
  {
   "cell_type": "code",
   "execution_count": 7,
   "metadata": {},
   "outputs": [
    {
     "name": "stdout",
     "output_type": "stream",
     "text": [
      "time: 1 ms\n"
     ]
    }
   ],
   "source": [
    "# def preprocess(documents):\n",
    "#     corpus = [re.sub(r'\\s+', ' ', re.sub('[^a-zA-Z,.:;]', ' ', data['text'].lower())) for data in documents]\n",
    "#     return corpus"
   ]
  },
  {
   "cell_type": "code",
   "execution_count": 8,
   "metadata": {},
   "outputs": [
    {
     "name": "stdout",
     "output_type": "stream",
     "text": [
      "time: 396 µs\n"
     ]
    }
   ],
   "source": [
    "# corpus = preprocess(train_data)\n",
    "# test_corpus = preprocess(test_data)"
   ]
  },
  {
   "cell_type": "code",
   "execution_count": 9,
   "metadata": {},
   "outputs": [
    {
     "name": "stdout",
     "output_type": "stream",
     "text": [
      "time: 2.11 ms\n"
     ]
    }
   ],
   "source": [
    "def embed(corpus):\n",
    "    sentences = nltk.sent_tokenize(' '.join(corpus))\n",
    "    all_words = [nltk.word_tokenize(sent) for sent in sentences]\n",
    "    for i in range(len(all_words)):\n",
    "        all_words[i] = [w for w in all_words[i] if w not in stopwords.words('english') and w not in string.punctuation]\n",
    "    model = Word2Vec(all_words, min_count=3, workers=multiprocessing.cpu_count())\n",
    "    return model\n",
    "\n",
    "#embeddings = embed(corpus)"
   ]
  },
  {
   "cell_type": "markdown",
   "metadata": {},
   "source": [
    "## Tf-idf trigram prediction model (continuous Deep Learning)"
   ]
  },
  {
   "cell_type": "code",
   "execution_count": 10,
   "metadata": {},
   "outputs": [
    {
     "name": "stdout",
     "output_type": "stream",
     "text": [
      "[('bet', 4232), ('i', 398), ('the', 300), ('to', 233), ('you', 197), ('it', 155), ('and', 148), ('a', 145), ('on', 108), ('is', 104)]\n",
      "time: 136 ms\n"
     ]
    }
   ],
   "source": [
    "corpus = message_scrape(path='/Users/animallya/Desktop/chat.db',n=2)#web_scrape(urls = ['Artificial_intelligence'])\n",
    "words = nltk.word_tokenize(' '.join(corpus))\n",
    "global_vocab = list(Vocabulary(words))\n",
    "vectorizer = TfidfVectorizer(vocabulary=global_vocab)\n",
    "vectorizer.fit(words)\n",
    "#X = vectorizer.fit_transform(corpus)\n",
    "feats = vectorizer.get_feature_names()\n",
    "Counter = Counter(words)\n",
    "print(Counter.most_common(10))"
   ]
  },
  {
   "cell_type": "code",
   "execution_count": 11,
   "metadata": {},
   "outputs": [
    {
     "name": "stdout",
     "output_type": "stream",
     "text": [
      "time: 1.9 ms\n"
     ]
    }
   ],
   "source": [
    "def preprocess(words, flatten=True):\n",
    "    \n",
    "    Y = [feats.index(words[i]) for i in range(ngram_size, len(words))]\n",
    "    if flatten == True:\n",
    "        X = [vectorizer.transform(words[i-ngram_size:i]).toarray().flatten() for i in range(ngram_size, len(words))] \n",
    "    else:\n",
    "        X = [vectorizer.transform(words[i-ngram_size:i]).toarray() for i in range(ngram_size, len(words))]\n",
    "    Y = [keras.utils.to_categorical(y,len(feats)) for y in Y]\n",
    "    #maxent model allows for label encoded targets\n",
    "    #CNN wants categorical targets\n",
    "    return np.array(X),np.array(Y)"
   ]
  },
  {
   "cell_type": "code",
   "execution_count": 12,
   "metadata": {
    "scrolled": true
   },
   "outputs": [
    {
     "name": "stdout",
     "output_type": "stream",
     "text": [
      "1794\n",
      "time: 1.83 ms\n"
     ]
    }
   ],
   "source": [
    "print(len(global_vocab))"
   ]
  },
  {
   "cell_type": "code",
   "execution_count": 13,
   "metadata": {},
   "outputs": [
    {
     "name": "stdout",
     "output_type": "stream",
     "text": [
      "time: 1.35 ms\n"
     ]
    }
   ],
   "source": [
    "sequence_model =  MLPClassifier(n_iter_no_change =2, verbose=1, activation='tanh', learning_rate='constant', alpha=1e-4, random_state=1, warm_start='full') #picked 60 as limit because it overfits after"
   ]
  },
  {
   "cell_type": "code",
   "execution_count": 14,
   "metadata": {},
   "outputs": [
    {
     "name": "stdout",
     "output_type": "stream",
     "text": [
      "time: 5.76 s\n"
     ]
    }
   ],
   "source": [
    "#sequence_model, _ = update_model(['Artificial_intelligence'], sequence_model)\n",
    "X, y = preprocess(words, flatten=False)\n",
    "X, y = shuffle(X, y, random_state=42)"
   ]
  },
  {
   "cell_type": "code",
   "execution_count": 15,
   "metadata": {},
   "outputs": [
    {
     "name": "stdout",
     "output_type": "stream",
     "text": [
      "time: 2.29 ms\n"
     ]
    }
   ],
   "source": [
    "def bidirectional_lstm_model(seq_length, vocab_size):\n",
    "    print('Build LSTM model.')\n",
    "    model = Sequential()\n",
    "    model.add(Bidirectional(LSTM(512, dropout=0.1,\n",
    "                     recurrent_dropout=0.5,\n",
    "                     return_sequences=True,\n",
    "                     activation=\"relu\",\n",
    "                     input_shape=(seq_length, vocab_size))))\n",
    "    #model.add(Dropout(0.5))\n",
    "    model.add(Dense(vocab_size))\n",
    "    model.add(Activation('softmax'))\n",
    "    \n",
    "    optimizer = Adam(lr=0.001)\n",
    "    callbacks=[EarlyStopping(patience=2, monitor='val_loss')]\n",
    "    model.compile(loss='categorical_crossentropy', optimizer=optimizer, metrics=[categorical_accuracy])\n",
    "    print(\"model built!\")\n",
    "    return model"
   ]
  },
  {
   "cell_type": "code",
   "execution_count": 16,
   "metadata": {},
   "outputs": [
    {
     "name": "stdout",
     "output_type": "stream",
     "text": [
      "time: 2.56 ms\n"
     ]
    }
   ],
   "source": [
    "def update_model(id, model):\n",
    "    #corpus = web_scrape(urls)\n",
    "    corpus = message_scrape(path='/Users/animallya/Desktop/chat.db',n=id)\n",
    "    words = nltk.word_tokenize(' '.join(corpus))\n",
    "    words = [word for word in words if word in global_vocab]\n",
    "    X, y = preprocess(words, flatten=False)\n",
    "    X, y = shuffle(X, y, random_state=42)\n",
    "    history_rnn = model.fit(X,y, batch_size=32, shuffle=True, epochs=13, validation_split=0.1)\n",
    "    print(\"fit complete\")\n",
    "\n",
    "    return words, history_rnn"
   ]
  },
  {
   "cell_type": "code",
   "execution_count": 104,
   "metadata": {},
   "outputs": [
    {
     "name": "stdout",
     "output_type": "stream",
     "text": [
      "Build LSTM model.\n",
      "model built!\n",
      "time: 13.6 ms\n"
     ]
    }
   ],
   "source": [
    "rnn_model = bidirectional_lstm_model(X.shape[1], X.shape[2])"
   ]
  },
  {
   "cell_type": "code",
   "execution_count": 105,
   "metadata": {},
   "outputs": [
    {
     "name": "stdout",
     "output_type": "stream",
     "text": [
      "Train on 12702 samples, validate on 1412 samples\n",
      "Epoch 1/20\n",
      "12702/12702 [==============================] - 29s 2ms/step - loss: 4.7069 - categorical_accuracy: 0.3114 - val_loss: 4.5053 - val_categorical_accuracy: 0.3152\n",
      "Epoch 2/20\n",
      "12702/12702 [==============================] - 22s 2ms/step - loss: 4.3439 - categorical_accuracy: 0.3248 - val_loss: 4.5556 - val_categorical_accuracy: 0.3152\n",
      "Epoch 3/20\n",
      "12702/12702 [==============================] - 28s 2ms/step - loss: 4.2621 - categorical_accuracy: 0.3248 - val_loss: 4.5715 - val_categorical_accuracy: 0.3144\n",
      "Epoch 4/20\n",
      "12702/12702 [==============================] - 25s 2ms/step - loss: 4.1887 - categorical_accuracy: 0.3266 - val_loss: 4.6493 - val_categorical_accuracy: 0.3166\n",
      "Epoch 5/20\n",
      "12702/12702 [==============================] - 24s 2ms/step - loss: 4.1106 - categorical_accuracy: 0.3312 - val_loss: 4.6568 - val_categorical_accuracy: 0.3307\n",
      "Epoch 6/20\n",
      "12702/12702 [==============================] - 24s 2ms/step - loss: 4.0209 - categorical_accuracy: 0.3423 - val_loss: 4.6715 - val_categorical_accuracy: 0.3442\n",
      "Epoch 7/20\n",
      "12702/12702 [==============================] - 28s 2ms/step - loss: 3.9144 - categorical_accuracy: 0.3497 - val_loss: 4.6771 - val_categorical_accuracy: 0.3477\n",
      "Epoch 8/20\n",
      "12702/12702 [==============================] - 25s 2ms/step - loss: 3.7949 - categorical_accuracy: 0.3584 - val_loss: 4.7484 - val_categorical_accuracy: 0.3555\n",
      "Epoch 9/20\n",
      "12702/12702 [==============================] - 25s 2ms/step - loss: 3.6732 - categorical_accuracy: 0.3681 - val_loss: 4.8818 - val_categorical_accuracy: 0.3569\n",
      "Epoch 10/20\n",
      "12702/12702 [==============================] - 25s 2ms/step - loss: 3.5245 - categorical_accuracy: 0.3823 - val_loss: 4.9886 - val_categorical_accuracy: 0.3612\n",
      "Epoch 11/20\n",
      "12702/12702 [==============================] - 26s 2ms/step - loss: 3.3957 - categorical_accuracy: 0.3952 - val_loss: 4.8986 - val_categorical_accuracy: 0.3676\n",
      "Epoch 12/20\n",
      "12702/12702 [==============================] - 25s 2ms/step - loss: 3.2538 - categorical_accuracy: 0.4076 - val_loss: 5.0860 - val_categorical_accuracy: 0.3640\n",
      "Epoch 13/20\n",
      "12702/12702 [==============================] - 30s 2ms/step - loss: 3.1219 - categorical_accuracy: 0.4200 - val_loss: 5.2935 - val_categorical_accuracy: 0.3647\n",
      "Epoch 14/20\n",
      "12702/12702 [==============================] - 28s 2ms/step - loss: 2.9883 - categorical_accuracy: 0.4309 - val_loss: 5.3972 - val_categorical_accuracy: 0.3704\n",
      "Epoch 15/20\n",
      "12702/12702 [==============================] - 26s 2ms/step - loss: 2.8396 - categorical_accuracy: 0.4506 - val_loss: 5.6869 - val_categorical_accuracy: 0.3704\n",
      "Epoch 16/20\n",
      "12702/12702 [==============================] - 25s 2ms/step - loss: 2.6902 - categorical_accuracy: 0.4674 - val_loss: 5.7963 - val_categorical_accuracy: 0.3704\n",
      "Epoch 17/20\n",
      "12702/12702 [==============================] - 27s 2ms/step - loss: 2.5642 - categorical_accuracy: 0.4809 - val_loss: 6.1239 - val_categorical_accuracy: 0.3690\n",
      "Epoch 18/20\n",
      "12702/12702 [==============================] - 26s 2ms/step - loss: 2.4157 - categorical_accuracy: 0.4990 - val_loss: 6.1853 - val_categorical_accuracy: 0.3683\n",
      "Epoch 19/20\n",
      "12702/12702 [==============================] - 26s 2ms/step - loss: 2.2742 - categorical_accuracy: 0.5181 - val_loss: 6.5056 - val_categorical_accuracy: 0.3697\n",
      "Epoch 20/20\n",
      "12702/12702 [==============================] - 25s 2ms/step - loss: 2.1617 - categorical_accuracy: 0.5344 - val_loss: 6.5896 - val_categorical_accuracy: 0.3654\n",
      "time: 8min 46s\n"
     ]
    }
   ],
   "source": [
    "history_rnn = rnn_model.fit(X,y, batch_size=32, shuffle=True, epochs=20, validation_split=0.1)\n",
    "#sequence_model, _ = update_model(2, sequence_model)"
   ]
  },
  {
   "cell_type": "code",
   "execution_count": 106,
   "metadata": {},
   "outputs": [
    {
     "data": {
      "image/png": "[encoded data removed]",
      "text/plain": [
       "<Figure size 432x288 with 1 Axes>"
      ]
     },
     "metadata": {
      "needs_background": "light"
     },
     "output_type": "display_data"
    },
    {
     "name": "stdout",
     "output_type": "stream",
     "text": [
      "time: 217 ms\n"
     ]
    }
   ],
   "source": [
    "#plt.plot(sequence_model.loss_curve_)\n",
    "plt.plot(history_rnn.history['val_categorical_accuracy'])\n",
    "plt.title('Validation acc')\n",
    "plt.ylabel('Val acc')\n",
    "plt.xlabel('Epoch')\n",
    "plt.show()"
   ]
  },
  {
   "cell_type": "code",
   "execution_count": 77,
   "metadata": {},
   "outputs": [
    {
     "name": "stdout",
     "output_type": "stream",
     "text": [
      "Train on 4136 samples, validate on 460 samples\n",
      "Epoch 1/13\n",
      "4136/4136 [==============================] - 9s 2ms/step - loss: 5.9780 - categorical_accuracy: 0.0919 - val_loss: 5.3030 - val_categorical_accuracy: 0.1239\n",
      "Epoch 2/13\n",
      "4136/4136 [==============================] - 9s 2ms/step - loss: 5.0869 - categorical_accuracy: 0.1342 - val_loss: 5.1955 - val_categorical_accuracy: 0.1304\n",
      "Epoch 3/13\n",
      "4136/4136 [==============================] - 9s 2ms/step - loss: 4.6883 - categorical_accuracy: 0.1596 - val_loss: 5.1803 - val_categorical_accuracy: 0.1283\n",
      "Epoch 4/13\n",
      "4136/4136 [==============================] - 10s 2ms/step - loss: 4.3840 - categorical_accuracy: 0.1881 - val_loss: 5.2265 - val_categorical_accuracy: 0.1239\n",
      "Epoch 5/13\n",
      "4136/4136 [==============================] - 10s 2ms/step - loss: 4.0883 - categorical_accuracy: 0.2045 - val_loss: 5.2684 - val_categorical_accuracy: 0.1304\n",
      "Epoch 6/13\n",
      "4136/4136 [==============================] - 12s 3ms/step - loss: 3.8012 - categorical_accuracy: 0.2372 - val_loss: 5.3631 - val_categorical_accuracy: 0.1283\n",
      "Epoch 7/13\n",
      "4136/4136 [==============================] - 9s 2ms/step - loss: 3.5300 - categorical_accuracy: 0.2623 - val_loss: 5.5343 - val_categorical_accuracy: 0.1283\n",
      "Epoch 8/13\n",
      "4136/4136 [==============================] - 9s 2ms/step - loss: 3.2085 - categorical_accuracy: 0.3230 - val_loss: 5.6112 - val_categorical_accuracy: 0.1239\n",
      "Epoch 9/13\n",
      "4136/4136 [==============================] - 9s 2ms/step - loss: 2.9112 - categorical_accuracy: 0.3600 - val_loss: 5.7974 - val_categorical_accuracy: 0.1304\n",
      "Epoch 10/13\n",
      "4136/4136 [==============================] - 8s 2ms/step - loss: 2.6400 - categorical_accuracy: 0.4055 - val_loss: 6.0054 - val_categorical_accuracy: 0.1217\n",
      "Epoch 11/13\n",
      "4136/4136 [==============================] - 8s 2ms/step - loss: 2.3662 - categorical_accuracy: 0.4468 - val_loss: 6.1888 - val_categorical_accuracy: 0.1174\n",
      "Epoch 12/13\n",
      "4136/4136 [==============================] - 9s 2ms/step - loss: 2.1319 - categorical_accuracy: 0.4942 - val_loss: 6.3984 - val_categorical_accuracy: 0.1304\n",
      "Epoch 13/13\n",
      "4136/4136 [==============================] - 8s 2ms/step - loss: 1.9203 - categorical_accuracy: 0.5351 - val_loss: 6.5646 - val_categorical_accuracy: 0.1283\n",
      "fit complete\n",
      "time: 2min 1s\n"
     ]
    }
   ],
   "source": [
    "#sequence_model, updated_words = update_model(['Natural_language_processing'], sequence_model, train=False)\n",
    "updated_words, history_update1 = update_model(3, rnn_model)"
   ]
  },
  {
   "cell_type": "code",
   "execution_count": 78,
   "metadata": {},
   "outputs": [
    {
     "data": {
      "image/png": "[encoded data removed]",
      "text/plain": [
       "<Figure size 432x288 with 1 Axes>"
      ]
     },
     "metadata": {
      "needs_background": "light"
     },
     "output_type": "display_data"
    },
    {
     "name": "stdout",
     "output_type": "stream",
     "text": [
      "time: 186 ms\n"
     ]
    }
   ],
   "source": [
    "plt.plot(history_update1.history['val_categorical_accuracy'])\n",
    "plt.title('Validation acc')\n",
    "plt.ylabel('Val acc')\n",
    "plt.xlabel('Epoch')\n",
    "plt.show()"
   ]
  },
  {
   "cell_type": "markdown",
   "metadata": {},
   "source": [
    "## Pos-tagging using trigram max-ent model"
   ]
  },
  {
   "cell_type": "code",
   "execution_count": null,
   "metadata": {},
   "outputs": [],
   "source": [
    "from sklearn.preprocessing import LabelEncoder\n",
    "from sklearn.preprocessing import OneHotEncoder\n",
    "\n",
    "#encoding sets of 3 tags into flattened vector that's one-hot encoded\n",
    "\n",
    "label_encoder = LabelEncoder()\n",
    "onehot_encoder = OneHotEncoder(sparse=False)\n",
    "\n",
    "xtemp = [tag[1] for tag in nltk.pos_tag(words)]\n",
    "int_encoded = label_encoder.fit_transform(xtemp)\n",
    "encoded = onehot_encoder.fit_transform(int_encoded.reshape(len(int_encoded), 1))\n",
    "\n",
    "X_encoded = []\n",
    "y_encoded = []\n",
    "\n",
    "for i in range(ngram_size,len(encoded)):\n",
    "    x_encoded = encoded[i-ngram_size:i].flatten().astype(int)\n",
    "    X_encoded.append(x_encoded)\n",
    "    y_encoded.append(int_encoded[i])\n",
    "    \n",
    "y_encoded = np.array(y_encoded)\n",
    "X_encoded = np.array(X_encoded)"
   ]
  },
  {
   "cell_type": "code",
   "execution_count": null,
   "metadata": {},
   "outputs": [],
   "source": [
    "y_encoded.shape"
   ]
  },
  {
   "cell_type": "code",
   "execution_count": null,
   "metadata": {},
   "outputs": [],
   "source": [
    "tag_model = linear_model.LogisticRegression(multi_class='multinomial',solver='saga', penalty = 'l1', max_iter=15, n_jobs=-1,verbose=2)\n",
    "tag_model.fit(X_encoded, y_encoded)"
   ]
  },
  {
   "cell_type": "markdown",
   "metadata": {},
   "source": [
    "## CNN-Deep Learning model semantic understanding"
   ]
  },
  {
   "cell_type": "code",
   "execution_count": null,
   "metadata": {},
   "outputs": [],
   "source": [
    "X_train,y_train = preprocess(words, deep_learning=True)"
   ]
  },
  {
   "cell_type": "code",
   "execution_count": null,
   "metadata": {},
   "outputs": [],
   "source": [
    "X_train_cpy = X_train.copy().reshape(X_train.shape[0],X_train.shape[1],X_train.shape[2],1)\n",
    "X_train, y_train = shuffle(X_train_cpy, y_train, random_state=42)\n",
    "#y_train = y_train.reshape(y_train.shape[0],y_train.shape[1],1)"
   ]
  },
  {
   "cell_type": "code",
   "execution_count": null,
   "metadata": {},
   "outputs": [],
   "source": [
    "print(X_train_cpy.shape,y_train.shape)"
   ]
  },
  {
   "cell_type": "code",
   "execution_count": null,
   "metadata": {},
   "outputs": [],
   "source": [
    "print(len(feats))"
   ]
  },
  {
   "cell_type": "code",
   "execution_count": null,
   "metadata": {},
   "outputs": [],
   "source": [
    "cnn_model = Sequential()\n",
    "cnn_model.add(Conv2D(32, kernel_size=(1, 1),\n",
    "                 activation='tanh',\n",
    "                 input_shape=(X_train.shape[1],X_train.shape[2],X_train.shape[3])))\n",
    "cnn_model.add(Conv2D(64, (3, 3), activation='tanh'))\n",
    "#cnn_model.add(MaxPooling2D(pool_size=(2, 2)))\n",
    "cnn_model.add(Dropout(0.25))\n",
    "cnn_model.add(Flatten())\n",
    "cnn_model.add(Dense(512, activation='tanh'))\n",
    "cnn_model.add(Dropout(0.5))\n",
    "cnn_model.add(Dense(len(feats), activation='softmax'))\n",
    "cnn_model.compile(loss=keras.losses.categorical_crossentropy,\n",
    "              optimizer=keras.optimizers.Adadelta(),\n",
    "              metrics=['accuracy'])"
   ]
  },
  {
   "cell_type": "code",
   "execution_count": null,
   "metadata": {},
   "outputs": [],
   "source": [
    "cnn_history = cnn_model.fit(X_train, y_train,\n",
    "          batch_size=256,\n",
    "          epochs=40,\n",
    "          verbose=1)"
   ]
  },
  {
   "cell_type": "code",
   "execution_count": null,
   "metadata": {},
   "outputs": [],
   "source": [
    "plt.plot(cnn_history.history['accuracy'])\n",
    "plt.title('Training')\n",
    "plt.ylabel('Training accuracy')\n",
    "plt.xlabel('Epoch')\n",
    "plt.legend(['Train'], loc='upper left')\n",
    "plt.show()"
   ]
  },
  {
   "cell_type": "markdown",
   "metadata": {},
   "source": [
    "CNN does equally well in prediction quality, trained very quickly on GPU but the saved model is 1.6GB which is unfeasable to store on a mobile platform. It also doesn't support continous learning."
   ]
  },
  {
   "cell_type": "markdown",
   "metadata": {},
   "source": [
    "### RNN"
   ]
  },
  {
   "cell_type": "code",
   "execution_count": 32,
   "metadata": {},
   "outputs": [
    {
     "name": "stdout",
     "output_type": "stream",
     "text": [
      "time: 2.27 ms\n"
     ]
    }
   ],
   "source": [
    "def bidirectional_lstm_model(seq_length, vocab_size):\n",
    "    print('Build LSTM model.')\n",
    "    model = Sequential()\n",
    "    model.add(Bidirectional(LSTM(rnn_size, activation=\"relu\"),input_shape=(seq_length, vocab_size)))\n",
    "    model.add(Dropout(0.5))\n",
    "    model.add(Dense(vocab_size))\n",
    "    model.add(Activation('softmax'))\n",
    "    \n",
    "    optimizer = Adam(lr=learning_rate)\n",
    "    callbacks=[EarlyStopping(patience=2, monitor='val_loss')]\n",
    "    model.compile(loss='categorical_crossentropy', optimizer=optimizer, metrics=[categorical_accuracy])\n",
    "    print(\"model built!\")\n",
    "    return model"
   ]
  },
  {
   "cell_type": "code",
   "execution_count": 33,
   "metadata": {},
   "outputs": [
    {
     "ename": "NameError",
     "evalue": "name 'X_train' is not defined",
     "output_type": "error",
     "traceback": [
      "\u001b[0;31m---------------------------------------------------------------------------\u001b[0m",
      "\u001b[0;31mNameError\u001b[0m                                 Traceback (most recent call last)",
      "\u001b[0;32m<ipython-input-33-1d57cc9f93a5>\u001b[0m in \u001b[0;36m<module>\u001b[0;34m\u001b[0m\n\u001b[1;32m      2\u001b[0m \u001b[0mlearning_rate\u001b[0m \u001b[0;34m=\u001b[0m \u001b[0;36m0.001\u001b[0m \u001b[0;31m#learning rate\u001b[0m\u001b[0;34m\u001b[0m\u001b[0;34m\u001b[0m\u001b[0m\n\u001b[1;32m      3\u001b[0m \u001b[0;34m\u001b[0m\u001b[0m\n\u001b[0;32m----> 4\u001b[0;31m \u001b[0mrnn_model\u001b[0m \u001b[0;34m=\u001b[0m \u001b[0mbidirectional_lstm_model\u001b[0m\u001b[0;34m(\u001b[0m\u001b[0mX_train\u001b[0m\u001b[0;34m.\u001b[0m\u001b[0mshape\u001b[0m\u001b[0;34m[\u001b[0m\u001b[0;36m1\u001b[0m\u001b[0;34m]\u001b[0m\u001b[0;34m,\u001b[0m \u001b[0mX_train\u001b[0m\u001b[0;34m.\u001b[0m\u001b[0mshape\u001b[0m\u001b[0;34m[\u001b[0m\u001b[0;36m2\u001b[0m\u001b[0;34m]\u001b[0m\u001b[0;34m)\u001b[0m\u001b[0;34m\u001b[0m\u001b[0;34m\u001b[0m\u001b[0m\n\u001b[0m\u001b[1;32m      5\u001b[0m \u001b[0;31m#md.summary()\u001b[0m\u001b[0;34m\u001b[0m\u001b[0;34m\u001b[0m\u001b[0;34m\u001b[0m\u001b[0m\n",
      "\u001b[0;31mNameError\u001b[0m: name 'X_train' is not defined"
     ]
    },
    {
     "name": "stdout",
     "output_type": "stream",
     "text": [
      "time: 23.9 ms\n"
     ]
    }
   ],
   "source": [
    "rnn_size = 256 # size of RNN\n",
    "learning_rate = 0.001 #learning rate\n",
    "\n",
    "rnn_model = bidirectional_lstm_model(X.shape[1], X.shape[2])\n",
    "#md.summary()"
   ]
  },
  {
   "cell_type": "code",
   "execution_count": null,
   "metadata": {},
   "outputs": [],
   "source": [
    "batch_size = 32\n",
    "num_epochs = 20 # starts overfitting after 20\n",
    "\n",
    "# callbacks=[EarlyStopping(patience=4, monitor='val_loss'),\n",
    "#            ModelCheckpoint(filepath=save_dir + \"/\" + 'my_model_gen_sentences.{epoch:02d}-{val_loss:.2f}.hdf5',\\\n",
    "#                            monitor='val_loss', verbose=0, mode='auto', period=2)]\n",
    "#fit the model\n",
    "history_rnn = md.fit(X_train, y_train,\n",
    "                 batch_size=batch_size,\n",
    "                 shuffle=True,\n",
    "                 epochs=num_epochs,\n",
    "#                  callbacks=callbacks,\n",
    "                 validation_split=0.1)"
   ]
  },
  {
   "cell_type": "code",
   "execution_count": null,
   "metadata": {},
   "outputs": [],
   "source": [
    "plt.plot(history_rnn.history['categorical_accuracy'])\n",
    "plt.title('Training')\n",
    "plt.ylabel('Training accuracy')\n",
    "plt.xlabel('Epoch')\n",
    "plt.legend(['Train'], loc='upper left')\n",
    "plt.show()"
   ]
  },
  {
   "cell_type": "markdown",
   "metadata": {},
   "source": [
    "RNNs excelled in sequential predictions but lacked contextual understanding. It also took about 90 minutes to fit the data that MLP did in 5 minutes. Since we don't always want to wait that long for a model to be trained on a mobile phone, it might be a last resort. Also doesn't support continous learning."
   ]
  },
  {
   "cell_type": "markdown",
   "metadata": {},
   "source": [
    "### Saving all 3 models"
   ]
  },
  {
   "cell_type": "code",
   "execution_count": 24,
   "metadata": {},
   "outputs": [
    {
     "name": "stdout",
     "output_type": "stream",
     "text": [
      "Saved model to disk\n",
      "time: 342 ms\n"
     ]
    }
   ],
   "source": [
    "\n",
    "def save_model(model, model_name):\n",
    "    model_json = model.to_json()\n",
    "    with open(\"savefiles/\"+model_name+\".json\", \"w\") as json_file:\n",
    "        json_file.write(model_json)\n",
    "\n",
    "    model.save_weights(\"savefiles/\"+model_name+\"_weights.h5\")\n",
    "    print(\"Saved model to disk\")\n",
    "\n",
    "save_model(rnn_model,'rnn_model')\n",
    "\n",
    "# filename = 'savefiles/wordMLPpredictor.sav'\n",
    "# pickle.dump(sequence_model, open(filename, 'wb'))\n",
    "\n",
    "# filename = 'savefiles/tagmaxent.sav'\n",
    "# pickle.dump(tag_model, open(filename, 'wb'))\n",
    "\n",
    "# filename = 'savefiles/CNNpredictor.sav'\n",
    "# pickle.dump(cnn_model, open(filename, 'wb'))\n",
    "\n",
    "# filename = 'savefiles/rnnModel.sav'\n",
    "# pickle.dump(rnn_model, open(filename, 'wb'))"
   ]
  },
  {
   "cell_type": "markdown",
   "metadata": {},
   "source": [
    "# TESTING\n"
   ]
  },
  {
   "cell_type": "code",
   "execution_count": 25,
   "metadata": {},
   "outputs": [
    {
     "name": "stdout",
     "output_type": "stream",
     "text": [
      "Loaded model from disk\n",
      "time: 820 ms\n"
     ]
    }
   ],
   "source": [
    "#sequence_model = pickle.load(open('savefiles/wordMLPpredictor.sav','rb'))\n",
    "#tag_model = pickle.load(open('savefiles/tagmaxent.sav', 'rb'))\n",
    "# cnn_model = pickle.load(open('savefiles/CNNpredictor.sav', 'rb'))\n",
    "\n",
    "def load_model(model_name):\n",
    "    json_file = open(\"savefiles/\"+model_name+\".json\")\n",
    "    loaded_model_json = json_file.read()\n",
    "    json_file.close()\n",
    "    model = model_from_json(loaded_model_json)\n",
    "    model.compile(loss='categorical_crossentropy', optimizer=Adam(lr=0.001), metrics=[categorical_accuracy])\n",
    "    # load weights into new model\n",
    "    model.load_weights(\"savefiles/\"+model_name+\"_weights.h5\")\n",
    "    print(\"Loaded model from disk\")\n",
    "    return model\n",
    "\n",
    "rnn_model = load_model('rnn_model')"
   ]
  },
  {
   "cell_type": "code",
   "execution_count": 19,
   "metadata": {},
   "outputs": [
    {
     "name": "stdout",
     "output_type": "stream",
     "text": [
      "time: 2.32 ms\n"
     ]
    }
   ],
   "source": [
    "def input_tag_to_prediction(inp):\n",
    "    words = nltk.word_tokenize(inp)\n",
    "    tags = [tag[1] for tag in nltk.pos_tag(words)]\n",
    "    integer_encoded = label_encoder.transform(tags)\n",
    "    X_encoded = onehot_encoder.transform(integer_encoded.reshape(len(integer_encoded), 1)).flatten()\n",
    "    possible_predictions = tag_model.predict_proba(X_encoded.reshape(1, -1))[0]\n",
    "    indices = (-possible_predictions).argsort()[:3]\n",
    "    return [label_encoder.inverse_transform([idx])[0] for idx in indices]"
   ]
  },
  {
   "cell_type": "code",
   "execution_count": 20,
   "metadata": {},
   "outputs": [
    {
     "name": "stdout",
     "output_type": "stream",
     "text": [
      "time: 601 µs\n"
     ]
    }
   ],
   "source": [
    "def prediction_union(sent):\n",
    "    pw = input_word_to_prediction(sent.lower())#, input_tag_to_prediction(sent)\n",
    "    return pw#, pt[0]"
   ]
  },
  {
   "cell_type": "code",
   "execution_count": 21,
   "metadata": {},
   "outputs": [
    {
     "name": "stdout",
     "output_type": "stream",
     "text": [
      "time: 1.32 ms\n"
     ]
    }
   ],
   "source": [
    "def rnn_predict(sent):\n",
    "    words = nltk.word_tokenize(sent.lower())\n",
    "    x = np.array(vectorizer.transform(words).toarray())\n",
    "    words_tf = x.reshape(1,x.shape[0],x.shape[1])\n",
    "    y_pred = rnn_model.predict(words_tf)[0]\n",
    "    indices = (-y_pred).argsort()[:3]\n",
    "    return [feats[index] for index in indices]"
   ]
  },
  {
   "cell_type": "code",
   "execution_count": 22,
   "metadata": {},
   "outputs": [
    {
     "name": "stdout",
     "output_type": "stream",
     "text": [
      "time: 1.45 ms\n"
     ]
    }
   ],
   "source": [
    "def DLpredict(sent):\n",
    "    words = nltk.word_tokenize(sent.lower())\n",
    "    x = np.array(vectorizer.transform(words).toarray())\n",
    "    x = x.reshape(1,x.shape[0],x.shape[1],1)\n",
    "    y_pred = cnn_model.predict(x)[0]\n",
    "    indices = (-y_pred).argsort()[:3]\n",
    "    return [feats[index] for index in indices]"
   ]
  },
  {
   "cell_type": "code",
   "execution_count": 23,
   "metadata": {},
   "outputs": [
    {
     "name": "stdout",
     "output_type": "stream",
     "text": [
      "time: 1.23 ms\n"
     ]
    }
   ],
   "source": [
    "def input_word_to_prediction(inp):\n",
    "    words = nltk.word_tokenize(inp)\n",
    "    words_tf = np.array(vectorizer.transform(words).toarray()).flatten().reshape(1, -1)\n",
    "    print(words_tf.shape)\n",
    "    possible_predictions = sequence_model.predict_proba(words_tf)[0]\n",
    "    print(sorted(possible_predictions)[-3:])\n",
    "    indices = (possible_predictions).argsort()[-3:]\n",
    "    return [feats[idx] for idx in indices]"
   ]
  },
  {
   "cell_type": "code",
   "execution_count": 24,
   "metadata": {},
   "outputs": [
    {
     "name": "stdout",
     "output_type": "stream",
     "text": [
      "time: 1.33 ms\n"
     ]
    }
   ],
   "source": [
    "def run(sent):\n",
    "    out = sent\n",
    "    while True:\n",
    "        print(out)\n",
    "        #pw = prediction_union(sent)\n",
    "        #cw = DLpredict(sent)\n",
    "        rw = rnn_predict(sent)\n",
    "        #print(\"predictions: \"+str(pw))#.union(cw))+\" -> model suggests a \"+str(tagmap[pt]))\n",
    "        #print(pw)\n",
    "        #print(cw)\n",
    "        print(rw)\n",
    "        inp = input()\n",
    "        if inp==\"exit\":\n",
    "            return out\n",
    "        out+= \" \" +inp\n",
    "        l = len(inp.split())\n",
    "        sent = \" \".join(nltk.word_tokenize(sent)[l:]+[inp])\n",
    "    print(out)"
   ]
  },
  {
   "cell_type": "code",
   "execution_count": 108,
   "metadata": {},
   "outputs": [
    {
     "name": "stdout",
     "output_type": "stream",
     "text": [
      "i will go\n",
      "['to', 'up', 'somewhere']\n",
      "to\n",
      "i will go to\n",
      "['get', 'campus', 'office']\n",
      "office\n",
      "i will go to office\n",
      "['hours', 'up', 'to']\n",
      "hours\n",
      "i will go to office hours\n",
      "['so', 'i', 'that']\n",
      "so\n",
      "i will go to office hours so\n",
      "['ll', 'i', 'have']\n",
      "that\n",
      "i will go to office hours so that\n",
      "['s', 'll', 'have']\n",
      "'s\n",
      "i will go to office hours so that 's\n",
      "['ll', 'have', 'why']\n",
      "why\n",
      "i will go to office hours so that 's why\n",
      "['i', 'm', 'do']\n",
      "i\n",
      "i will go to office hours so that 's why i\n",
      "['don', 'm', 'can']\n",
      "don\n",
      "i will go to office hours so that 's why i don\n",
      "['t', 'on', 'here']\n",
      "exit\n",
      "time: 45 s\n"
     ]
    }
   ],
   "source": [
    "out = run(\"i will go\")\n",
    "#i will be home by"
   ]
  },
  {
   "cell_type": "code",
   "execution_count": null,
   "metadata": {},
   "outputs": [],
   "source": [
    "embeddings.most_similar('natural')"
   ]
  },
  {
   "cell_type": "code",
   "execution_count": 38,
   "metadata": {},
   "outputs": [
    {
     "name": "stdout",
     "output_type": "stream",
     "text": [
      "time: 63.6 ms\n"
     ]
    }
   ],
   "source": [
    "dev_set = message_scrape(path='/Users/animallya/Desktop/chat.db',n=3)"
   ]
  },
  {
   "cell_type": "code",
   "execution_count": 26,
   "metadata": {},
   "outputs": [
    {
     "name": "stdout",
     "output_type": "stream",
     "text": [
      "time: 266 ms\n"
     ]
    }
   ],
   "source": []
  },
  {
   "cell_type": "code",
   "execution_count": 28,
   "metadata": {},
   "outputs": [
    {
     "name": "stdout",
     "output_type": "stream",
     "text": [
      "time: 296 µs\n"
     ]
    }
   ],
   "source": [
    "# rnn_model.save('rnn_model.h5')\n",
    "# import coremltools\n",
    "# mymodel = coremltools.converters.keras.convert('rnn_model.h5')\n",
    "# mymodel.save('savefiles/rnn_sequence_predictor.mlmodel')"
   ]
  },
  {
   "cell_type": "code",
   "execution_count": null,
   "metadata": {},
   "outputs": [],
   "source": []
  }
 ],
 "metadata": {
  "kernelspec": {
   "display_name": "Python 3",
   "language": "python",
   "name": "python3"
  },
  "language_info": {
   "codemirror_mode": {
    "name": "ipython",
    "version": 3
   },
   "file_extension": ".py",
   "mimetype": "text/x-python",
   "name": "python",
   "nbconvert_exporter": "python",
   "pygments_lexer": "ipython3",
   "version": "3.7.4"
  }
 },
 "nbformat": 4,
 "nbformat_minor": 2
}
