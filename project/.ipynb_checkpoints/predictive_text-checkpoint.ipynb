{
 "cells": [
  {
   "cell_type": "code",
   "execution_count": 37,
   "metadata": {},
   "outputs": [
    {
     "name": "stdout",
     "output_type": "stream",
     "text": [
      "The autotime extension is already loaded. To reload it, use:\n",
      "  %reload_ext autotime\n",
      "2.0.0\n",
      "time: 700 ms\n"
     ]
    }
   ],
   "source": [
    "import tensorflow as tf\n",
    "from tensorflow import keras\n",
    "from sklearn.feature_extraction.text import CountVectorizer, TfidfVectorizer\n",
    "import nltk\n",
    "import pickle\n",
    "import numpy as np\n",
    "from nltk.stem import PorterStemmer \n",
    "from nltk.lm import Vocabulary\n",
    "from nltk.tag import StanfordNERTagger, pos_tag\n",
    "import glob\n",
    "import contractions\n",
    "import enchant\n",
    "import string\n",
    "import bs4 as bs\n",
    "import pandas as pd\n",
    "from collections import Counter\n",
    "import urllib.request\n",
    "import re\n",
    "import multiprocessing\n",
    "import ndjson\n",
    "from gensim.models import Word2Vec\n",
    "import ssl\n",
    "from google.cloud import storage\n",
    "import spacy\n",
    "from spacy import displacy\n",
    "import en_core_web_sm\n",
    "nlp = en_core_web_sm.load()\n",
    "\n",
    "from sklearn.utils import shuffle\n",
    "from sklearn import linear_model\n",
    "from sklearn.neural_network import MLPClassifier\n",
    "from sklearn.linear_model import SGDClassifier\n",
    "from sklearn.naive_bayes import MultinomialNB\n",
    "from sklearn.model_selection import train_test_split\n",
    "\n",
    "from tensorflow.python.keras.preprocessing.text import Tokenizer\n",
    "from tensorflow.python.keras.models import model_from_json, Sequential\n",
    "from tensorflow.python.keras.layers import Dense, Dropout, Flatten, Activation, MaxPooling2D, Conv2D, GlobalAveragePooling2D, Bidirectional, LSTM\n",
    "from tensorflow.python.keras.optimizers import Adam\n",
    "from tensorflow.python.keras.callbacks import EarlyStopping\n",
    "from tensorflow.python.keras.metrics import categorical_accuracy\n",
    "from tensorflow.python.keras.utils import to_categorical\n",
    "from tensorflow.python.keras import backend as K\n",
    "\n",
    "\n",
    "%load_ext autotime\n",
    "import matplotlib.pyplot as plt\n",
    "%matplotlib inline\n",
    "print(tf.__version__)\n",
    "\n",
    "np.random.seed(7)\n",
    "\n",
    "import warnings\n",
    "warnings.filterwarnings('ignore')\n",
    "\n",
    "try:\n",
    "    _create_unverified_https_context = ssl._create_unverified_context\n",
    "except AttributeError:\n",
    "    pass\n",
    "else:\n",
    "    ssl._create_default_https_context = _create_unverified_https_context\n",
    "\n",
    "import os\n",
    "\n",
    "device = 'w'\n",
    "\n",
    "gpath = 'C:/Users/Ani/Desktop/NLP_project/key.json'\n",
    "ngram_size = 3\n",
    "\n",
    "if device=='m':\n",
    "    gpath = '/Users/animallya/Desktop/NLP_project/key.json'\n",
    "\n",
    "os.environ[\"GOOGLE_APPLICATION_CREDENTIALS\"] = gpath"
   ]
  },
  {
   "cell_type": "code",
   "execution_count": 17,
   "metadata": {},
   "outputs": [
    {
     "name": "stdout",
     "output_type": "stream",
     "text": [
      "[name: \"/device:CPU:0\"\n",
      "device_type: \"CPU\"\n",
      "memory_limit: 268435456\n",
      "locality {\n",
      "}\n",
      "incarnation: 9149497638173416569\n",
      ", name: \"/device:XLA_CPU:0\"\n",
      "device_type: \"XLA_CPU\"\n",
      "memory_limit: 17179869184\n",
      "locality {\n",
      "}\n",
      "incarnation: 9046218033475676472\n",
      "physical_device_desc: \"device: XLA_CPU device\"\n",
      "]\n",
      "time: 1.13 ms\n"
     ]
    }
   ],
   "source": [
    "from tensorflow.python.client import device_lib\n",
    "print(device_lib.list_local_devices())"
   ]
  },
  {
   "cell_type": "code",
   "execution_count": 18,
   "metadata": {},
   "outputs": [
    {
     "name": "stdout",
     "output_type": "stream",
     "text": [
      "time: 1.73 ms\n"
     ]
    }
   ],
   "source": [
    "def embed(corpus):\n",
    "    sentences = nltk.sent_tokenize(' '.join(corpus))\n",
    "    all_words = [nltk.word_tokenize(sent) for sent in sentences]\n",
    "    for i in range(len(all_words)):\n",
    "        all_words[i] = [w for w in all_words[i] if w not in stopwords.words('english') and w not in string.punctuation]\n",
    "    model = Word2Vec(all_words, min_count=3, workers=multiprocessing.cpu_count())\n",
    "    return model\n",
    "#embeddings = embed(corpus)"
   ]
  },
  {
   "cell_type": "code",
   "execution_count": 19,
   "metadata": {},
   "outputs": [
    {
     "name": "stdout",
     "output_type": "stream",
     "text": [
      "time: 9.96 ms\n"
     ]
    }
   ],
   "source": [
    "import sqlite3\n",
    "import pandas as pd\n",
    "\n",
    "def filter_words(text, global_vocab):\n",
    "    words = []\n",
    "    for w in text:\n",
    "        w = w.lower()\n",
    "        if len(w)>1:\n",
    "            if global_vocab.check(w)==True:\n",
    "                words.append(w)\n",
    "            elif '\\'' in w or '’' in w:\n",
    "                if contractions.fix(w) != w:\n",
    "                    words.append(contractions.fix(w))\n",
    "        else:\n",
    "            if w in['i','a']:\n",
    "                words.append(w)\n",
    "    return ' '.join(words)\n",
    "\n",
    "def message_scrape(path, n):\n",
    "    \n",
    "    conn = sqlite3.connect(path)\n",
    "    c = conn.cursor()\n",
    "    cmd1 = 'SELECT ROWID, text, handle_id, \\\n",
    "                datetime(date + strftime(\\'%s\\',\\'2001-01-01\\'), \\'unixepoch\\') as date_utc \\\n",
    "                FROM message T1 \\\n",
    "                INNER JOIN chat_message_join T2 \\\n",
    "                    ON T2.chat_id='+str(n)+ ' \\\n",
    "                    AND T1.ROWID=T2.message_id \\\n",
    "                ORDER BY T1.date'\n",
    "    c.execute(cmd1)\n",
    "    df_msg = pd.DataFrame(c.fetchall(), columns=['id', 'text', 'sender', 'time'])\n",
    "    corpus = df_msg.text.tolist()\n",
    "    corpus = ' '.join(corpus)\n",
    "    corpus = re.sub('[^a-zA-Z\\'\\’]', ' ', corpus)\n",
    "    corpus = re.sub(r'\\s+', ' ', corpus)\n",
    "    corpus = corpus.lower().split(\" \")\n",
    "    filtered_corpus = filter_words(corpus, enchant.Dict(\"en_US\"))\n",
    "    return filtered_corpus"
   ]
  },
  {
   "cell_type": "markdown",
   "metadata": {},
   "source": [
    "## Tf-idf trigram prediction model (continuous Deep Learning)"
   ]
  },
  {
   "cell_type": "code",
   "execution_count": 21,
   "metadata": {},
   "outputs": [
    {
     "name": "stdout",
     "output_type": "stream",
     "text": [
      "time: 1.49 ms\n"
     ]
    }
   ],
   "source": [
    "def preprocess(id, flatten=True):\n",
    "    \n",
    "    corpus = message_scrape(path='/Users/animallya/Desktop/chat.db',n=id)\n",
    "    words = nltk.word_tokenize(corpus)\n",
    "    Y = [feats.index(words[i]) for i in range(ngram_size, len(words))]\n",
    "    if flatten == True:\n",
    "        X = [vectorizer.transform(words[i-ngram_size:i]).toarray().flatten() for i in range(ngram_size, len(words))] \n",
    "    else:\n",
    "        X = [vectorizer.transform(words[i-ngram_size:i]).toarray() for i in range(ngram_size, len(words))]\n",
    "    Y = [to_categorical(y,len(feats)) for y in Y]\n",
    "    X, Y = shuffle(X1, y1, random_state=42)\n",
    "    return np.array(X),np.array(Y), words"
   ]
  },
  {
   "cell_type": "code",
   "execution_count": 20,
   "metadata": {},
   "outputs": [
    {
     "name": "stdout",
     "output_type": "stream",
     "text": [
      "time: 404 ms\n"
     ]
    }
   ],
   "source": [
    "#automate this later\n",
    "X,y,words = preprocess(2)\n",
    "words = list(filter(lambda a: a != 'bet', words))\n",
    "vocab = list(Vocabulary(words))\n",
    "vectorizer = TfidfVectorizer(vocabulary=vocab)\n",
    "vectorizer.fit([corpus]) #need multiple documents for later\n",
    "feats = vectorizer.get_feature_names()"
   ]
  },
  {
   "cell_type": "code",
   "execution_count": 22,
   "metadata": {},
   "outputs": [
    {
     "name": "stdout",
     "output_type": "stream",
     "text": [
      "Iteration 1, loss = 821.33243272\n",
      "Iteration 2, loss = 276.72788402\n",
      "Iteration 3, loss = 65.89129199\n",
      "Iteration 4, loss = 31.09132657\n",
      "Iteration 5, loss = 20.48750289\n",
      "Iteration 6, loss = 15.67409321\n",
      "Iteration 7, loss = 13.04754745\n",
      "Iteration 8, loss = 11.44992845\n",
      "Iteration 9, loss = 10.40118134\n",
      "Iteration 10, loss = 9.67870051\n",
      "Iteration 11, loss = 9.15955379\n",
      "Iteration 12, loss = 8.77607929\n",
      "Iteration 13, loss = 8.48380500\n",
      "Iteration 14, loss = 8.25700039\n",
      "Iteration 15, loss = 8.07689928\n",
      "Iteration 16, loss = 7.93223718\n",
      "Iteration 17, loss = 7.81360767\n",
      "Iteration 18, loss = 7.71683853\n",
      "Iteration 19, loss = 7.63532484\n",
      "Iteration 20, loss = 7.56703437\n",
      "Iteration 21, loss = 7.50862113\n",
      "Iteration 22, loss = 7.45878964\n",
      "Iteration 23, loss = 7.41538630\n",
      "Iteration 24, loss = 7.37825389\n",
      "Iteration 25, loss = 7.34546020\n",
      "Iteration 26, loss = 7.31683707\n",
      "Iteration 27, loss = 7.29181958\n",
      "Iteration 28, loss = 7.26906780\n",
      "Iteration 29, loss = 7.24864186\n",
      "Iteration 30, loss = 7.23085931\n",
      "Iteration 31, loss = 7.21430271\n",
      "Iteration 32, loss = 7.19901607\n",
      "Iteration 33, loss = 7.18529320\n",
      "Iteration 34, loss = 7.17339154\n",
      "Iteration 35, loss = 7.16191979\n",
      "Iteration 36, loss = 7.15077673\n",
      "Iteration 37, loss = 7.14094415\n",
      "Iteration 38, loss = 7.13177667\n",
      "Iteration 39, loss = 7.12293206\n",
      "Iteration 40, loss = 7.11500704\n",
      "Iteration 41, loss = 7.10766901\n",
      "Iteration 42, loss = 7.10066565\n",
      "Iteration 43, loss = 7.09352885\n",
      "Iteration 44, loss = 7.08746963\n",
      "Iteration 45, loss = 7.08095359\n",
      "Iteration 46, loss = 7.07483962\n",
      "Iteration 47, loss = 7.06887020\n",
      "Iteration 48, loss = 7.06377301\n",
      "Iteration 49, loss = 7.05894643\n",
      "Iteration 50, loss = 7.05351916\n",
      "Iteration 51, loss = 7.04850824\n",
      "Iteration 52, loss = 7.04398698\n",
      "Iteration 53, loss = 7.03892520\n",
      "Iteration 54, loss = 7.03454379\n",
      "Iteration 55, loss = 7.03032056\n",
      "Iteration 56, loss = 7.02574653\n",
      "Iteration 57, loss = 7.02143351\n",
      "Iteration 58, loss = 7.01809804\n",
      "Iteration 59, loss = 7.01368909\n",
      "Iteration 60, loss = 7.00891434\n",
      "Iteration 61, loss = 7.00423519\n",
      "Iteration 62, loss = 7.00041272\n",
      "Iteration 63, loss = 6.99638069\n",
      "Iteration 64, loss = 6.99266828\n",
      "Iteration 65, loss = 6.98901146\n",
      "Iteration 66, loss = 6.98467250\n",
      "Iteration 67, loss = 6.98095184\n",
      "Iteration 68, loss = 6.97689449\n",
      "Iteration 69, loss = 6.97295789\n",
      "Iteration 70, loss = 6.96807879\n",
      "Iteration 71, loss = 6.96453055\n",
      "Iteration 72, loss = 6.96050878\n",
      "Iteration 73, loss = 6.95626362\n",
      "Iteration 74, loss = 6.95106258\n",
      "Iteration 75, loss = 6.94752328\n",
      "Iteration 76, loss = 6.94220156\n",
      "Iteration 77, loss = 6.93824826\n",
      "Iteration 78, loss = 6.93314051\n",
      "Iteration 79, loss = 6.92792879\n",
      "Iteration 80, loss = 6.92246618\n",
      "Iteration 81, loss = 6.91629969\n",
      "Iteration 82, loss = 6.91141925\n",
      "Iteration 83, loss = 6.90530846\n",
      "Iteration 84, loss = 6.89912914\n",
      "Iteration 85, loss = 6.89238681\n",
      "Iteration 86, loss = 6.88531531\n",
      "Iteration 87, loss = 6.87857077\n",
      "Iteration 88, loss = 6.87041286\n",
      "Iteration 89, loss = 6.86270508\n",
      "Iteration 90, loss = 6.85388550\n",
      "Iteration 91, loss = 6.84392106\n",
      "Iteration 92, loss = 6.83517964\n",
      "Iteration 93, loss = 6.82270885\n",
      "Iteration 94, loss = 6.81218772\n",
      "Iteration 95, loss = 6.80062584\n",
      "Iteration 96, loss = 6.78704165\n",
      "Iteration 97, loss = 6.77287689\n",
      "Iteration 98, loss = 6.75905292\n",
      "Iteration 99, loss = 6.74212224\n",
      "Iteration 100, loss = 6.72540956\n",
      "Iteration 101, loss = 6.70814196\n",
      "Iteration 102, loss = 6.68886235\n",
      "Iteration 103, loss = 6.66882209\n",
      "Iteration 104, loss = 6.64775502\n",
      "Iteration 105, loss = 6.62653484\n",
      "Iteration 106, loss = 6.60478043\n",
      "Iteration 107, loss = 6.57960090\n",
      "Iteration 108, loss = 6.55463119\n",
      "Iteration 109, loss = 6.52819001\n",
      "Iteration 110, loss = 6.50242504\n",
      "Iteration 111, loss = 6.47463637\n",
      "Iteration 112, loss = 6.44547228\n",
      "Iteration 113, loss = 6.41522461\n",
      "Iteration 114, loss = 6.38423051\n",
      "Iteration 115, loss = 6.35246890\n",
      "Iteration 116, loss = 6.31968443\n",
      "Iteration 117, loss = 6.28618718\n",
      "Iteration 118, loss = 6.25054883\n",
      "Iteration 119, loss = 6.21362284\n",
      "Iteration 120, loss = 6.17635765\n",
      "Iteration 121, loss = 6.13702661\n",
      "Iteration 122, loss = 6.09780392\n",
      "Iteration 123, loss = 6.05546995\n",
      "Iteration 124, loss = 6.01404229\n",
      "Iteration 125, loss = 5.97052290\n",
      "Iteration 126, loss = 5.92519576\n",
      "Iteration 127, loss = 5.87941845\n",
      "Iteration 128, loss = 5.83309583\n",
      "Iteration 129, loss = 5.78443441\n",
      "Iteration 130, loss = 5.73540137\n",
      "Iteration 131, loss = 5.68380643\n",
      "Iteration 132, loss = 5.63372643\n",
      "Iteration 133, loss = 5.58118867\n",
      "Iteration 134, loss = 5.52684674\n",
      "Iteration 135, loss = 5.47168968\n",
      "Iteration 136, loss = 5.41639412\n",
      "Iteration 137, loss = 5.36115920\n",
      "Iteration 138, loss = 5.30264050\n",
      "Iteration 139, loss = 5.24468311\n",
      "Iteration 140, loss = 5.18617105\n",
      "Iteration 141, loss = 5.12625162\n",
      "Iteration 142, loss = 5.06595215\n",
      "Iteration 143, loss = 5.00293481\n",
      "Iteration 144, loss = 4.94162005\n",
      "Iteration 145, loss = 4.87772472\n",
      "Iteration 146, loss = 4.81297203\n",
      "Iteration 147, loss = 4.74855955\n",
      "Iteration 148, loss = 4.68165397\n",
      "Iteration 149, loss = 4.61465254\n",
      "Iteration 150, loss = 4.54751187\n",
      "Iteration 151, loss = 4.47906403\n",
      "Iteration 152, loss = 4.40999273\n",
      "Iteration 153, loss = 4.34008004\n",
      "Iteration 154, loss = 4.27015022\n",
      "Iteration 155, loss = 4.19900218\n",
      "Iteration 156, loss = 4.12734227\n",
      "Iteration 157, loss = 4.05542805\n",
      "Iteration 158, loss = 3.98294649\n",
      "Iteration 159, loss = 3.90946566\n",
      "Iteration 160, loss = 3.83660537\n",
      "Iteration 161, loss = 3.76274883\n",
      "Iteration 162, loss = 3.68907905\n",
      "Iteration 163, loss = 3.61435190\n",
      "Iteration 164, loss = 3.53972966\n",
      "Iteration 165, loss = 3.46513220\n",
      "Iteration 166, loss = 3.38968930\n",
      "Iteration 167, loss = 3.31454178\n",
      "Iteration 168, loss = 3.23963562\n",
      "Iteration 169, loss = 3.16503454\n",
      "Iteration 170, loss = 3.08955472\n",
      "Iteration 171, loss = 3.01541449\n",
      "Iteration 172, loss = 2.94088983\n",
      "Iteration 173, loss = 2.86706608\n",
      "Iteration 174, loss = 2.79455181\n",
      "Iteration 175, loss = 2.72239053\n",
      "Iteration 176, loss = 2.64959570\n",
      "Iteration 177, loss = 2.57899616\n",
      "Iteration 178, loss = 2.50924223\n",
      "Iteration 179, loss = 2.43981136\n",
      "Iteration 180, loss = 2.37218970\n",
      "Iteration 181, loss = 2.30566439\n",
      "Iteration 182, loss = 2.23999389\n",
      "Iteration 183, loss = 2.17492540\n",
      "Iteration 184, loss = 2.11227799\n",
      "Iteration 185, loss = 2.05126007\n",
      "Iteration 186, loss = 1.99060062\n",
      "Iteration 187, loss = 1.93213929\n",
      "Iteration 188, loss = 1.87489064\n",
      "Iteration 189, loss = 1.81960019\n",
      "Iteration 190, loss = 1.76683683\n",
      "Iteration 191, loss = 1.71396185\n",
      "Iteration 192, loss = 1.66439664\n",
      "Iteration 193, loss = 1.61623912\n",
      "Iteration 194, loss = 1.56923375\n",
      "Iteration 195, loss = 1.52449242\n",
      "Iteration 196, loss = 1.48185448\n",
      "Iteration 197, loss = 1.44100719\n",
      "Iteration 198, loss = 1.40191914\n",
      "Iteration 199, loss = 1.36399812\n",
      "Iteration 200, loss = 1.32809250\n"
     ]
    },
    {
     "data": {
      "text/plain": [
       "MLPClassifier(activation='tanh', alpha=0.0001, batch_size='auto', beta_1=0.9,\n",
       "              beta_2=0.999, early_stopping=False, epsilon=1e-08,\n",
       "              hidden_layer_sizes=(100,), learning_rate='constant',\n",
       "              learning_rate_init=0.001, max_iter=200, momentum=0.9,\n",
       "              n_iter_no_change=2, nesterovs_momentum=True, power_t=0.5,\n",
       "              random_state=1, shuffle=True, solver='adam', tol=0.0001,\n",
       "              validation_fraction=0.1, verbose=1, warm_start='full')"
      ]
     },
     "execution_count": 22,
     "metadata": {},
     "output_type": "execute_result"
    },
    {
     "name": "stdout",
     "output_type": "stream",
     "text": [
      "time: 3min 34s\n"
     ]
    }
   ],
   "source": [
    "sequence_model =  MLPClassifier(n_iter_no_change =2, verbose=1, activation='tanh', learning_rate='constant', alpha=1e-4, random_state=1, warm_start='full') #picked 60 as limit because it overfits after\n",
    "sequence_model.fit(X,y)"
   ]
  },
  {
   "cell_type": "code",
   "execution_count": 24,
   "metadata": {},
   "outputs": [
    {
     "name": "stdout",
     "output_type": "stream",
     "text": [
      "time: 1.48 ms\n"
     ]
    }
   ],
   "source": [
    "def bidirectional_lstm_model():\n",
    "    print('Build LSTM model.')\n",
    "    model = Sequential()\n",
    "    model.add(Bidirectional(LSTM(512, dropout=0.1,\n",
    "                     recurrent_dropout=0.5,\n",
    "                     activation=\"relu\",input_shape=(ngram_size, len(vocab))))\n",
    "    model.add(Dropout(0.5))\n",
    "    model.add(Dense(len(vocab),activation='softmax'))\n",
    "    callbacks=[EarlyStopping(patience=2, monitor='val_loss')]\n",
    "    model.compile(loss='categorical_crossentropy', optimizer='adam', metrics=[categorical_accuracy])\n",
    "    print(\"model built!\")\n",
    "    return model"
   ]
  },
  {
   "cell_type": "code",
   "execution_count": 27,
   "metadata": {},
   "outputs": [
    {
     "name": "stdout",
     "output_type": "stream",
     "text": [
      "Build LSTM model.\n",
      "model built!\n",
      "time: 8.15 ms\n"
     ]
    }
   ],
   "source": [
    "rnn_model = bidirectional_lstm_model()"
   ]
  },
  {
   "cell_type": "code",
   "execution_count": 28,
   "metadata": {},
   "outputs": [
    {
     "name": "stdout",
     "output_type": "stream",
     "text": [
      "Train on 8867 samples\n",
      "Epoch 1/20\n",
      "8867/8867 [==============================] - 60s 7ms/sample - loss: 6.2078 - categorical_accuracy: 0.0339\n",
      "Epoch 2/20\n",
      "8867/8867 [==============================] - 55s 6ms/sample - loss: 5.8747 - categorical_accuracy: 0.0363\n",
      "Epoch 3/20\n",
      "8867/8867 [==============================] - 55s 6ms/sample - loss: 5.7734 - categorical_accuracy: 0.0456\n",
      "Epoch 4/20\n",
      "8867/8867 [==============================] - 54s 6ms/sample - loss: 5.6153 - categorical_accuracy: 0.0628\n",
      "Epoch 5/20\n",
      "8867/8867 [==============================] - 58s 7ms/sample - loss: 5.3784 - categorical_accuracy: 0.0865\n",
      "Epoch 6/20\n",
      "8867/8867 [==============================] - 60s 7ms/sample - loss: 5.1137 - categorical_accuracy: 0.1121\n",
      "Epoch 7/20\n",
      "8867/8867 [==============================] - 54s 6ms/sample - loss: 4.8258 - categorical_accuracy: 0.1407\n",
      "Epoch 8/20\n",
      "8867/8867 [==============================] - 57s 6ms/sample - loss: 4.5087 - categorical_accuracy: 0.1687\n",
      "Epoch 9/20\n",
      "8867/8867 [==============================] - 56s 6ms/sample - loss: 4.1583 - categorical_accuracy: 0.2059\n",
      "Epoch 10/20\n",
      "8867/8867 [==============================] - 55s 6ms/sample - loss: 3.8221 - categorical_accuracy: 0.2430\n",
      "Epoch 11/20\n",
      "8867/8867 [==============================] - 58s 7ms/sample - loss: 3.4618 - categorical_accuracy: 0.2782\n",
      "Epoch 12/20\n",
      "8867/8867 [==============================] - 55s 6ms/sample - loss: 3.0931 - categorical_accuracy: 0.3306\n",
      "Epoch 13/20\n",
      "8867/8867 [==============================] - 54s 6ms/sample - loss: 2.7682 - categorical_accuracy: 0.3726\n",
      "Epoch 14/20\n",
      "8867/8867 [==============================] - 54s 6ms/sample - loss: 2.4696 - categorical_accuracy: 0.4297\n",
      "Epoch 15/20\n",
      "8867/8867 [==============================] - 54s 6ms/sample - loss: 2.2434 - categorical_accuracy: 0.4672\n",
      "Epoch 16/20\n",
      "8867/8867 [==============================] - 58s 7ms/sample - loss: 2.0484 - categorical_accuracy: 0.5067\n",
      "Epoch 17/20\n",
      "8867/8867 [==============================] - 58s 7ms/sample - loss: 1.8960 - categorical_accuracy: 0.5411\n",
      "Epoch 18/20\n",
      "8867/8867 [==============================] - 52s 6ms/sample - loss: 1.7417 - categorical_accuracy: 0.5702\n",
      "Epoch 19/20\n",
      "8867/8867 [==============================] - 56s 6ms/sample - loss: 1.6362 - categorical_accuracy: 0.5919\n",
      "Epoch 20/20\n",
      "8867/8867 [==============================] - 55s 6ms/sample - loss: 1.5503 - categorical_accuracy: 0.6093\n",
      "time: 18min 39s\n"
     ]
    }
   ],
   "source": [
    "history_rnn = rnn_model.fit(X, y, batch_size=32, shuffle=True, epochs=20)"
   ]
  },
  {
   "cell_type": "code",
   "execution_count": 29,
   "metadata": {},
   "outputs": [
    {
     "data": {
      "image/png": "[encoded data removed]",
      "text/plain": [
       "<Figure size 432x288 with 1 Axes>"
      ]
     },
     "metadata": {
      "needs_background": "light"
     },
     "output_type": "display_data"
    },
    {
     "name": "stdout",
     "output_type": "stream",
     "text": [
      "time: 207 ms\n"
     ]
    }
   ],
   "source": [
    "#plt.plot(sequence_model.loss_curve_)\n",
    "plt.plot(history_rnn.history['categorical_accuracy'])\n",
    "plt.title('Training acc')\n",
    "plt.ylabel('train acc')\n",
    "plt.xlabel('Epoch')\n",
    "plt.show()"
   ]
  },
  {
   "cell_type": "code",
   "execution_count": 205,
   "metadata": {},
   "outputs": [
    {
     "name": "stdout",
     "output_type": "stream",
     "text": [
      "time: 1.69 ms\n"
     ]
    }
   ],
   "source": [
    "def update_model(id, model, flatten=False):\n",
    "    #corpus = web_scrape(urls)\n",
    "    corpus = message_scrape(path='/Users/animallya/Desktop/chat.db',n=id)\n",
    "    words = nltk.wordpunct_tokenize(corpus)\n",
    "    words = [word for word in words if word in vocab]\n",
    "    X, y = preprocess(words, flatten=flatten)\n",
    "    X, y = shuffle(X, y, random_state=42)\n",
    "    history=None\n",
    "    if flatten==False:\n",
    "        history = model.fit(X,y, batch_size=32, shuffle=True, epochs=10)\n",
    "    else:\n",
    "        model.fit(X,y)\n",
    "    print(\"fit complete\")\n",
    "\n",
    "    return words, history"
   ]
  },
  {
   "cell_type": "code",
   "execution_count": 206,
   "metadata": {},
   "outputs": [
    {
     "name": "stdout",
     "output_type": "stream",
     "text": [
      "Iteration 201, loss = 8.20567273\n",
      "fit complete\n",
      "Train on 4338 samples, validate on 483 samples\n",
      "Epoch 1/10\n",
      "4338/4338 [==============================] - 27s 6ms/sample - loss: 5.9315 - categorical_accuracy: 0.0735 - val_loss: 5.3611 - val_categorical_accuracy: 0.1139\n",
      "Epoch 2/10\n",
      "4338/4338 [==============================] - 27s 6ms/sample - loss: 4.9808 - categorical_accuracy: 0.1213 - val_loss: 5.1672 - val_categorical_accuracy: 0.1222\n",
      "Epoch 3/10\n",
      "4338/4338 [==============================] - 35s 8ms/sample - loss: 4.6418 - categorical_accuracy: 0.1498 - val_loss: 5.1080 - val_categorical_accuracy: 0.1222\n",
      "Epoch 4/10\n",
      "4338/4338 [==============================] - 35s 8ms/sample - loss: 4.3935 - categorical_accuracy: 0.1660 - val_loss: 5.0822 - val_categorical_accuracy: 0.1201\n",
      "Epoch 5/10\n",
      "4338/4338 [==============================] - 38s 9ms/sample - loss: 4.1854 - categorical_accuracy: 0.1842 - val_loss: 5.0602 - val_categorical_accuracy: 0.1201\n",
      "Epoch 6/10\n",
      "4338/4338 [==============================] - 30s 7ms/sample - loss: 3.9607 - categorical_accuracy: 0.1987 - val_loss: 5.0612 - val_categorical_accuracy: 0.1201\n",
      "Epoch 7/10\n",
      "4338/4338 [==============================] - 29s 7ms/sample - loss: 3.7333 - categorical_accuracy: 0.2252 - val_loss: 5.0740 - val_categorical_accuracy: 0.1284\n",
      "Epoch 8/10\n",
      "4338/4338 [==============================] - 31s 7ms/sample - loss: 3.5370 - categorical_accuracy: 0.2536 - val_loss: 5.0845 - val_categorical_accuracy: 0.1201\n",
      "Epoch 9/10\n",
      "4338/4338 [==============================] - 27s 6ms/sample - loss: 3.3146 - categorical_accuracy: 0.2803 - val_loss: 5.1044 - val_categorical_accuracy: 0.1180\n",
      "Epoch 10/10\n",
      "4338/4338 [==============================] - 26s 6ms/sample - loss: 3.1186 - categorical_accuracy: 0.3128 - val_loss: 5.1900 - val_categorical_accuracy: 0.1222\n",
      "fit complete\n",
      "time: 5min 11s\n"
     ]
    }
   ],
   "source": [
    "#sequence_model, updated_words, = update_model(['Natural_language_processing'], sequence_model, flatten=True)\n",
    "updated_words, _ = update_model(6, sequence_model, flatten=True)\n",
    "updated_words, history_update1 = update_model(6, rnn_model)"
   ]
  },
  {
   "cell_type": "code",
   "execution_count": 207,
   "metadata": {},
   "outputs": [
    {
     "data": {
      "image/png": "[encoded data removed]",
      "text/plain": [
       "<Figure size 432x288 with 1 Axes>"
      ]
     },
     "metadata": {
      "needs_background": "light"
     },
     "output_type": "display_data"
    },
    {
     "name": "stdout",
     "output_type": "stream",
     "text": [
      "time: 204 ms\n"
     ]
    }
   ],
   "source": [
    "plt.plot(sequence_model.loss_curve_)\n",
    "plt.title('Validation acc')\n",
    "plt.ylabel('Val acc')\n",
    "plt.xlabel('Epoch')\n",
    "plt.show()"
   ]
  },
  {
   "cell_type": "code",
   "execution_count": 48,
   "metadata": {},
   "outputs": [
    {
     "data": {
      "image/png": "[encoded data removed]",
      "text/plain": [
       "<Figure size 432x288 with 1 Axes>"
      ]
     },
     "metadata": {
      "needs_background": "light"
     },
     "output_type": "display_data"
    },
    {
     "name": "stdout",
     "output_type": "stream",
     "text": [
      "time: 439 ms\n"
     ]
    }
   ],
   "source": [
    "plt.plot(history_update1.history['val_categorical_accuracy'])\n",
    "plt.title('Validation acc')\n",
    "plt.ylabel('Val acc')\n",
    "plt.xlabel('Epoch')\n",
    "plt.show()"
   ]
  },
  {
   "cell_type": "markdown",
   "metadata": {},
   "source": [
    "## Pos-tagging using trigram max-ent model"
   ]
  },
  {
   "cell_type": "code",
   "execution_count": 40,
   "metadata": {},
   "outputs": [
    {
     "name": "stdout",
     "output_type": "stream",
     "text": [
      "time: 1.54 s\n"
     ]
    }
   ],
   "source": [
    "from sklearn.preprocessing import LabelEncoder\n",
    "from sklearn.preprocessing import OneHotEncoder\n",
    "\n",
    "#encoding sets of 3 tags into flattened vector that's one-hot encoded\n",
    "doc = nlp(corpus)\n",
    "label_encoder = LabelEncoder()\n",
    "onehot_encoder = OneHotEncoder(sparse=False)\n",
    "\n",
    "xtemp = [token.tag_ for token in doc]\n",
    "int_encoded = label_encoder.fit_transform(xtemp)\n",
    "encoded = onehot_encoder.fit_transform(int_encoded.reshape(len(int_encoded), 1))\n",
    "\n",
    "X_encoded = []\n",
    "y_encoded = []\n",
    "\n",
    "for i in range(ngram_size,len(encoded)):\n",
    "    x_encoded = encoded[i-ngram_size:i].flatten().astype(int)\n",
    "    X_encoded.append(x_encoded)\n",
    "    y_encoded.append(int_encoded[i])\n",
    "    \n",
    "y_encoded = np.array(y_encoded)\n",
    "X_encoded = np.array(X_encoded)"
   ]
  },
  {
   "cell_type": "code",
   "execution_count": 41,
   "metadata": {},
   "outputs": [
    {
     "data": {
      "text/plain": [
       "(13096,)"
      ]
     },
     "execution_count": 41,
     "metadata": {},
     "output_type": "execute_result"
    },
    {
     "name": "stdout",
     "output_type": "stream",
     "text": [
      "time: 2.73 ms\n"
     ]
    }
   ],
   "source": [
    "y_encoded.shape"
   ]
  },
  {
   "cell_type": "code",
   "execution_count": 42,
   "metadata": {},
   "outputs": [
    {
     "name": "stderr",
     "output_type": "stream",
     "text": [
      "[Parallel(n_jobs=-1)]: Using backend ThreadingBackend with 4 concurrent workers.\n"
     ]
    },
    {
     "name": "stdout",
     "output_type": "stream",
     "text": [
      "max_iter reached after 26 seconds\n"
     ]
    },
    {
     "name": "stderr",
     "output_type": "stream",
     "text": [
      "[Parallel(n_jobs=-1)]: Done   1 out of   1 | elapsed:   26.8s finished\n"
     ]
    },
    {
     "data": {
      "text/plain": [
       "LogisticRegression(C=1.0, class_weight='balanced', dual=False,\n",
       "                   fit_intercept=True, intercept_scaling=1, l1_ratio=None,\n",
       "                   max_iter=100, multi_class='multinomial', n_jobs=-1,\n",
       "                   penalty='l1', random_state=None, solver='saga', tol=0.0001,\n",
       "                   verbose=2, warm_start=False)"
      ]
     },
     "execution_count": 42,
     "metadata": {},
     "output_type": "execute_result"
    },
    {
     "name": "stdout",
     "output_type": "stream",
     "text": [
      "time: 26.9 s\n"
     ]
    }
   ],
   "source": [
    "tag_model = linear_model.LogisticRegression(multi_class='multinomial', class_weight='balanced',solver='saga', penalty = 'l1', n_jobs=-1,verbose=2)\n",
    "tag_model.fit(X_encoded, y_encoded)"
   ]
  },
  {
   "cell_type": "markdown",
   "metadata": {},
   "source": [
    "### Saving all 3 models"
   ]
  },
  {
   "cell_type": "code",
   "execution_count": 31,
   "metadata": {},
   "outputs": [
    {
     "name": "stdout",
     "output_type": "stream",
     "text": [
      "time: 1.03 ms\n"
     ]
    }
   ],
   "source": [
    "\n",
    "def save_model(model, model_name):\n",
    "    model_json = model.to_json()\n",
    "    with open(\"savefiles/\"+model_name+\".json\", \"w\") as json_file:\n",
    "        json_file.write(model_json)\n",
    "\n",
    "    model.save_weights(\"savefiles/\"+model_name+\"_weights.h5\")\n",
    "    print(\"Saved model to disk\")\n",
    "\n",
    "\n",
    "#save_model(rnn_model,'rnn_model')\n",
    "\n",
    "# filename = 'savefiles/wordMLPpredictor.sav'\n",
    "# pickle.dump(sequence_model, open(filename, 'wb'))\n",
    "\n",
    "# filename = 'savefiles/postagger.sav'\n",
    "# pickle.dump(tag_model, open(filename, 'wb'))\n",
    "\n",
    "# filename = 'savefiles/rnnModel.sav'\n",
    "# pickle.dump(rnn_model, open(filename, 'wb'))"
   ]
  },
  {
   "cell_type": "markdown",
   "metadata": {},
   "source": [
    "# TESTING\n"
   ]
  },
  {
   "cell_type": "code",
   "execution_count": 14,
   "metadata": {},
   "outputs": [
    {
     "name": "stdout",
     "output_type": "stream",
     "text": [
      "Loaded model from disk\n",
      "time: 601 ms\n"
     ]
    }
   ],
   "source": [
    "def load_model(model_name):\n",
    "    json_file = open(\"savefiles/\"+model_name+\".json\")\n",
    "    loaded_model_json = json_file.read()\n",
    "    json_file.close()\n",
    "    model = model_from_json(loaded_model_json)\n",
    "    model.compile(loss='categorical_crossentropy', optimizer=Adam(lr=0.001), metrics=[categorical_accuracy])\n",
    "    # load weights into new model\n",
    "    model.load_weights(\"savefiles/\"+model_name+\"_weights.h5\")\n",
    "    print(\"Loaded model from disk\")\n",
    "    return model\n",
    "\n",
    "#rnn_model = load_model('rnn_model')\n",
    "#sequence_model = pickle.load(open('savefiles/wordMLPpredictor.sav','rb'))\n",
    "#tag_model = pickle.load(open('savefiles/tagmaxent.sav', 'rb'))"
   ]
  },
  {
   "cell_type": "code",
   "execution_count": 32,
   "metadata": {},
   "outputs": [
    {
     "name": "stdout",
     "output_type": "stream",
     "text": [
      "time: 2.21 ms\n"
     ]
    }
   ],
   "source": [
    "def input_tag_to_prediction(inp):\n",
    "    doc = nlp(inp.lower())\n",
    "    tags = [token.tag_ for token in doc]\n",
    "    integer_encoded = label_encoder.transform(tags)\n",
    "    X_encoded = onehot_encoder.transform(integer_encoded.reshape(len(integer_encoded), 1)).flatten()\n",
    "    possible_predictions = tag_model.predict_proba(X_encoded.reshape(1, -1))[0]\n",
    "    indices = (possible_predictions).argsort()[::-1][:3]\n",
    "    return [label_encoder.inverse_transform([idx])[0] for idx in indices]"
   ]
  },
  {
   "cell_type": "code",
   "execution_count": 33,
   "metadata": {},
   "outputs": [
    {
     "name": "stdout",
     "output_type": "stream",
     "text": [
      "time: 1.46 ms\n"
     ]
    }
   ],
   "source": [
    "def input_word_to_prediction(inp):\n",
    "    words = nltk.word_tokenize(inp.lower())\n",
    "    words_tf = np.array(vectorizer.transform(words).toarray()).flatten().reshape(1, -1)\n",
    "    possible_predictions = sequence_model.predict_proba(words_tf)[0]\n",
    "    print(sorted(possible_predictions)[::-1][:3])\n",
    "    indices = (possible_predictions).argsort()[::-1][:3]\n",
    "    return [feats[idx] for idx in indices]"
   ]
  },
  {
   "cell_type": "code",
   "execution_count": 34,
   "metadata": {},
   "outputs": [
    {
     "name": "stdout",
     "output_type": "stream",
     "text": [
      "time: 1.65 ms\n"
     ]
    }
   ],
   "source": [
    "def rnn_predict(sent):\n",
    "    words = nltk.word_tokenize(sent.lower())\n",
    "    x = np.array(vectorizer.transform(words).toarray())\n",
    "    words_tf = x.reshape(1,x.shape[0],x.shape[1])\n",
    "    y_pred = np.array(rnn_model.predict(words_tf)[0])\n",
    "    print(sorted(y_pred)[::-1][:3])\n",
    "    indices = (y_pred).argsort()[::-1][:3]\n",
    "    return [feats[index] for index in indices]"
   ]
  },
  {
   "cell_type": "code",
   "execution_count": 35,
   "metadata": {},
   "outputs": [
    {
     "name": "stdout",
     "output_type": "stream",
     "text": [
      "time: 1.89 ms\n"
     ]
    }
   ],
   "source": [
    "def run(sent):\n",
    "    out = sent\n",
    "    while True:\n",
    "        print(out)\n",
    "        pt = input_tag_to_prediction(sent)\n",
    "        pw = input_word_to_prediction(sent)\n",
    "        rw = rnn_predict(sent)\n",
    "        print(pt)\n",
    "        print(pw)\n",
    "        print(rw)\n",
    "        inp = input()\n",
    "        if inp==\"exit\":\n",
    "            return out\n",
    "        out+= \" \" +inp\n",
    "        l = len(inp.split())\n",
    "        sent = \" \".join(nltk.word_tokenize(sent)[l:]+[inp])\n",
    "    print(out)"
   ]
  },
  {
   "cell_type": "code",
   "execution_count": 43,
   "metadata": {},
   "outputs": [
    {
     "name": "stdout",
     "output_type": "stream",
     "text": [
      "i will text\n",
      "[0.21786836754578953, 0.1386181831777479, 0.12452928878422369]\n",
      "[0.10975887, 0.09140791, 0.0685784]\n",
      "['JJS', 'TO', 'PRP']\n",
      "['you', 'the', 'it']\n",
      "['it', 'you', 'if']\n",
      "you\n",
      "i will text you\n",
      "[0.09432829422436752, 0.08161868897631654, 0.08115533837439527]\n",
      "[0.08287811, 0.07939237, 0.050214883]\n",
      "['MD', 'VBP', 'IN']\n",
      "['think', 'know', 'are']\n",
      "['today', 'guys', 'can']\n",
      "when\n",
      "i will text you when\n",
      "[0.09264756872262615, 0.030622383221990238, 0.022683948180986603]\n",
      "[0.1538603, 0.10666753, 0.09414831]\n",
      "['PDT', 'PRP$', 'VBP']\n",
      "['it', 'i', 'you']\n",
      "['it', 'i', 'you']\n",
      "i\n",
      "i will text you when i\n",
      "[0.35698814097697207, 0.04652795388799914, 0.01916200824464543]\n",
      "[0.13062379, 0.053329073, 0.04138446]\n",
      "['VBP', 'VBD', 'MD']\n",
      "['am', 'is', 'get']\n",
      "['am', 'get', 'to']\n",
      "ge\n",
      "i will text you when i ge\n",
      "[0.05654717918550446, 0.04397081408634706, 0.030242122032951343]\n",
      "[0.061992742, 0.013324789, 0.013261226]\n",
      "['PRP', 'TO', 'IN']\n",
      "['home', 'end', 'in']\n",
      "['am', 'text', 'wan']\n",
      "exit\n",
      "time: 24.6 s\n"
     ]
    }
   ],
   "source": [
    "out = run(\"i will text\")\n",
    "#i will be home by"
   ]
  },
  {
   "cell_type": "code",
   "execution_count": 208,
   "metadata": {},
   "outputs": [
    {
     "name": "stdout",
     "output_type": "stream",
     "text": [
      "time: 199 ms\n"
     ]
    }
   ],
   "source": [
    "dev_set = message_scrape(path='/Users/animallya/Desktop/chat.db',n=6)"
   ]
  },
  {
   "cell_type": "code",
   "execution_count": 213,
   "metadata": {},
   "outputs": [
    {
     "name": "stdout",
     "output_type": "stream",
     "text": [
      "['NN']\n",
      "time: 10.5 ms\n"
     ]
    }
   ],
   "source": [
    "doc = nlp('tomorrow')\n",
    "print([w.tag_ for w in doc])"
   ]
  },
  {
   "cell_type": "code",
   "execution_count": 209,
   "metadata": {},
   "outputs": [
    {
     "data": {
      "text/plain": [
       "'hi it is hi i I will text you when i leave at so we can make it there by perfect did i say the star bucks in downtown next to rack and the center cool just clarifying awesome this is on pine st right yeah I am leaving now same liked same eta that is fine are you inside about to be will send you the pictures after class today was nice I am glad you had fun today lets go to on yes let us do it great have you ever seen angel nope is it a movie it is the best movie it is so good movie tickets search mg aw not released yet it is the one wheres the angel here abstract seems interesting we should watch it sometime yes we should if i did not say it today i had fun today liked yes we should you said it thrice yeah i know it was nice i like that we have a funny story about everything that is true I am heading to bed goodnight night good morning good morning how is your day going it is good you are just as lazy as me at no i just got off of work how are you oh was this the only day in the week you work no i work just got off and had dinner you will get some very boring text then as well just a heads up but I am excited for that is I will pull through we can go out tomorrow evening too if you are free liked but I am excited for weathers looking great are you on i am on it is i have to babysit my sisters dog tomorrow but let us hangout that name yeah no worries head to bed goodnight how was your day at work it was good what do you wanna do tomorrow and when do you wanna meet at great I am thinking what is better after tomorrows forecast is gloomy based on that we can pick a time let us stick with beach coffee at around wanna meet in downtown again then seems like you love though is there one of those downtown the one at university district has nice ambiance i have a better idea let us still meet at in the around and go to green lake it is closer that sounds great why that did not slip into mind awesome see you tomorrow at at in the district area could we please do evening instead I am super fucked up was at a comedy show sorry it was around would be a good time like last time sorry i was sleeping works so my friends planning a belated party for my friend but we can still get coffee together i just can not stay out to late or you and i can do another night i do wanna see you i just hate cutting it short we can hangout tomorrow night or we can just get coffee i can hangout i meant to say sorry for so much just coffee is thank you for answering i was just gonna keep sending you really long text messages until you thought i was annoying I am kidding but i think we should to tomorrow night I am still drained from last night also I would like to see with you so that is fine with me when is your party have fun I will let you know what time today I am heading to still wanna do that would be ideal depending on how quickly I am able to get back that is fine hows i can be at in an hour that works I am here on the way decided to pick other people did you accidentally get pool oops go ahead and grab your coffee i should be there in already did i also saw a the cutest week poodle mix puppy i think it was a and poodle mix dunno what is is it the kind that looks like a bigger version of a it is kinda the same size so interesting story my phones not charging and it is frustrating turn it off hey i had fun tonight com can you please take more care of your leg that was from the shoes wear a pair of socks maybe also i the road I will just wear next time what time do you wanna hangout tomorrow depends on where we go i guess after lunch would be best so i can get work the way during the morning wanna say around or yes perfect where do you wanna meet or new stuff is good for our rel relationship actually we should meet at and walk to maybe I will let you know I would suggest applying a otherwise it will burn more see you soon same i also have to go to to return the jacket i got do you wanna go with me yup sure I am gonna stay off coffee today i ran into a bad stomach last night where is in village we can just meet in the village area that works are you taking a bus or walking I am gonna I am sorry you got a stomach ache no ache just a wrong mix of things i think cider over coffee walk there now about minutes I will be there at this jacket was just too expensive inside what is up beautiful did get home i did get home now I am putting on new what is the situation with the lips my lips are fine how are yours good i saw something mines the biting was sexy i think forgot to accept my request got it liked got it i completed all my work for this week in hours and i get paid hours worth nice what sup cool beans in class oh no you can not use it that way what way should i use it that just does not sound right cool beans that works mines better agreed I am on mac so i can not use those bigger ones i that one i do not get what are you doing my friend invited us to hula hula night but I am not fully towards it any alternate ideas that sounds interesting what would be the alternative I am horrible at plans you know this it is never gonna change will think about it after class that is how you use it we will go to hula hula tomorrow sit and watch some karaoke we can do that did someone punch you in the eyes next next first sunny day sounds perfect do you still wanna do hula hula tonight or just next we will hang at hula hula with a couple folks still wanna meet up at tonight or we can meet up closer to works better i think that works is this the right yes perfect what was the game we played the other day the disc stuff at you mean ping before that near the bowling alley oh duh air hockey the only game i beat you at once maybe was a draw we can go to pub and play it after whatever makes you happy its near hula hula yes let us do it i want a rematch thank you dollar bills please I am out of em or we can find change somewhere i have two courters to my name wondering what that means it means I am sad and yes we need to find change or i do why sad because i always have a lot of change and now i do not but it is I am on a mission now i thought you were sad no i has a dollar now it is in change but i have a dollar now I am gonna leave here around so remember that question that you needed answered yes about your breath no the other one I am just let you think about it I am in the bus now so minutes I am gonna call nearly there I am almost there I am here I am outside I am home i have to show you something yes i just got back too what is it it is so accurate the face that you make i do not make that face next time we will just get a whole bottle of wine from a store more for cheaper true night night sweet cheeks my cheeks are sour no there sweet now night what is up babe just waking up breakfast and back to coding sounds nice check are you busy or do you work or my friend wants to double date and go see a movie this would be next week during the night night can work morning not she said anytime after i have an interview this week he has not fixed a time yet that is why i suggested evening what is nerdy about that the it just is my mom saw the status and got pissed uh oh what happened apparently i can not land a full time position because out on dates and spend money my mom always overreacts nothing to worry about just thought I would let know well thanks for letting me know i have to get up early tomorrow tho so i will talk to you tomorrow goodnight she is now she was just pissed the fact that i was mad about her knowing of course she is gonna know it is on everybody knows its all good typical family drama do not you love it barely lasts yeah but you do not get it daily wanna see a picture where i look completely different morning black hair my natural my baby brunette that is your new nickname and the title of my next song shush no you can not write a song about me what time are you working until i get off at wait why just asked there is this haunted house thing in at but its too far yeah and I am busy tonight and I am not good with haunted houses sorry hey are you busy my friend wants to do the double date on instead i know its is good my expensive that is why i take the bus and pool always it would have taken longer i mean of course depends on the situation bet bet what have you been up to today coding and gaming sounds about right I am lazy when its gloomy it is i am too but I am going out with my friend tonight tell i said hi so vegan food and alcohol i will have fun before i forget you should come to trivia with us tomorrow it is sure where is it brews goodnight I will see you in the evening see you then it is the one in right yes my friend wants to double date I am yup movie i meant to double date in not I am movie and dinner i understood just making sure cause my phone is doing weird shit i got my costume tho I am gonna be the mad hatter gotta look up who that is please do not color your hair red no I am not going ginger look at this ginger what time do you guys wanna meet up there I will let you know if that changes the trivia starts at cool cool does work for you to meet up with my friends in am i making you hungry with all those tempting snaps I am having dinner soon i may be a bit late i gotta eat but I will be there its we are running late too on my way we are almost there same inside we are in cant see you I am at the register drinking one second babe you said brews i think there is different ones I will be there soon i got a cider for ya when you reach good morning my mom just left what is with the cat freedom nice babe babe do you know any events going on on we will find something he set the interview for pm are you working leaving to at might work i guess weather is looking good towards latter half yeah until but if that changes I will keep you posted so for right now we will do i can leave at so it will be around or by the time we get to the ferry that works for me I am learning to much about people as in grandkids not having teeth to much who is grandkids to munch i do not know babe I am just over hearing things I am not surprised rude did you get enough beauty sleep who is your interview with and actually yeah its called company nice so software job yes how was your day what costume should i get you should be a rabbit could not find one we just visited the store there was tomato man i do not know you could be a guy version of panda is in class how was class not too bad dinner was nice did just watch shows all day no i had an interview with the loft today how did it go it was she showed up late and it was a double interview with another girl the other girl did better but whatever opportunities always come by its yeah that is true where do you wanna meet up on ferry terminal perfect night babe the caption in the post refers to you i know i like it morning hi how did you sleep beauty sleep apparently hours did not suffice tho yeah beauty sleep is usually hours usually works for me eh i hate when you get a from an number and all it says is press what is special about an number nothing that is my point do not give me that face that is better staying out of the rain me too nice weather what what hi oh my dad went to a conference and he got to see who is this now sorry he is called the spelled it wrong he co founded apple with jobs my dad thought we was very fascinating have you ever seen the big bang theory your dad sounds like a smart man eh he is of course who has not seen big bang you and are like and or and i was talking about personality wise am i your like a mixture of and good if i were raj i would be ugly your too cute to be raj see that coming did ya i used to binge watch it during college exam time i did actually aw damn it babe i think you might be a chandler or a chandler is the best I am at the scene where chandler gets a computer honey i watched this years ago I am sure I would remember when chandler got a computer also just in case that is relevant to you i need a new charger new phone no new charger exactly no new charger just new phone babe that is not what i mean i just need a new charger i know i was just messing with getting lonely in my room why is that i did not go out today oh damn it is a little annoying I am sorry so tomorrow or interview gets done at so obviously not yup so yup card do not forget goodnight also see if there are places in that you would want check out and we can go there i found weathers looking great i know I am very happy about it is the ferry so meet at I am at the ferry terminal just got done I am getting ready I am near the tickets and the kaiser thrive in now the next one is not until should be there soon uh uh i believe you I am kidding i do where is wait where are you i have been which way are you coming from are at the waiting area there is a ferry here i am at the kaiser thrive it is like a little table and there a ticket kiosk and there is three signs that say and water taxi so yeah babe where are ya there is a line for the ferry i think its the same thing do you see me ticket kiosk I am home goodnight hi babe tomorrow we might see the family cool or the joker or maleficent or man so your with any movie this lady stopped me today because she was trying to find an abandoned cat today it was sad and she went into details it was sad babe did find it no hanging out at home i just remembered i forgot to tell you about me when you asked yesterday remind me next time sounds like a great idea it is not the worst picture yeah that ones better it is true cute thanks babe but your cuter night babe see you tomorrow goodnight cute what about babe far but its do you wanna meet at and then catch the bus to at getting some last minute work the way the movie starts at one sec well its good having a late lunch then right i forgot to ask meet me at the near center thanks babe go slowly I am still taking a shower I am going very slowly min everything is getting delayed from traffic sad but that is I am patient are you taking the bus yea on the way I am inside did i go to the which one did you go to right opposite public market center she said you would be very submissive in the relationship weathers nice when you get off work I am off of work angry cat but I am hanging out with my friend tonight do not angry cat me nice face oh yeah that is mine asking what doing hanging with my friends but i can not wait for tomorrow for trivia tomorrow night i bet and she disappeared I am watching a movie are you being sassy sitting in a corner its pm ditto watching fast furious there is a new one coming out i know I am so excited for it we should go see it what are you guys up too who just at home she wanted to hang i thought you were hanging with today was too lazy to step out really babes you were to lazy such a chandler goodnight my friend told me to leave no breakfast just to get out of her bed and she said bye nice friend I am used to it I am playing nerd better than watching shows all day hey how is your game going just had lunch was watching queens is that a show how dark my eyes were no its homecoming university i see no freckles yeah i did not have them back then and that is interesting what very interesting what time do you want to meet up tonight same time as last so brews next to giddy up right nope the other one the one you went to first babe that does not have trivia that is why go there feel free to invite or any friends but we are doing trivia tonight with and is not coming and the others from last time are ah got it see you at the brews near giddy up see at the other babe are we doing trivia or yes that is not an answer full answer please full answer no babe same place as last time let me eat dinner no not allowed I am here am i early what is up not much just drinking tea and trying to find some jobs do not judge it is a thing then then what sorry no your fine but i did find a writing job that was quick what are you gonna be writing i do not know yet my stories are mostly fiction and fantasy i know found another job well i have another interview is this writing also no it is a cashier job at craft store I am also asking for my hours back from the manager of the salon that i work at so tell me how this sounds it says hi it is i was wondering if i could get my original hours back instead of working and maybe i could work and or and if yes great if not then i would really like to know why very unprofessional get is an informal word switch back to my original hours through or through i would appreciate it i sent it now let us see what happens aw yup i like working there so i grew some i hate waiting what are you up too homework i doing a purple shampoo mask what kind of homework do you have hi morning what is up waking up why ignoring me babe i i did not mean to what are we doing for ask i dunno yet i so what did manager say she has not said anything yet it is making me regret even sending the message to her uh why if you like what you are doing then fight for it i am fighting for it just waiting is hard so you should have done it in person its like confronting someone you are just asking i know I am just not that patient of a person when it comes to stuff like this but that is just me it is crazy i just want a yes or no answer it is cold yes preparing for my interview yes it is cuddle time same good luck yeah my boss needs to get back to me just finished prep we are cooking now tell i say hi okay how was your interview coding assessment will take it at dang sounds interesting food looks good guys up to just finished my coding assessment looks good next round gonna be harder how did it go well ah well you most likely did great night see you really babe i do not know what to do babe I am very wanted by essentials and crafts and art supplies but i also just asked for my hours back from my manager and she has not gotten back to me call her I am gonna talk to her in person tomorrow are the other offering more in amount or hours no i meant to say both i hate then why not take it job transition will always be a part of life because i want to hear back from first before i make a decision anyways are you busy tomorrow before we all hangout i work until and then good cool do you wanna hangout i have work babe guess what she extended your hours no i got a new job at but it is seasonal but still you already told me yeah but i accepted it yup what is my hours for am to pm no pm to pm i know i mean I am most likely not gonna get full time at ten true this ones every weekday no my first day i told them i want everyday but and oh so that you can do both yeah makes sense how was your day the i can not find my hat we might have to get a new hat that is legit all i need mad hatter without a hat mad describes mad without a hatter what i need a hat I will let ya know where we can get them i already know spirit but it is up at spirit is next to my house that is where i got mineral mine that makes me so happy how late is it open iv think beautiful beautiful gonna be fun yes no more kisses for i like your kisses do i get a kiss tomorrow maybe if you come home what is going to work have fun oh I am home i just got back from work looks like she sent you back early again eh more like the opposite they got back to me on working full time who my boss told me i could not work full time or part time so you went back no babe i got let go got let go i got fired well they are stupid enough to fire you on its i know time to put my sweats on we are going to the boat event at terry ave cool what time no later than apparently so we can meet there at around or you can come by my place at and we can go together by bus whichever I will meet at your place around can i get your address again babe th ave boat plan is apparently guess we gotta find something else I am still heading to your place slow down tho still at work i will people at the bus stop sneak into the front of the line well I am close to your place I have arrived but I am going to spirit costume store heading back to your place I am on the way still mm he did not let me get into the bus that stop right by my place because shameless people sneaked in and it got full so i took the nearly there I am home i did mean it when i said this relationship can not be all about sex i know what is with the bunny sleepy same night babe I will talk to you tomorrow night hows the new job why so angry this is us did not tell me how your new job was it was great I am sorry i was just about to tell you it was great but my phone died up to baby boo in bed watching charmed invited me to so we are going there we will see you in the evening you wanna meet me at the ferry station again tho right well I am gonna go change and you guys figure out the ferry schedule for for what time we wanna get there by we i meant and couple others i asked if there is space for you but there was not so i said we will meet you at when we are back from here makes more sense thank you babe its gonna be late we just got here just text me when you get back in the place closes at but you know let us not hangout that late how is i we are still here its lovely i bet still wanna go out tonight or do you wanna do something tomorrow we are leaving now will let ya know i can not come out tonight babe it is getting late let us go out tomorrow night tomorrow is better I will text you when home babe it is so pretty there do today cleaned my room watched new girl not much took a shower what how did you sleep funny dream apparently i worked only hours this week but filled in my time sheet so my professor caught me and made me change it and then i woke up to reality that sounds like a guilt dream when do you wanna hangout tonight ill ask trivia that is right trivia night yes what nothing i do not work are here almost my slow I will be at the bar at hi i did not welcome kiss you because I am weird about apart from regular hand holding just wanted to make it clear because you seemed sad about it oh no it is fine it is cool i was just quiet over some friend drama stuff sorry I am pretty good at reading women i think being straight forward and talking about these things is essential yes i did want to kiss you but i understand if it is weird around new people for stuff i get it I am just a slower person emotionally than most people babe i get it i hate being cheesy sometimes gotta focus more on the positives no i do i meant to say of course i do is it bed time for ya goodnight night why the thumbs down just like that I am so confused why you can not just send a thumbs down and not explain that its just for fun there is no deep meaning to everything oh like these yup and oh this one and this one do not worry babe there just for fun wow nice i think your lips are dead since we kissed a lot they looked dead you could have told me that or whispered it to me rude i told you now i meant last night you could look in the mirror oh my god yeah i was not going to leave you alone you looked like you were having much fun when last night at trivia when you were talking to and yes i know you were trying to get to know her but i got a bit jealous i do not know why that is why i was quiet now you know now drop it i already knew it was quite obvious not my fault i do not have a good poker face girls need to chill out I am sorry and not say that oh my goodness that is all I am going to say wait you did not want to kiss me last night because of my lip situation no just making sure i already told why I am just making sure it was not because of that too anyways what is your plans today coding right now and gotta work later drinking coffee then working and watching might start playing fort that would be fun id be curious to see whether have the patience to learn the game if i have the patience with you i have to patience with what is taking my break should learn how to play I am about to but I am changing right now your is on the no it is on my phone I have been trying to get it on my computer do not even bother playing on the phone its impossible you are just gonna dislike it yeah but babe which one is it is it or save the world oh wait never mind got it is performing in on i like the price is for people damn is gigs lets see how you run it on that and now we wait i forgot how many games i have in this computer already it is the only area it would i died again play squads we will play together tomorrow so i can watch you die and you can me when you are dead thanks babe i do not work so why not we are going to a musical show on with at oh i see you are back to working days a week again no three days tomorrow is it a fancy musical what musical is it tomorrows oh wait i know what to wear i got this performances by artists so but tomorrow you me fort where is the musical on what time do you wanna hangout tomorrow i meant you join the same party from your otherwise we can not play at the same time on the same team add me consume the shield the blue stuff gives armor press alt to see each item description hey where is the musical tomorrow you said we were going to a musical show with tomorrow at but you did not tell me where I will tell tomorrow i work tomorrow now they increased your hours no babe this is at i got fired from ten but yes gave me more days thats what I am saying nice I am taking a lunch break from fort when back on hey sassy pants i do not think you can tear down a tree it gives resources you tear it down completely enemies will know when it falls oh is that right I am kidding nice i need a different weapon no need to learn how to land quickly and a mouse you are standing with a pick can not be the case agree to disagree it takes forever to scroll to a weapon and move the cursor with laptop well you know i know wait for me I will wait now i changed the mode so you can learn can like listen look at your map I am next to you left click on the shield so nice I am gonna go hot tub now it takes practice i used to suck at the game too working i could tell wow such an angry boo nothing nutritional'"
      ]
     },
     "execution_count": 209,
     "metadata": {},
     "output_type": "execute_result"
    },
    {
     "name": "stdout",
     "output_type": "stream",
     "text": [
      "time: 27.6 ms\n"
     ]
    }
   ],
   "source": [
    "dev_set"
   ]
  },
  {
   "cell_type": "code",
   "execution_count": 72,
   "metadata": {},
   "outputs": [
    {
     "name": "stdout",
     "output_type": "stream",
     "text": [
      "time: 670 ms\n"
     ]
    }
   ],
   "source": []
  },
  {
   "cell_type": "code",
   "execution_count": 153,
   "metadata": {},
   "outputs": [
    {
     "name": "stdout",
     "output_type": "stream",
     "text": [
      "['VBZ', 'DT', 'JJ']\n",
      "['RB']\n",
      "time: 964 µs\n"
     ]
    }
   ],
   "source": [
    "print([w.tag_ for w in doc])\n",
    "print([w.tag_ for w in pred])"
   ]
  },
  {
   "cell_type": "code",
   "execution_count": null,
   "metadata": {},
   "outputs": [],
   "source": []
  }
 ],
 "metadata": {
  "kernelspec": {
   "display_name": "Python 3",
   "language": "python",
   "name": "python3"
  },
  "language_info": {
   "codemirror_mode": {
    "name": "ipython",
    "version": 3
   },
   "file_extension": ".py",
   "mimetype": "text/x-python",
   "name": "python",
   "nbconvert_exporter": "python",
   "pygments_lexer": "ipython3",
   "version": "3.7.4"
  }
 },
 "nbformat": 4,
 "nbformat_minor": 2
}
