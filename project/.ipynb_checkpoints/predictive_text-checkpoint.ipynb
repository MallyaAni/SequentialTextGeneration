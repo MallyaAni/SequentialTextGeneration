{
 "cells": [
  {
   "cell_type": "code",
   "execution_count": 1,
   "metadata": {},
   "outputs": [
    {
     "name": "stderr",
     "output_type": "stream",
     "text": [
      "Using TensorFlow backend.\n"
     ]
    }
   ],
   "source": [
    "from sklearn.feature_extraction.text import CountVectorizer, TfidfVectorizer\n",
    "import nltk\n",
    "import keras\n",
    "import numpy as np\n",
    "from keras.preprocessing.text import Tokenizer\n",
    "from nltk.stem import PorterStemmer \n",
    "from nltk.lm import Vocabulary\n",
    "import glob\n",
    "import enchant\n",
    "import string\n",
    "import bs4 as bs\n",
    "import pandas as pd\n",
    "from collections import Counter\n",
    "import urllib.request\n",
    "import re\n",
    "from sklearn.utils import shuffle\n",
    "import nltk\n",
    "import multiprocessing\n",
    "import ndjson\n",
    "from sklearn import linear_model\n",
    "import tensorflow as tf\n",
    "from nltk.corpus import stopwords\n",
    "from sklearn.naive_bayes import MultinomialNB\n",
    "from sklearn.model_selection import train_test_split\n",
    "from keras.models import model_from_json\n",
    "from sklearn.neural_network import MLPClassifier\n",
    "from sklearn.linear_model import SGDClassifier\n",
    "from keras.models import Sequential\n",
    "from keras.layers import Dense, Dropout, Flatten, Activation\n",
    "from keras.layers import MaxPooling2D, Conv2D, GlobalAveragePooling2D, Bidirectional, LSTM\n",
    "from gensim.models import Word2Vec\n",
    "import pickle\n",
    "import nltk\n",
    "from keras.optimizers import Adam\n",
    "from keras.callbacks import EarlyStopping\n",
    "from keras.metrics import categorical_accuracy\n",
    "import ssl\n",
    "from google.cloud import storage\n",
    "%load_ext autotime\n",
    "from keras import backend as K\n",
    "import matplotlib.pyplot as plt\n",
    "%matplotlib inline\n",
    "np.random.seed(7)\n",
    "\n",
    "import warnings\n",
    "warnings.filterwarnings('ignore')\n",
    "\n",
    "try:\n",
    "    _create_unverified_https_context = ssl._create_unverified_context\n",
    "except AttributeError:\n",
    "    pass\n",
    "else:\n",
    "    ssl._create_default_https_context = _create_unverified_https_context\n",
    "\n",
    "import os\n",
    "\n",
    "device = 'w'\n",
    "\n",
    "gpath = 'C:/Users/Ani/Desktop/NLP_project/key.json'\n",
    "ngram_size = 3\n",
    "\n",
    "if device=='m':\n",
    "    gpath = '/Users/animallya/Desktop/NLP_project/key.json'\n",
    "\n",
    "os.environ[\"GOOGLE_APPLICATION_CREDENTIALS\"] = gpath"
   ]
  },
  {
   "cell_type": "code",
   "execution_count": 2,
   "metadata": {},
   "outputs": [
    {
     "name": "stdout",
     "output_type": "stream",
     "text": [
      "[name: \"/device:CPU:0\"\n",
      "device_type: \"CPU\"\n",
      "memory_limit: 268435456\n",
      "locality {\n",
      "}\n",
      "incarnation: 18359401267294242233\n",
      ", name: \"/device:XLA_CPU:0\"\n",
      "device_type: \"XLA_CPU\"\n",
      "memory_limit: 17179869184\n",
      "locality {\n",
      "}\n",
      "incarnation: 8915457712739011100\n",
      "physical_device_desc: \"device: XLA_CPU device\"\n",
      "]\n",
      "time: 17.2 ms\n"
     ]
    }
   ],
   "source": [
    "from tensorflow.python.client import device_lib\n",
    "print(device_lib.list_local_devices())"
   ]
  },
  {
   "cell_type": "markdown",
   "metadata": {},
   "source": [
    "## Web scraping data about AI\n"
   ]
  },
  {
   "cell_type": "code",
   "execution_count": 3,
   "metadata": {},
   "outputs": [
    {
     "name": "stdout",
     "output_type": "stream",
     "text": [
      "time: 400 µs\n"
     ]
    }
   ],
   "source": [
    "# def web_scrape(urls):\n",
    "#     corpuses = []\n",
    "#     for url in urls:\n",
    "#         scraped_data = urllib.request.urlopen('https://en.wikipedia.org/wiki/'+url)\n",
    "#         article = scraped_data .read()\n",
    "\n",
    "#         parsed_article = bs.BeautifulSoup(article,'lxml')\n",
    "\n",
    "#         paragraphs = parsed_article.find_all('p')\n",
    "\n",
    "#         article_text = \"\"\n",
    "\n",
    "#         for p in paragraphs:\n",
    "#             article_text += p.text\n",
    "\n",
    "#         corpus = article_text.lower()\n",
    "#         corpus = re.sub('[^a-zA-Z0-9]', ' ', corpus)\n",
    "#         corpus = re.sub(r'\\s+', ' ', corpus)\n",
    "#         corpuses.append(corpus)\n",
    "#     return corpuses"
   ]
  },
  {
   "cell_type": "code",
   "execution_count": 4,
   "metadata": {},
   "outputs": [
    {
     "name": "stdout",
     "output_type": "stream",
     "text": [
      "time: 552 µs\n"
     ]
    }
   ],
   "source": [
    "#open AI GPT-2 data\n",
    "# client = storage.Client()\n",
    "# bucket = client.get_bucket('nlp_predictive_text')\n",
    "# blob = bucket.get_blob('data/webtext.test.jsonl')\n",
    "# json_data_string = blob.download_as_string()\n",
    "# train_data = ndjson.loads(json_data_string)[:50]\n",
    "# test_data = ndjson.loads(json_data_string)[51:52]\n",
    "\n",
    "# def preprocess(documents):\n",
    "#     corpus = [re.sub(r'\\s+', ' ', re.sub('[^a-zA-Z,.:;]', ' ', data['text'].lower())) for data in documents]\n",
    "#     return corpus\n",
    "\n",
    "# corpus = preprocess(train_data)\n",
    "# test_corpus = preprocess(test_data)"
   ]
  },
  {
   "cell_type": "code",
   "execution_count": 5,
   "metadata": {},
   "outputs": [
    {
     "name": "stdout",
     "output_type": "stream",
     "text": [
      "time: 1.36 ms\n"
     ]
    }
   ],
   "source": [
    "def embed(corpus):\n",
    "    sentences = nltk.sent_tokenize(' '.join(corpus))\n",
    "    all_words = [nltk.word_tokenize(sent) for sent in sentences]\n",
    "    for i in range(len(all_words)):\n",
    "        all_words[i] = [w for w in all_words[i] if w not in stopwords.words('english') and w not in string.punctuation]\n",
    "    model = Word2Vec(all_words, min_count=3, workers=multiprocessing.cpu_count())\n",
    "    return model\n",
    "#embeddings = embed(corpus)"
   ]
  },
  {
   "cell_type": "code",
   "execution_count": 83,
   "metadata": {},
   "outputs": [
    {
     "name": "stdout",
     "output_type": "stream",
     "text": [
      "time: 2.74 ms\n"
     ]
    }
   ],
   "source": [
    "import sqlite3\n",
    "import pandas as pd\n",
    "\n",
    "def filter_words(text, global_vocab):\n",
    "    words = []\n",
    "    for w in nltk.wordpunct_tokenize(text):\n",
    "        w = w.lower()\n",
    "        if len(w)>1:\n",
    "            if global_vocab.check(w)==True or w in string.punctuation:\n",
    "                words.append(w)\n",
    "        else:\n",
    "            if w in['i','a']:\n",
    "                words.append(w)\n",
    "    return ' '.join(words)\n",
    "\n",
    "def message_scrape(path, n):\n",
    "    conn = sqlite3.connect(path)\n",
    "    c = conn.cursor()\n",
    "    cmd1 = 'SELECT ROWID, text, handle_id, \\\n",
    "                datetime(date + strftime(\\'%s\\',\\'2001-01-01\\'), \\'unixepoch\\') as date_utc \\\n",
    "                FROM message T1 \\\n",
    "                INNER JOIN chat_message_join T2 \\\n",
    "                    ON T2.chat_id='+str(n)+ ' \\\n",
    "                    AND T1.ROWID=T2.message_id \\\n",
    "                ORDER BY T1.date'\n",
    "    c.execute(cmd1)\n",
    "    df_msg = pd.DataFrame(c.fetchall(), columns=['id', 'text', 'sender', 'time'])\n",
    "    corpus = df_msg.text.tolist()\n",
    "    corpus = ' '.join(corpus)\n",
    "    corpus = re.sub('[^a-zA-Z0-9\\']', ' ', corpus)\n",
    "    corpus = re.sub(r'\\s+', ' ', corpus)\n",
    "    corpus = corpus.lower()\n",
    "    filtered_corpus = filter_words(corpus, enchant.Dict(\"en_US\"))\n",
    "    return filtered_corpus"
   ]
  },
  {
   "cell_type": "markdown",
   "metadata": {},
   "source": [
    "## Tf-idf trigram prediction model (continuous Deep Learning)"
   ]
  },
  {
   "cell_type": "code",
   "execution_count": 85,
   "metadata": {},
   "outputs": [
    {
     "name": "stdout",
     "output_type": "stream",
     "text": [
      "time: 330 ms\n"
     ]
    }
   ],
   "source": [
    "corpus = message_scrape(path='/Users/animallya/Desktop/chat.db',n=2)#web_scrape(urls = ['Artificial_intelligence'])\n",
    "words = nltk.wordpunct_tokenize(corpus)\n",
    "vocab = list(Vocabulary(words))\n",
    "vectorizer = TfidfVectorizer(vocabulary=vocab)\n",
    "vectorizer.fit([corpus]) #need multiple documents for later\n",
    "feats = vectorizer.get_feature_names()"
   ]
  },
  {
   "cell_type": "code",
   "execution_count": 68,
   "metadata": {},
   "outputs": [
    {
     "name": "stdout",
     "output_type": "stream",
     "text": [
      "i checked seismic activity might have actually been a small earthquake block min no more office on my mac how do get office now use search spotlight to search for it can product key worked good glad you found it this messages on mac can send green texts you have to turn the option yes bet thinking of posting in a group about gym buddies i feel like i need some folks to join occasionally when your date right now heading there enjoy see you in class ... maybe yes posting in hey might be more useful there are only oldies on this one liked posting in hey might be more useful there are only oldies on this one smiling wot none of your damn business why do all these people not want breaks hungry room after class yea you can invite your mother along make sure you can understand this so that for the project we can do a word predictor this stuff is not helping me practical application whatsoever but i am watching some stuff on the side that might help hungry out which genius invented this too much ... too long read ... i at the new all i have is a bunch of question marks in boxes i not in betas any more how about you help me work on assignment otherwise maybe coding questions if you re not doing anything today at home gotta get more hours well when i back from my trip then i gonna work on stuff try to start off with the link i sent it literally the same what link oh the yea yeah i just think i need to get on the actual coding and python practice it ll make the other stuff easier to figure out next to the black guy is who number i got but shes 18 weird looking event but good for you reminds me of his latest video who what what reminds you of what as usual i don know what you re talking about bullshit run the program its so nice the project ill push it now you push i ll pull and run through tomorrow morning i reading up on upcoming stuff and how to do the neural network stuff its accurate i made it prediction user gets to choose you should see it now its great i pushed it just pull and run cells below testing each hint forms a different sentence off to non screen time will run in the am and catch you tomorrow maybe to work on the a bit i need some guidance at least on part of it otherwise will go to office hours probably at class busy week still coding challenge remains okay the first thing id need from you is a baseline model that we will need to compare our model to because our model is already working really well just by using previous words logistic regression to predict next work word my thing is not recognizing even though i did a pip install and then you can show me in class what we need i just trying to get my together prior to that install yep says already satisfied installed all stuff figure it out works pretty nicely it appears yo when you heading to class also think you ll be able to help with the at all meet at bus stop practicing for coding test yea maybe mines different tho its at 42nd and 8th bus stop you mean and yeah i think you be better i helping than going to office hours i just don think it worth the extra commute usually i would be able to but this week is packed i added in trigram tagging to the project this morning ill show it all to you in class its so nice sounds good i on first floor 225 where beep are you and your yup yeah that what i going on and then i ll get to you and i see it is on my phone morning i finally get a new phone interview with you and your phone number so that we have to do the work for the weekend and i will send it out tomorrow and i have a lot to say to the other folks in this case i don know if you can do something like this and then you get a chance and you get the time and time for a new job of the year that we have a chance of seeing you guys in a class that you have never done anything like that you have a couple more work done with a couple of people who are not working on the other side of the road pure apple text prediction message too many cool story bro bet got card what time 30 yeah here check it out join me at weekly happy hour hula hula cap hill a also setting up monthly payments select min payment due or statement balance statement balance is safer right yes earn 10 000 points after you spend 500 in net purchases within the first 90 days of the account open date points will be awarded at the close of the first billing statement after you spend 500 in purchases on your visa card these points can be redeemed for 100 value in credits cash back or gift cards this bonus is limited to new cardholders only what the catch nothing just spending a lot i ll on the for you two if you re not on the i have the done and cool now with us it 49 going 49 will fit in hula hula yup 30 but karaoke starts at yeah so up to you when you guys arrive signing up early helps otherwise long wait we ll just end up watching should go up there with your girl i ll try drinks and maybe it ll happen how will this identify every restaurant to give it needs to know these transactions are categorized by the bank yeah when you look at the statement you see also probably some type stuff if it says like pub or restaurant bet bet bet bet bet bet bet bet bet bet bet bet bet bet bet bet bet bet bet bet bet bet bet bet bet bet bet bet bet bet bet bet bet bet bet bet bet bet bet bet bet bet bet bet bet bet bet bet bet bet bet bet bet bet bet bet bet bet bet bet bet bet bet bet bet bet bet bet bet bet bet bet bet bet bet bet bet bet bet bet bet bet bet bet bet bet bet bet bet bet bet bet bet bet bet bet bet bet bet bet bet bet bet bet bet bet bet bet bet bet bet bet bet bet bet bet bet bet bet bet bet bet bet bet bet bet bet bet bet bet bet bet bet bet bet bet bet bet bet bet bet bet bet bet bet bet bet bet bet bet bet bet bet bet bet bet bet bet bet bet bet bet bet bet bet bet bet bet bet bet bet bet bet bet bet bet bet bet bet bet bet bet bet bet bet bet bet bet bet bet bet bet bet bet bet bet bet bet bet bet bet bet bet bet bet bet bet bet bet bet bet bet bet bet bet bet bet bet bet bet bet bet bet bet bet bet bet bet bet bet bet bet bet bet bet bet bet bet bet bet bet bet bet bet bet bet bet bet bet bet bet bet bet bet bet bet bet bet bet bet bet bet bet bet bet bet bet bet bet bet bet bet bet bet bet bet bet bet bet bet bet bet bet bet bet bet bet bet bet bet bet bet bet bet bet bet bet bet bet bet bet bet bet bet bet bet bet bet bet bet bet bet bet bet bet bet bet bet bet bet bet bet bet bet bet bet bet bet bet bet bet bet bet bet bet bet bet bet bet bet bet bet bet bet bet bet bet bet bet bet bet bet bet bet bet bet bet bet bet bet bet bet bet bet bet bet bet bet bet bet bet bet bet bet bet bet bet bet bet bet bet bet bet bet bet bet bet bet bet bet bet bet bet bet bet bet bet bet bet bet bet bet bet bet bet bet bet bet bet bet bet bet bet bet bet bet bet bet bet bet bet bet bet bet bet bet bet bet bet bet bet bet bet bet bet bet bet bet bet bet bet bet bet bet bet bet bet bet bet bet bet bet bet bet bet bet bet bet bet bet bet bet bet bet bet bet bet bet bet bet bet bet bet bet bet bet bet bet bet bet bet bet bet bet bet bet bet bet bet bet bet bet bet bet bet bet bet bet bet bet bet bet bet bet bet bet bet bet bet bet bet bet bet bet bet bet bet bet bet bet bet bet bet bet bet bet bet bet bet bet bet bet bet bet bet bet bet bet bet bet bet bet bet bet bet bet bet bet bet bet bet bet bet bet bet bet bet bet bet bet bet bet bet bet bet bet bet bet bet bet bet bet bet bet bet bet bet bet bet bet bet bet bet bet bet bet bet bet bet bet bet bet bet bet bet bet bet bet bet bet bet bet bet bet bet bet bet bet bet bet bet bet bet bet bet bet bet bet bet bet bet bet bet bet bet bet bet bet bet bet bet bet bet bet bet bet bet bet bet bet bet bet bet bet bet bet bet bet bet bet bet bet bet bet bet bet bet bet bet bet bet bet bet bet bet bet bet bet bet bet bet bet bet bet bet bet bet bet bet bet bet bet bet bet bet bet bet bet bet bet bet bet bet bet bet bet bet bet bet bet bet bet bet bet bet bet bet bet bet bet bet bet bet bet bet bet bet bet bet bet bet bet bet bet bet bet bet bet bet bet bet bet bet bet bet bet bet bet bet bet bet bet bet bet bet bet bet bet bet bet bet bet bet bet bet bet bet bet bet bet bet bet bet bet bet bet bet bet bet bet bet bet bet bet bet bet bet bet bet bet bet bet bet bet bet bet bet bet bet bet bet bet bet bet bet bet bet bet bet bet bet bet bet bet bet bet bet bet bet bet bet bet bet bet bet bet bet bet bet bet bet bet bet bet bet bet bet bet bet bet bet bet bet bet bet bet bet bet bet bet bet bet bet bet bet bet bet bet bet bet bet bet bet bet bet bet bet bet bet bet bet bet bet bet bet bet bet bet bet bet bet bet bet bet bet bet bet bet bet bet bet bet bet bet bet bet bet bet bet bet bet bet bet bet bet bet bet bet bet bet bet bet bet bet bet bet bet bet bet bet bet bet bet bet bet bet bet bet bet bet bet bet bet bet bet bet bet bet bet bet bet bet bet bet bet bet bet bet bet bet bet bet bet bet bet bet bet bet bet bet bet bet bet bet bet bet bet bet bet bet bet bet bet bet bet bet bet bet bet bet bet bet bet bet bet bet bet bet bet bet bet bet bet bet bet bet bet bet bet bet bet bet bet bet bet bet bet bet bet bet bet bet bet bet bet bet bet bet bet bet bet bet bet bet bet bet bet bet bet bet bet bet bet bet bet bet bet bet bet bet bet bet bet bet bet bet bet bet bet bet bet bet bet bet bet bet bet bet bet bet bet bet bet bet bet bet bet bet bet bet bet bet bet bet bet bet bet bet bet bet bet bet bet bet bet bet bet bet bet bet bet bet bet bet bet bet bet bet bet bet bet bet bet bet bet bet bet bet bet bet bet bet bet bet bet bet bet bet bet bet bet bet bet bet bet bet bet bet bet bet bet bet bet bet bet bet bet bet bet bet bet bet bet bet bet bet bet bet bet bet bet bet bet bet bet bet bet bet bet bet bet bet bet bet bet bet bet bet bet bet bet bet bet bet bet bet bet bet bet bet bet bet bet bet bet bet bet bet bet bet bet bet bet bet bet bet bet bet bet bet bet bet bet bet bet bet bet bet bet bet bet bet bet bet bet bet bet bet bet bet bet bet bet bet bet bet bet bet bet bet bet bet bet bet bet bet bet bet bet bet bet bet bet bet bet bet bet bet bet bet bet bet bet bet bet bet bet bet bet bet bet bet bet bet bet bet bet bet bet bet bet bet bet bet bet bet bet bet bet bet bet bet bet bet bet bet bet bet bet bet bet bet bet bet bet bet bet bet bet bet bet bet bet bet bet bet bet bet bet bet bet bet bet bet bet bet bet bet bet bet bet bet bet bet bet bet bet bet bet bet bet bet bet bet bet bet bet bet bet bet bet bet bet bet bet bet bet bet bet bet bet bet bet bet bet bet bet bet bet bet bet bet bet bet bet bet bet bet bet bet bet bet bet bet bet bet bet bet bet bet bet bet bet bet bet bet bet bet bet bet bet bet bet bet bet bet bet bet bet bet bet bet bet bet bet bet bet bet bet bet bet bet bet bet bet bet bet bet bet bet bet bet bet bet bet bet bet bet bet bet bet bet bet bet bet bet bet bet bet bet bet bet bet bet bet bet bet bet bet bet bet bet bet bet bet bet bet bet bet bet bet bet bet bet bet bet bet bet bet bet bet bet bet bet bet bet bet bet bet bet bet bet bet bet bet bet bet bet bet bet bet bet bet bet bet bet bet bet bet bet bet bet bet bet bet bet bet bet bet bet bet bet bet bet bet bet bet bet bet bet bet bet bet bet bet bet bet bet bet bet bet bet bet bet bet bet bet bet bet bet bet bet bet bet bet bet bet bet bet bet bet bet bet bet bet bet bet bet bet bet bet bet bet bet bet bet bet bet bet bet bet bet bet bet bet bet bet bet bet bet bet bet bet bet bet bet bet bet bet bet bet bet bet bet bet bet bet bet bet bet bet bet bet bet bet bet bet bet bet bet bet bet bet bet bet bet bet bet bet bet bet bet bet bet bet bet bet bet bet bet bet bet bet bet bet bet bet bet bet bet bet bet bet bet bet bet bet bet bet bet bet bet bet bet bet bet bet bet bet bet bet bet bet bet bet bet bet bet bet bet bet bet bet bet bet bet bet bet bet bet bet bet bet bet bet bet bet bet bet bet bet bet bet bet bet bet bet bet bet bet bet bet bet bet bet bet bet bet bet bet bet bet bet bet bet bet bet bet bet bet bet bet bet bet bet bet bet bet bet bet bet bet bet bet bet bet bet bet bet bet bet bet bet bet bet bet bet bet bet bet bet bet bet bet bet bet bet bet bet bet bet bet bet bet bet bet bet bet bet bet bet bet bet bet bet bet bet bet bet bet bet bet bet bet bet bet bet bet bet bet bet bet bet bet bet bet bet bet bet bet bet bet bet bet bet bet bet bet bet bet bet bet bet bet bet bet bet bet bet bet bet bet bet bet bet bet bet bet bet bet bet bet bet bet bet bet bet bet bet bet bet bet bet bet bet bet bet bet bet bet bet bet bet bet bet bet bet bet bet bet bet bet bet bet bet bet bet bet bet bet bet bet bet bet bet bet bet bet bet bet bet bet bet bet bet bet bet bet bet bet bet bet bet bet bet bet bet bet bet bet bet bet bet bet bet bet bet bet bet bet bet bet bet bet bet bet bet bet bet bet bet bet bet bet bet bet bet bet bet bet bet bet bet bet bet bet bet bet bet bet bet bet bet bet bet bet bet bet bet bet bet bet bet bet bet bet bet bet bet bet bet bet bet bet bet bet bet bet bet bet bet bet bet bet bet bet bet bet bet bet bet bet bet bet bet bet bet bet bet bet bet bet bet bet bet bet bet bet bet bet bet bet bet bet bet bet bet bet bet bet bet bet bet bet bet bet bet bet bet bet bet bet bet bet bet bet bet bet bet bet bet bet bet bet bet bet bet bet bet bet bet bet bet bet bet bet bet bet bet bet bet bet bet bet bet bet bet bet bet bet bet bet bet bet bet bet bet bet bet bet bet bet bet bet bet bet bet bet bet bet bet bet bet bet bet bet bet bet bet bet bet bet bet bet bet bet bet bet bet bet bet bet bet bet bet bet bet bet bet bet bet bet bet bet bet bet bet bet bet bet bet bet disliked bet bet bet bet bet bet bet bet bet bet bet bet bet bet bet bet bet bet bet bet bet bet bet bet bet bet bet bet bet bet bet bet bet bet bet bet bet bet bet bet bet bet bet bet bet bet bet bet bet bet bet bet bet bet bet bet bet bet bet bet bet bet bet bet bet bet bet bet bet bet bet bet bet bet bet bet bet bet bet bet bet bet bet bet bet bet bet bet bet bet bet bet bet bet bet bet bet bet bet bet bet bet bet bet bet bet bet bet bet bet bet bet bet bet bet bet bet bet bet bet bet bet bet bet bet bet bet bet bet bet bet bet bet bet bet bet bet bet bet bet bet bet bet bet bet bet bet bet bet bet bet bet bet bet bet bet bet bet bet bet bet bet bet bet bet bet bet bet bet bet bet bet bet bet bet bet bet bet bet bet bet bet bet bet bet bet bet bet bet bet bet bet bet bet bet bet bet bet bet bet bet bet bet bet bet bet bet bet bet bet bet bet bet bet bet bet bet bet bet bet bet bet bet bet bet bet bet bet bet bet bet bet bet bet bet bet bet bet bet bet bet bet bet bet bet bet bet bet bet bet bet bet bet bet bet bet bet bet bet bet bet bet bet bet bet bet bet bet bet bet bet bet bet bet bet bet bet bet bet bet bet bet bet bet bet bet bet bet bet bet bet bet bet bet bet bet bet bet bet bet bet bet bet bet bet bet bet bet bet bet bet bet bet bet bet bet bet bet bet bet bet bet bet bet bet bet bet bet bet bet bet bet bet bet bet bet bet bet bet bet bet bet bet bet bet bet bet bet bet bet bet bet bet bet bet bet bet bet bet bet bet bet bet bet bet bet bet bet bet bet bet bet bet bet bet bet bet bet bet bet bet bet bet bet bet bet bet bet bet bet bet bet bet bet bet bet bet bet bet bet bet bet bet bet bet bet bet bet bet bet bet bet bet bet bet bet bet bet bet bet bet bet bet bet bet bet bet bet bet bet bet bet bet bet bet bet bet bet bet bet bet bet bet bet bet bet bet bet bet bet bet bet bet bet bet bet bet bet bet bet bet bet bet bet bet bet bet bet bet bet bet bet bet bet bet bet bet bet bet bet bet bet bet bet bet bet bet bet bet bet bet bet bet bet bet bet bet bet bet bet bet bet bet bet bet bet bet bet bet bet bet bet bet bet bet bet bet bet bet bet bet bet bet bet bet bet bet bet bet bet bet bet bet bet bet bet bet bet bet bet bet bet bet bet bet bet bet bet bet bet bet bet bet bet bet bet bet bet bet bet bet bet bet bet bet bet bet bet bet bet bet bet bet bet bet bet bet bet bet bet bet bet bet bet bet bet bet bet bet bet bet bet bet bet bet bet bet bet bet bet bet bet bet bet bet bet bet bet bet bet bet bet bet bet bet bet bet bet bet bet bet bet bet bet bet bet bet bet bet bet bet bet bet bet bet bet bet bet bet bet bet bet bet bet bet bet bet bet bet bet bet bet bet bet bet bet bet bet bet bet bet bet bet bet bet bet bet bet bet bet bet bet bet bet bet bet bet bet bet bet bet bet bet bet bet bet bet bet bet bet bet bet bet bet bet bet bet bet bet bet bet bet bet bet bet bet bet bet bet bet bet bet bet bet bet bet bet bet bet bet bet bet bet bet bet bet bet bet bet bet bet bet bet bet bet bet bet bet bet bet bet bet bet bet bet bet bet bet bet bet bet bet bet bet bet bet bet bet bet bet bet bet bet bet bet bet bet bet bet bet bet bet bet bet bet bet bet bet bet bet bet bet bet bet bet bet bet bet bet bet bet bet bet bet bet bet bet bet bet bet bet bet bet bet bet bet bet bet bet bet bet bet bet bet bet bet bet bet bet bet bet bet bet bet bet bet bet bet bet bet bet bet bet bet bet bet bet bet bet bet bet bet bet bet bet bet bet bet bet bet bet bet bet bet bet bet bet bet bet bet bet bet bet bet bet bet bet bet bet bet bet bet bet bet bet bet bet bet bet bet bet bet bet bet bet bet bet bet bet bet bet bet bet bet bet bet bet bet bet bet bet bet bet bet bet bet bet bet bet bet bet bet bet bet bet bet bet bet bet bet bet bet bet bet bet bet bet bet bet bet bet bet bet bet bet bet bet bet bet bet bet bet bet bet bet bet bet bet bet bet bet bet bet bet bet bet bet bet bet bet bet bet bet bet bet bet bet bet bet bet bet bet bet bet bet bet bet bet bet bet bet bet bet bet bet bet bet bet bet bet bet bet bet bet bet bet bet bet bet bet bet bet bet bet bet bet bet bet bet bet bet bet bet bet bet bet bet bet bet bet bet bet bet bet bet bet bet bet bet bet bet bet bet bet bet bet bet bet bet bet bet bet bet bet bet bet bet bet bet bet bet bet bet bet bet bet bet bet bet bet bet bet bet bet bet bet bet bet bet bet bet bet bet bet bet bet bet bet bet bet bet bet bet bet bet bet bet bet bet bet bet bet bet bet bet bet bet bet bet bet bet bet bet bet bet bet bet bet bet bet bet bet bet bet bet bet bet bet bet bet bet bet bet bet bet bet bet bet bet bet bet bet bet bet bet bet bet bet bet bet bet bet bet bet bet bet bet bet bet bet bet bet bet bet bet bet bet bet bet bet bet bet bet bet bet bet bet bet bet bet bet bet bet bet bet bet bet bet bet bet bet bet bet bet bet bet bet bet bet bet bet bet bet bet bet bet bet bet bet bet bet bet bet bet bet bet bet bet bet bet bet bet bet bet bet bet bet bet bet bet bet bet bet bet bet bet bet bet bet bet bet bet bet bet bet bet bet bet bet bet bet bet bet bet bet bet bet bet bet bet bet bet bet bet bet bet bet bet bet bet bet bet bet bet bet bet bet bet bet bet bet bet bet bet bet bet bet bet bet bet bet bet bet bet bet bet bet bet bet bet bet bet bet bet bet bet bet bet bet bet bet bet bet bet bet bet bet bet bet bet bet bet bet bet bet bet bet bet bet bet bet bet bet bet bet bet bet bet bet bet bet bet bet bet bet bet bet bet bet bet bet bet bet bet bet bet bet bet bet bet bet bet bet bet bet bet bet bet bet bet bet bet bet bet bet bet bet bet bet bet bet bet bet bet bet bet bet bet bet bet bet bet bet bet bet bet bet bet bet bet bet bet bet bet bet bet bet bet bet bet bet bet bet bet bet bet bet bet bet bet bet bet bet bet bet bet bet bet bet bet bet bet bet bet bet bet bet bet bet bet bet bet bet bet bet bet bet bet bet bet bet bet bet bet bet bet bet bet bet bet bet bet bet bet bet bet bet bet bet bet bet bet bet bet bet bet bet bet bet bet bet bet bet bet bet bet bet bet bet bet bet bet bet bet bet bet bet bet bet bet bet bet bet bet bet bet bet bet bet bet bet bet bet bet bet bet bet bet bet bet bet bet bet bet bet bet bet bet bet bet bet bet bet bet bet bet bet bet bet bet bet bet bet bet bet bet bet bet bet bet bet bet bet bet bet bet bet bet bet bet bet bet bet bet bet bet bet bet bet bet bet bet bet bet bet bet bet bet bet bet bet bet bet bet bet bet bet bet bet bet bet bet bet bet bet bet bet bet bet bet bet bet bet bet bet bet bet bet bet bet bet bet bet bet bet bet bet bet bet bet bet bet bet bet bet bet bet bet bet bet bet bet bet bet bet bet bet bet bet bet bet bet bet bet bet bet bet bet bet bet bet bet bet bet bet bet bet bet bet bet bet bet bet bet bet bet bet bet bet bet bet bet bet bet bet bet bet bet bet bet bet bet bet bet bet bet bet bet bet bet bet bet bet bet bet bet bet bet bet bet bet bet bet bet bet bet bet bet bet bet bet bet bet bet bet bet bet bet bet bet bet bet bet bet bet bet bet bet bet bet bet bet bet bet bet bet bet bet bet bet bet bet bet bet bet bet bet bet bet bet bet bet bet bet bet bet bet bet bet bet bet bet bet bet bet bet bet bet bet bet bet bet bet bet bet bet bet bet bet bet bet bet bet bet bet bet bet bet bet bet bet bet bet bet bet bet bet bet bet bet bet bet bet bet bet bet bet bet bet bet bet bet bet bet bet bet bet bet bet bet bet bet bet bet bet bet bet bet bet bet bet bet bet bet bet bet bet bet bet bet bet bet bet bet bet bet bet bet bet bet bet bet bet bet bet bet bet bet bet bet bet bet bet bet bet bet bet bet bet bet bet bet bet bet bet bet bet bet bet bet bet bet bet bet bet bet bet bet bet bet bet bet bet bet bet bet bet bet bet bet bet bet bet bet bet bet bet bet bet bet bet bet bet bet bet bet bet bet bet bet bet bet bet bet bet bet bet bet bet bet bet bet bet bet bet bet bet bet bet bet bet bet bet bet bet bet bet bet bet bet bet bet bet bet bet bet bet bet bet bet bet bet bet bet bet bet bet bet bet bet bet bet bet bet bet bet bet bet bet bet bet bet bet bet bet bet bet bet bet bet bet bet bet bet bet bet bet bet bet bet bet bet bet bet bet bet bet bet bet bet bet bet bet bet bet bet bet bet bet bet bet bet bet bet bet bet bet bet bet bet bet bet bet bet bet bet bet bet bet bet bet bet bet bet bet bet bet bet bet bet bet bet bet bet bet bet bet bet bet bet bet bet bet bet bet bet bet bet bet bet bet bet bet bet bet bet bet bet bet bet bet bet bet bet bet bet bet bet bet bet bet bet bet bet bet bet bet bet bet bet bet bet bet bet bet bet bet bet bet bet bet bet bet bet bet bet bet bet bet bet bet bet doing a model fit timing evaluation on the titan vs mac and ... sorry i don know where you re going with this i want see how much faster the is liked i want see how much faster the is 156 seconds fuck it mac is still on epoch 13 50 and the winner is obvious its so impressive to see so have a little time today ... i have class until you say that yesterday its every which coffee name just called the espresso with milk slate coffee i tried deep learning today it does prediction with more understanding of context its insane now we have models to talk about well whenever you have time weekend this shit is crazy look at this it also learned humor nice so i ll see you guys at the around then ye apparently mostly gonna watch the why okay bet bet silly you don wanna meet new people that the main point of the meet up the girl is not making it this weekend her friend got in a bad accident which weekend you meet her today this weekend silly like she with her girl friend probably roommate not coming out tonight but is packed so i still on the way there whats the meaning of two courters in my name to my name what are you talking about i have two courters to my name meaning i don know what that means on the way okay think about what her she cute also just like me i see the twins showed i mean she nice looking for my taste and i don know because we talk really but yes they did and they had a fun duet emerald like eyes we actually went exclusive just before i got there you guys do after got food went home others stayed are you not going to class again what does he even do in class anymore decision trees today i there last week would you look at the stuff or are you again too busy i don even know why you took these classes if it all too easy if you re not going to class i could stop by for the afternoon decision trees are like if statements eh it okay you do your thing i have a particular plan for the day wot plan we should try and get the proposal going soon spent more than 24 hours on this already just set up sync today evening i free and weekend too well it was your call to go at it alone and not involve me at all so we ll have to figure it out tomorrow sorry i just having a morning where i need to be alone for a while yea just handle the writing its explain all of this let tomorrow or later tonight if that what ends up being the plan for sure what to do since we went exclusive yesterday should i stay away from sleeping with again confused the sex was good it obvious but the sex was time to be a man and commit since you went exclusive don be a jerk will be let down and also the others too you need to let them know that it was fun and now you re in a relationship think of it like you having more of the power which is rare i have to explain it to you but it your life do as you like done like the post what post post do i have to we like each other a lot so it matters to me that close friends like and comment i ll like it but only when you make sure to let the others know you should at least text the others i told them but good on you for making an adult move like and comment also yeah i feel guilty otherwise coming to trivia i don think so honestly today the first day where i feel like i just wanna either like not even see anyone or get drunk and just go nuts we ll see when rolls around though something to do with last night partially and an accumulation of my general emotions too i been off medication for a couple months now and afraid it like a relapse of depression thanks can install i install for you i gave you access to the bucket in class yeah will do shortly also i ll be home around 30 probably and will cook if you wanna stop by no i just working on stuff on my own and had to help a friend out with something yeah we can cook something together can split the cost cool i have the ground sirloin you just think of what ingredients interest you i have all the basic veggies lets make it spicy sure i have spices and a will it go well with pasta yes in fact yeah we can do that then similar to the chicken one when do you wanna stop by i wanna work a bit more and then back home i can come now we can walk to your place together cool i can over to you then almost here heading out now faster gonna rain it been like this all day raining in cap hill now in fact pm 60 it rain not scary rain is causing traffic on the right now on the highway mister i was in cap hill bet bet come out in minutes we re approaching den bring a big umbrella come project proposal due in days let finish this today i ll do this part and you can do the paper part did get the link in email no email plus gotta finish the other stuff too gotta get unstuck need breakfast and to get started working on stuff you should gotten it now i did how much i could the rest is based on the paper you pick nope here email at com ms you gonna come by or what the deal that might not help just yet because the rest is based on the paper you read i can probably find a paper for probably not actually i bad at that its called predictive text document 7861162 this could be good i need to finish the before i get to this don i but i getting nowhere i ll read through the stuff you sent i don think you re gonna be able to finish that the tiff part is pretty straight forward tho finishing the ml assignment today well not if i get stuck on every little thing ah your stressing me out it too easy for you and i just getting stuck on things i mean it due like 11 i know like i said i can procrastinate my weekdays are gonna be interviews and going out with so i try to finish everything before that what to do honestly not being helpful and neither is the class itself what am i supposed to do more time on reading examples that people have done is only what can help i had to do some of this stuff times to actually understand precisely what going on the first time i used was last summer i have to submit tonight so that why its gotta be like a consistent thing hours a day of work i do at least days in the week over holidays if you have the time i recommend enrolling in a deep learning course that how i really well am i missing a lot of pieces here looks fine how do i check how it classifies a specific body of text that i have just to see what the text is and how it tags it transform a text and then model predict also only use one classifier or it may confuse logistic regression is good i ll come at sure i just throwing all i can in here and you can help me sort through stuff and then we just dig into the project material still sleeping pretty tired might just stay here will let know weird schedule bro i don have access to the service to read that article which the only article link you sent me from its find something relevant before you start reading see the proposal that he has on piazza tell you what to expect so basically the project is text sequence prediction using neural language models gotcha so i can search for stuff related to that search on text sequence prediction even if its not a neural language model its most likely this one does a lot better than that if the paper is not also researching another method to add in so far we have neural nets contributing to the final prediction oh also i don understand how i supposed to configure different layers of the neural network in the 80 accuracy is fine leave it i think at this point i just gonna do the last part run the classifier on test set and call it ye plans for the night dunno what about you dunno boring day at the story nope then i out for the night mixed bag but overall glad to be out just too damn crowded what your plan for the day no plan yet trivia evening if join its at meet after lunch yeah i need food first and then to work on stuff guess project related first and ml midterm material ye let get that proposal draft i ll come at around i think okay a bit after i gonna join some folks for lunch and then can come to you via and we walk soon yeah gonna head out shortly it not even head now bossy dude i ll let you know when i in the way shortly i ready lets just meet at the place directly its already 30 as in for trivia at i heading over now hours is plenty of time dude i thinking what to do for dinner without having to spend much i have chicken and trout at home okay i ll when i a couple minutes from home so you can walk over here or your place my place i getting now i ll start walking now come on down i there document 1505271 gs predictive text users desktop project project gs predictive text remind me tomorrow again that we have class will do i ll come after lunch okay try finishing reading by then so we can complete the writeup we ll write it off the shorter paper will suffice we ll write it off the shorter paper yeah will do come here my mom left bus stop is also closer by my bus stop is half a block from me can we actually meet at slate coffee i feel i do more focused work in a non home environment actually i cant concentrate there focus is carried away in an external environment i feel the opposite way too many distractions at home besides no comfortable seating at your apt can sit on the chair i ll sit on the bed also gonna need food before class probably sometime bring lunch on the way here probably we can grab dinner after class together yup i ll finish going through the larger article shortly and walk over the other one i feel like is brief good but i need more content to talk about context too sounds good heading out now outside shit there yes chilling coming hes clapping his hand now pp pp pee pee pee pee why your laptop blowing like a dryer mine dead silent which ones making sound or it something in the room its coming from near the plus peep tags combine in a certain way to product more meaningful predictions we can incorporate that too probably use a tree parser we need to evaluate time and how much complexity we can add also needs to not be so open about the not listening part recursive still not paying attention proposal complete we need to do some edits though or i mean add some stuff or show your thoughts and i can make final writing edits it not to be submitted until 10 25 though i know but i bad with procrastinating i need to get on the other assignments too that what i doing now but yeah look through and see if we need to add or take anything out probably do separate paragraphs for these points if the paper uses a particular dataset or datasets clearly state what they are if the paper uses a particular evaluation metric or metrics state it clearly also state any key scores that it achieves on these metrics please comment there don text each individual comment to me i trying to focus on the ml midterm what columns do you normalize for the abalone dataset most i have right now is 27 accuracy since i missing something little to adjust in the data i training on i think scratch that i made a change to age rings and now it 77 class rings split into ranges that what i said last night well i just got to it smartypants also is mean squared error of 16 good does is ask to find it score should suffice i am running the gradient boosting because it says to run both a multi class classifier and a and i believe is one of the good metrics to look at i just used linear regression gotta follow the instructions it says to do both for regression logistic regression for classifier linear for regression anyways the problem says to use different methods and that all i saying so what the classifier to use a different activation on the last layer that the difference i not sure shat that means last layer what layer also cross validation i reading up on what it is and where to use it got of 61 my is 76 you mean 76 duh probably you have groups or something for the rings ranges that my accuracy value 76 you might be confusing the two or have some difference no they re the same because my classes are balanced and how do you do that balancing depends on where the range is split stupidly easy midterm don be condescending you re the one with all the ml experience not most of the people in the class i assume eh boring for a grad level class people need to step up align program people who just started coding for real like a year ago at least a lot of them also where did you normalize anything it looked like all the main features are within a similar to range use data describe and you ll see also standardize or normalize trying to figure out if i just need to use preprocessing normalize etc or a scaler i got 78 in your face bet depends on the run and initialization of weights if you run it again it ll change either way 78 accuracy 81 precision 79 logistic regression yes what number did you split i can help but feel like you re trying to find something wrong with my code approach no i trying to find the reason okay here a couple lines abalone where abalone rings log reg solver jobs multi class multinomial random state 42 used as well remove multi class it ll help it increase by a little because its binary classification i used let me try standard will try later figuring out the rain one right now interesting problem with a lot of data ye i got 90 on that one i feel like i have a good combination of stats right i need to spend time on the other problems now meaning like accuracy etc yea what doing i out and heading home soon actually learning a lot of tiny little things in this assignment which one that have a vastest impact in accuracy ml midterm like dealing with skewed data and picking relevant features polynomial regression oh yeah it a good learning experience honestly i have to figure out the rain one now but i like meteorology so my knowledge helps i out with she going though a potential break up and i there to support i ll tell you later i figured out why you re getting 79 and getting 77 its the random state you really have too much time on your hands but yeah that was one of my assumptions wanna work on stuff tomorrow it time when love what you re doing interview is tomorrow what time i ll look at proposal again tomorrow i wrote comments in that we re close to done cool i ll take a look just gotta get it to pages somehow for his satisfaction i think content matters most and thoroughness yeah but he said it in class we re at somehow make that and one title page he say anything beyond the range man anyways if you wanna add stuff beyond what i ll do feel free we ll see what else code wise we can add do and i ll start doing as well tomorrow code wise kinda stuck at this point predictions are already so good visualization of deep learning is too hard i think we need to think of practical applications and extensions of current stuff non library stuff etc i ll brainstorm we can covert that into a mobile if you want to but never done that its just a python script that runs basically ooh good i have some web experience deploy python on basically yep or like flask or something react and python work too regularization brought up the 76 to 78 using penalty which i need research into some of these interesting details and it brought up rain dataset classification from 88 to 95 now i can incorporate this in our project too faculty look at the number of publications hes contributed a huge ass dataset to detecting sexual predators in chat is a research interest the latest video is delightful for stuff do you use or the to run through part let get proposal out of the way first so we can turn it in and where you been we went to and dinner and to my place please look at the doc and see if everything makes sense and i ll do final edits etc i did all i could on the content there with the limited scope of the paper whatever left may be easiest for you to synthesize you addressed the comments if so i ll look now i mean with what i could i ll clean things up once you add or take away what you think should go in the final submission i wanna go over to to use that piano badly are you looking at what we were talking about will look after reaching campus oh yeah your class ye added comments should be done after this fixed some things okay cool i ll take a peek in a moment going through the and running into some small bug ... what is accuracy metric for the etc is it related to our plotting of loss or something else like we were doing with accuracy score loss i gotta read into it more testing accuracy you can get cool so i can just pull that from the loss information it using for plotting ... i leave it for now gotta run the other two and yea this is amazing stuff it predicting the country names are from better than i expect even just the one yes once you change to last you ll notice it does better predictions at longer words are you you guys planning to go out for the events yea we can go somewhere yeah except i wish i had a date to bring ... we should go get the costumes soon then we should just go by and i ask people will you be my yeah where do we go for costumes with the move and everything i don think she ll say yes ... she been most of the time it seems this week or should i call and also say i know you re busy but would be fun etc ... just text ugh i just feel like a call would stand out more i ll give it until tonight tomorrow morning i think too much easy for you to say you re already together with your girl that what saying when its the right person it ll automatically happen without the need to think about when to text them so what do you think ... i won make it asking out i ll just say are you doing anything and then go for it whatever comes to mind if she equally interested shell play along ask probably only looking for girls meet at 30 is tonight try to finish final changes tomorrow morning so we can turn it in yep also gonna try out going to class today at least for half what picture should i put in on title page something to do with text prediction or gram language models or cool then i can just save to and email to them are you staying home let me look at the final draft before submission sure make any final changes and then will do so you re not going to class gonna rest and complete some work before double date i assuming that at this point i need to attend unless he focus on the important stuff what the double date movies and dinner at with and her bf what he covering today not sure but he getting into deep learning this time or next time ... and lucky you yes alright then humble finish draft you looking at it i already done all i can name of the baseline model there are no names besides what i wrote or found i also don know what you mean like people name their models for ex you look at the paper there is no particular name besides the systems they use so the entire model no did you read the paper no i can do both exactly coding itself takes a time bet can turn it in methods is cut off between the pages seems like i don think that matters looks fine in the i generated it just weird in word so guess i ll catch ya later yup next days are end of how its awesome yes what validation accuracy are getting for the run garbage is giving me 24 it can only predict some classes well what run stupid mac oh how do i get that metric i am just trying to get the to run running into a parameter issue as usual run predictions on validation set i just don yet know how to write code to output accuracy think straight forward the confusion matrix show how well it predicts if you run on development set write code to output accuracy on the development set that is not helpful garbage model stuck on this forever my question is have you done the rainfall problem in the ml midterm that due sooner yes is it tedious or you just selected a couple features from the many provided i don just blindly do that cleaned the data etc look at histograms data look at correlations and then pick most relevant features also fine tuned the algorithm with regularization so lets say a column has a ton of is that reason enough to exclude it oh just got coding invite from don exclude the entire column exclude the row so basically freeze is year so are you working with about 56420 rows in the rain dataset or any right is right okay how many rows of data were you working with after cleaning will check stupid what does your confusion matrix look like i have 59898 for the rain hold on i ll send you a what threshold did you use no threshold just default but that means you re excluding rows though thats all well you re the expert i ll go with that for now confusion on validation yep i passed in set can attach the notebook here mines acting weird i see what going wrong here its doing well only on one class is the file not too big notebook is small okay good or email is also fine also when you say fine tune etc does that mean you say cleaned up changed directions to numbers as well as using scaler for the different kinds of number columns i not sure if there a ml way to choose the most relevant features columns ... yea so how did you end up selecting features to use though i can get all the info i need without constantly going source to source for this one i used all corr if correlation is high then you pick because each one was significant enough that it make sense to remove individual features yea how you deal with the dates remove does 550 get transferred i the bus 70 then 550 transfers or is it different fee yes i think so but small chance i could be wrong oh i see now why your matrix looks good you random on this one you gotta do one by one for each validation thing then can get accuracy i give up fucking wasting my time i don know what i doing without guidance just go through every word rather than doing random the model seems to be trained correctly so when go over every word you know which ones got right so you can get accuracy it not funny any more i honestly annoyed by all of it i don feel like i getting the fundamentals i supposed to get i spent half the day yesterday just getting to can we work on this tomorrow otherwise i just gonna deal with looking for tomorrow i stuck over there too i ll let you know depends on how tired i ll be after tonight implementations of is so easy i sitting alone at a bar in cap hill enjoy the warmth at home yeah at least i not alone here i fucked my hand while bowling we went to lucky strike yuck you fucked your hand good for you so work on stuff or i just go to campus myself i can come during the evening just woke up not gonna work maybe tomorrow then i getting work done during the day through then i out of the house what your train test split look like for the rainfall problem same for all i mean what goes into what like train train etc what mean eh it matter i just unable to figure things out or how to clearly get the data prepped how it needs to be i not getting anywhere at this point i mean once you take out just split out features from labels and train test split and fit i gotten somewhere anyways but we can look together later to see where all my mistakes are at least i got things lined up and log reg gave me 85 accuracy ... just don know if i am working with the right numbers what are you doing tomorrow that seems about right by using linear regression i did some optimizations to get it unto 95 we can meet tomorrow will let know we have trivia evening can meet for lunch and go tomorrow the labels are column in the file do not use column in your model what column cool i dropped why is that ll be my target i think so either way if you look at it talks about it rain tomorrow is target it can be either depending on how you set things up i also showed some of my processing anyways we ll take a look tomorrow some point or the midterm says rain tomorrow is target gonna study for coding assessment from it says their directly related so really matter yea they re correlated to anyways i ll figure things out you re schedule align with mine at all these days besides class yea dropping risk mm makes is 85 86 cross val scores are 99 tho i ll need to see what you re talking about not sure what all that means for the data evening plans maybe go out i at a movie right now with a friend when does it end and where at i ll be home by i think we can meet at for dinner at that time i ll just order now super hungry we ll meet tomorrow got costume nope but i can find something for next weekend wants us to join her now she wants to go somewhere i ll see if i can get my lady friend to join when for next weekend nice weather work and cook dinner like last week not sure about timing i ll let you know we re on a day trip to are back is asking if we go costume shopping a little later before trivia i ll be back around there still time i think maybe earlier i ll let you know meet us at trivia at itself can make it so what do the next couple days look like for you i think we should compare notes on the ml stuff probably focus on finishing that first not sure yet gonna focus on prepping for the coding assessment i got the ml stuff the way yesterday also for soft should be coming soon and they asked some really low level stuff 85 for the rain is what i got too so i think you got that right i see gotcha just write ups really left then i gotta look at the last one how the dataset one go easier i think on that one we need to just load from the site or something since it not a or doc yea grab tea in the evening and cook dinner tonight i up for that how do you get the numbers and columns out of the did you just copy something into a text file or just various things like split strip etc with the text i think had it in its library i used that ooh i ll take a look at that then i in a walking boot getting lunch at i just ate i could stop by and work on stuff maybe otherwise i ll just go home need ingredients anyways we ll meet a bit later take a nap i ll be home still eating yup come here after then walking now limping to you here yo intense conversation cookie fail one of my students is not a thing thats why funny also why when i read through my test file in try to output to labels is there a in the given test file it not letting me print to my file because of that figured it out myself i moving on to and finishing up ml midterm what do you think i should spend most time learning revisiting probably midterm first get it way i mean topics and what to dive deeper on polynomial reg cross validation meet for tea at 30 wanna see the joker for free and i up for something yeah just had the lunch special at cedars when taking coding assessment tonight at 10 meet for tea at 30 there a couple at your local either way could also do another day but yeah maybe i ll bring my laptop along then another day better need to practice problems so still tea or what 30 lets meet at trader then walk to tea okay lets go while it sunny you said 30 i ll put my boot on and start walking heading out i inside trader okay i hobbling over i need to get produce i ll wait here accounts com en login continue com error we finished in 30 min used rest of the time to write comments good was it easier than expected then one was hard go to i against it in a bit maybe 30 when did you wanna go hungry asap whenever skipped breakfast i had phone interview well guess that work then i ate breakfast like 30 minutes ago and how did interview go maybe get the food and come over otherwise i think i gonna keep working on stuff here or a we can go at will finish practicing some questions it went well nice and okay work on stuff after or what are you up to after lunch yea we can go to your place after lunch cool beans i ll see you there sharp at the place yup walk now it take 20 minutes for you to get there i ll be there by sharp at table okay i a couple blocks away girl sitting adjacent to me is so cute check out com fun and funny prediction gives you whole paragraphs downloading all their data nice for the project or what its good data but i don want do the preprocessing it comes in be too bad i sure there a library for that ill see day gotta prep for coding uploading to cloud if wanna see it gotcha will do when i get home do we need tickets for that and i can definitely go confirming might be free with the in we have with the guy who works there that ll be nice shes been bugging me asking what to do is that a confirmation hold on i need to respond to me first or i will try messaging the dude myself you free at all before i get done at class ah wanna go grab some shoes after just an idea otherwise i sitting home and watching football at 20 where from rack is far off in no the one at we ll do that tomorrow do people wear costumes to campus i sure some do woo also look at the height are those shoes regular old shoe plus the even up got laid off ooh shit yup does she need a pep talk you don know about this any update on the ship thing i have two lay off experiences but yeah when it out there i can provide good advice does this mean plans for tonight changing it free and he says as long as you guys are there at 30 sharp she ll be if i take her out address 860 terry ave 98109 be there no later than 30 so its like a boat party thing yep what do i tell him if he asks for tickets he said free admission just be there on time mention my name his name is did he create a event literally was just asking him you should also come after the date we can meet up in between when we re all done with our first events should i wear the costume and then go to the boat cheer her up be there and support her is she meeting you there she should just come to your place and you two commute to the boat that what i thinking liked that what i thinking its called naval reserve armory the place of address nice guess that where they dock i gotta go to smith tower by pm to grab tickets in person the speakeasy duh from but tell them there could be a chance it work out still come through but being free the head count is kinda shaky the boats capacity is 49 so being on time i guess is key how about before time like i sure that will help where the silver ramp you ll see when you get there how the heck would i know ill text if i can find him so or 30 better i sure you ll see where it is just use your eyes and eyes liked ill text if i can find him 15 30 for sure so boat is off those people from a while back responded to him did get your tickets for speakeasy yeah can find tickets on the page there no button it in person why do you think i went there myself oh you re too late because there was a big line behind me at oh pioneer square there plenty going on in cap hill i sure including you could try frat sorority parties so what are you guys up to sex just done my night kill lets meet at 11 30 is picking me up to go where and congrats tell 12 am did get home still out where cap hill is she still there yup what having an awesome time you home go anywhere we re at hula hula already late tho would come earlier is okay been all one on one can make an android that can take predictions from our model and use it as predictive keyboard if so then once that is complete we can incorporate user text data into it for training preprocessing the data from yesterday its i have web not experience though but we can talk things over what today look like for you tired so might not step out can come by here maybe also said the final report includes piece of work that each member has done so to make sure that its balanced see if you can get an working be too hard i guess with examples on the web web is different but i ll take a peek also need to see how much time it take gotta finish up as well yea i ll come by either before class or after class then let me see what the plan is yeah i ll stop by after class either around or like 30 depending on how class goes this helpful at all you think heartbeat fritz text classification on using create ml looks good but instead of using their model we will have to use ours cool i needed some context thankfully a good article came up i ll make sure i have good what did you use to visualize the data for are we supposed to pick out the sentences split things up make it label the words properly ... i visualize i believe the data was already split into train and test okay what was most of the work involving them then also i gonna need some food after class fucking project keeps crashing with large data what boring also is that gonna hinder any of the work no we just cant use lot of data gotcha might have to look into partial fit and keep iterating and partial fitting buy another box should i still stop by i heading out from class now not the wont process the array size buy a new lets meet at okay cool should also grab tea and we can get dinner later cool on the way 20 eta minutes i got an excellent idea yeah ... since its very good at mimicking sequences we can abuse that in a way that lacks tell me about something usually work so we get that something by audio extraction scrape a page on that so goes to so if a user is typing something about we can make it train on data to predict sequence okay let me know what you think is a good idea to research and i ll take a look you focus on the still i ll see what i can do regarding this part the network does such a good job it can identify born in just as good as invented in 1950 liked the network does such a good job it can identify born in just as good as invented in 1950 i trained it on a corpus that even have the word born in it but it figured it out nice developer apple com documentation converting trained models to core ml yup so that can be loaded instead of apples model looks pretty easy i exploring the code in right now swift is quite interesting i see and python influences the interesting part is when data is collected and model is trained user wise this is exciting stuff wanna go to island we have a driver is joining and is out feeling sick in shower yea join when 15 or so space for lunch done a bit to confirm yes and be swift oh car only people it be too long of a trip we can hang with after for food and stuff gonna go grab a snack at farmers market text me when you are ready i currently grabbing some coffee by place and we go to get car is the overall plan also if you like you can it over to building address i can leave now 6th ave it pops up on by the name i go now yup with pool definitely now 35 eta driver canceled niggers okay tell him i on the way cool eta near school so min i outside we ll be right there grabbing something at amazon go round the corner sitting inside crappy end to the night even sleep normally what happened easier to talk about it in person what is your plan for the morning theres so much i need to practice in and graphs i need some food and then probably working on stuff too wanna come by gonna stay at home today need to focus and finish as much possible will see okay for the stuff did you have to extract stuff from train or what did you have to use also logistic is worse than there right own features from textbook not coming already said in the group my also summarize what happened tomorrow not that one the one after you a lady also it weird but edit it and grab the non white image weird bug yea either way i was a bit heartbroken honestly i think i need to let a friendship mature into something basically she needs to see me as that i gonna let things sit a bit and then make my feelings known she had a bit much to drink and let some dude dance up on her and it was like i there i mean i also had drinks and it made things feel worse i just wondering if anything happened she did message after and say where were we and she going home etc no messages today either aw dang that why i don go to bars did she text you today not yet but i also we ll figure it out its fine give it time how the going so far work on the project for a bit before i sleep going through a swift tutorial and their sample will try to make adjustments and play around with it eventually we can import the model into and try it out how was trivia we had more people join for trivia it was fun females males is a rare skew to see in a group in liked females males is a rare skew to see in a group in nice all non single ladies right though yes wanna get lunch later or busy dinner might work better gotta get through some stuff what you working on today stuff and project sad fucking after i do well on the assessment they tell they re closing off interviewing for this season idiots are doing well on the data i used bidirectional to see how it performs good to hear i about to dive into making the swift code to mimic the tutorial their thing actually works pretty well the system i ask a question about the text it highlights the relevant part definitely a long term potential project i so intrigued with the way apple decided to make swift it like a mix of python and what do you think single view document based or could be interesting i so confused as to how to get the stuff going i been stuck for like an hour trying to figure out how to get the stuff to show up not to mention getting code in everything takes time that why gotta do it incrementally lets go to at around 30 sure fuck the sun already setting technically since we got the extra hour its already 30 still sucks look a very basic start while i sort through all the documentation nice its running on simulator on my mac meaning it should also run on and i ll see what involves it like a basic with one view but we can add more add a splash screen etc most visual things come off attractive during presentation yep should i just come by with my stuff i doing now sure here here here its outside fog tinder started labeling new users with a tag i saw for the concert tomorrow is good to go yea she and i will join anyone else not at the moment it okay i ll meet fellow volunteers there dude i scraped all my data i might have to give you some work to filter some stuff\n",
      "time: 632 µs\n"
     ]
    }
   ],
   "source": [
    "print(corpus)"
   ]
  },
  {
   "cell_type": "code",
   "execution_count": 8,
   "metadata": {},
   "outputs": [
    {
     "name": "stdout",
     "output_type": "stream",
     "text": [
      "time: 1.45 ms\n"
     ]
    }
   ],
   "source": [
    "def preprocess(words, flatten=True):\n",
    "    \n",
    "    Y = [feats.index(words[i]) for i in range(ngram_size, len(words))]\n",
    "    if flatten == True:\n",
    "        X = [vectorizer.transform(words[i-ngram_size:i]).toarray().flatten() for i in range(ngram_size, len(words))] \n",
    "    else:\n",
    "        X = [vectorizer.transform(words[i-ngram_size:i]).toarray() for i in range(ngram_size, len(words))]\n",
    "    Y = [keras.utils.to_categorical(y,len(feats)) for y in Y]\n",
    "    return np.array(X),np.array(Y)"
   ]
  },
  {
   "cell_type": "code",
   "execution_count": 9,
   "metadata": {},
   "outputs": [
    {
     "name": "stdout",
     "output_type": "stream",
     "text": [
      "Iteration 1, loss = 702.93574091\n",
      "Iteration 2, loss = 110.30353621\n",
      "Iteration 3, loss = 30.39334497\n",
      "Iteration 4, loss = 17.01710241\n",
      "Iteration 5, loss = 12.13548547\n",
      "Iteration 6, loss = 9.77012809\n",
      "Iteration 7, loss = 8.42951003\n",
      "Iteration 8, loss = 7.58919582\n",
      "Iteration 9, loss = 7.02177723\n",
      "Iteration 10, loss = 6.61556261\n",
      "Iteration 11, loss = 6.30896989\n",
      "Iteration 12, loss = 6.06958500\n",
      "Iteration 13, loss = 5.87758272\n",
      "Iteration 14, loss = 5.72009346\n",
      "Iteration 15, loss = 5.59037938\n",
      "Iteration 16, loss = 5.48313463\n",
      "Iteration 17, loss = 5.39304010\n",
      "Iteration 18, loss = 5.31825946\n",
      "Iteration 19, loss = 5.25529761\n",
      "Iteration 20, loss = 5.20209870\n",
      "Iteration 21, loss = 5.15709777\n",
      "Iteration 22, loss = 5.11835775\n",
      "Iteration 23, loss = 5.08517024\n",
      "Iteration 24, loss = 5.05648435\n",
      "Iteration 25, loss = 5.03074479\n",
      "Iteration 26, loss = 5.00872995\n",
      "Iteration 27, loss = 4.98847393\n",
      "Iteration 28, loss = 4.97047412\n",
      "Iteration 29, loss = 4.95384614\n",
      "Iteration 30, loss = 4.93949005\n",
      "Iteration 31, loss = 4.92532391\n",
      "Iteration 32, loss = 4.91254361\n",
      "Iteration 33, loss = 4.90118393\n",
      "Iteration 34, loss = 4.89010108\n",
      "Iteration 35, loss = 4.87971531\n",
      "Iteration 36, loss = 4.86958176\n",
      "Iteration 37, loss = 4.86045102\n",
      "Iteration 38, loss = 4.85199641\n",
      "Iteration 39, loss = 4.84329517\n",
      "Iteration 40, loss = 4.83523494\n",
      "Iteration 41, loss = 4.82795317\n",
      "Iteration 42, loss = 4.82025837\n",
      "Iteration 43, loss = 4.81329357\n",
      "Iteration 44, loss = 4.80570112\n",
      "Iteration 45, loss = 4.79958370\n",
      "Iteration 46, loss = 4.79270646\n",
      "Iteration 47, loss = 4.78608187\n",
      "Iteration 48, loss = 4.78008957\n",
      "Iteration 49, loss = 4.77338198\n",
      "Iteration 50, loss = 4.76791245\n",
      "Iteration 51, loss = 4.76174083\n",
      "Iteration 52, loss = 4.75550391\n",
      "Iteration 53, loss = 4.74952410\n",
      "Iteration 54, loss = 4.74368140\n",
      "Iteration 55, loss = 4.73768760\n",
      "Iteration 56, loss = 4.73184414\n",
      "Iteration 57, loss = 4.72503639\n",
      "Iteration 58, loss = 4.71921184\n",
      "Iteration 59, loss = 4.71309827\n",
      "Iteration 60, loss = 4.70631068\n",
      "Iteration 61, loss = 4.69967776\n",
      "Iteration 62, loss = 4.69329216\n",
      "Iteration 63, loss = 4.68586111\n",
      "Iteration 64, loss = 4.67879303\n",
      "Iteration 65, loss = 4.67098571\n",
      "Iteration 66, loss = 4.66285287\n",
      "Iteration 67, loss = 4.65412614\n",
      "Iteration 68, loss = 4.64540742\n",
      "Iteration 69, loss = 4.63652595\n",
      "Iteration 70, loss = 4.62671490\n",
      "Iteration 71, loss = 4.61633346\n",
      "Iteration 72, loss = 4.60528540\n",
      "Iteration 73, loss = 4.59309030\n",
      "Iteration 74, loss = 4.58164764\n",
      "Iteration 75, loss = 4.56856701\n",
      "Iteration 76, loss = 4.55431669\n",
      "Iteration 77, loss = 4.53977540\n",
      "Iteration 78, loss = 4.52540369\n",
      "Iteration 79, loss = 4.50858462\n",
      "Iteration 80, loss = 4.49130968\n",
      "Iteration 81, loss = 4.47320775\n",
      "Iteration 82, loss = 4.45431833\n",
      "Iteration 83, loss = 4.43411724\n",
      "Iteration 84, loss = 4.41281775\n",
      "Iteration 85, loss = 4.39138482\n",
      "Iteration 86, loss = 4.36777585\n",
      "Iteration 87, loss = 4.34276262\n",
      "Iteration 88, loss = 4.31762743\n",
      "Iteration 89, loss = 4.29050188\n",
      "Iteration 90, loss = 4.26224161\n",
      "Iteration 91, loss = 4.23276101\n",
      "Iteration 92, loss = 4.20174162\n",
      "Iteration 93, loss = 4.16867956\n",
      "Iteration 94, loss = 4.13492442\n",
      "Iteration 95, loss = 4.09957875\n",
      "Iteration 96, loss = 4.06205506\n",
      "Iteration 97, loss = 4.02339692\n",
      "Iteration 98, loss = 3.98299485\n",
      "Iteration 99, loss = 3.94125363\n",
      "Iteration 100, loss = 3.89693532\n",
      "Iteration 101, loss = 3.85180124\n",
      "Iteration 102, loss = 3.80596703\n",
      "Iteration 103, loss = 3.75781884\n",
      "Iteration 104, loss = 3.70818606\n",
      "Iteration 105, loss = 3.65860308\n",
      "Iteration 106, loss = 3.60671817\n",
      "Iteration 107, loss = 3.55463300\n",
      "Iteration 108, loss = 3.49980231\n",
      "Iteration 109, loss = 3.44430127\n",
      "Iteration 110, loss = 3.38681853\n",
      "Iteration 111, loss = 3.32827010\n",
      "Iteration 112, loss = 3.26914735\n",
      "Iteration 113, loss = 3.20844132\n",
      "Iteration 114, loss = 3.14677967\n",
      "Iteration 115, loss = 3.08422999\n",
      "Iteration 116, loss = 3.01917201\n",
      "Iteration 117, loss = 2.95461955\n",
      "Iteration 118, loss = 2.88852943\n",
      "Iteration 119, loss = 2.82229419\n",
      "Iteration 120, loss = 2.75432594\n",
      "Iteration 121, loss = 2.68669560\n",
      "Iteration 122, loss = 2.61792493\n",
      "Iteration 123, loss = 2.54860208\n",
      "Iteration 124, loss = 2.47903963\n",
      "Iteration 125, loss = 2.40952425\n",
      "Iteration 126, loss = 2.33991192\n",
      "Iteration 127, loss = 2.26971113\n",
      "Iteration 128, loss = 2.19954946\n",
      "Iteration 129, loss = 2.12982357\n",
      "Iteration 130, loss = 2.05985102\n",
      "Iteration 131, loss = 1.99153701\n",
      "Iteration 132, loss = 1.92314601\n",
      "Iteration 133, loss = 1.85571894\n",
      "Iteration 134, loss = 1.78902959\n",
      "Iteration 135, loss = 1.72373630\n",
      "Iteration 136, loss = 1.65990060\n",
      "Iteration 137, loss = 1.59716972\n",
      "Iteration 138, loss = 1.53566536\n",
      "Iteration 139, loss = 1.47591503\n",
      "Iteration 140, loss = 1.41810803\n",
      "Iteration 141, loss = 1.36155418\n",
      "Iteration 142, loss = 1.30775415\n",
      "Iteration 143, loss = 1.25547158\n",
      "Iteration 144, loss = 1.20519900\n",
      "Iteration 145, loss = 1.15681722\n",
      "Iteration 146, loss = 1.11138888\n",
      "Iteration 147, loss = 1.06705096\n",
      "Iteration 148, loss = 1.02565310\n",
      "Iteration 149, loss = 0.98706357\n",
      "Iteration 150, loss = 0.94914533\n",
      "Iteration 151, loss = 0.91450809\n",
      "Iteration 152, loss = 0.88067392\n",
      "Iteration 153, loss = 0.85002745\n",
      "Iteration 154, loss = 0.82029728\n",
      "Iteration 155, loss = 0.79253588\n",
      "Iteration 156, loss = 0.76640166\n",
      "Iteration 157, loss = 0.74160754\n",
      "Iteration 158, loss = 0.71840279\n",
      "Iteration 159, loss = 0.69697979\n",
      "Iteration 160, loss = 0.67592093\n",
      "Iteration 161, loss = 0.65636068\n",
      "Iteration 162, loss = 0.63770347\n",
      "Iteration 163, loss = 0.62010924\n",
      "Iteration 164, loss = 0.60399605\n",
      "Iteration 165, loss = 0.58792814\n",
      "Iteration 166, loss = 0.57296020\n",
      "Iteration 167, loss = 0.55881591\n",
      "Iteration 168, loss = 0.54536245\n",
      "Iteration 169, loss = 0.53234019\n",
      "Iteration 170, loss = 0.52035117\n",
      "Iteration 171, loss = 0.50834082\n",
      "Iteration 172, loss = 0.49737539\n",
      "Iteration 173, loss = 0.48661919\n",
      "Iteration 174, loss = 0.47640930\n",
      "Iteration 175, loss = 0.46616453\n",
      "Iteration 176, loss = 0.45673673\n",
      "Iteration 177, loss = 0.44798772\n",
      "Iteration 178, loss = 0.43876615\n",
      "Iteration 179, loss = 0.43070160\n",
      "Iteration 180, loss = 0.42265232\n",
      "Iteration 181, loss = 0.41485287\n",
      "Iteration 182, loss = 0.40739488\n",
      "Iteration 183, loss = 0.40038140\n",
      "Iteration 184, loss = 0.39310549\n",
      "Iteration 185, loss = 0.38615279\n",
      "Iteration 186, loss = 0.37973197\n",
      "Iteration 187, loss = 0.37351072\n",
      "Iteration 188, loss = 0.36727897\n",
      "Iteration 189, loss = 0.36150641\n",
      "Iteration 190, loss = 0.35572514\n",
      "Iteration 191, loss = 0.35012543\n",
      "Iteration 192, loss = 0.34471571\n",
      "Iteration 193, loss = 0.33988770\n",
      "Iteration 194, loss = 0.33465302\n",
      "Iteration 195, loss = 0.32985997\n",
      "Iteration 196, loss = 0.32504941\n",
      "Iteration 197, loss = 0.32049554\n",
      "Iteration 198, loss = 0.31592726\n",
      "Iteration 199, loss = 0.31149152\n",
      "Iteration 200, loss = 0.30720481\n"
     ]
    },
    {
     "data": {
      "text/plain": [
       "MLPClassifier(activation='tanh', alpha=0.0001, batch_size='auto', beta_1=0.9,\n",
       "              beta_2=0.999, early_stopping=False, epsilon=1e-08,\n",
       "              hidden_layer_sizes=(100,), learning_rate='constant',\n",
       "              learning_rate_init=0.001, max_iter=200, momentum=0.9,\n",
       "              n_iter_no_change=2, nesterovs_momentum=True, power_t=0.5,\n",
       "              random_state=1, shuffle=True, solver='adam', tol=0.0001,\n",
       "              validation_fraction=0.1, verbose=1, warm_start='full')"
      ]
     },
     "execution_count": 9,
     "metadata": {},
     "output_type": "execute_result"
    },
    {
     "name": "stdout",
     "output_type": "stream",
     "text": [
      "time: 8min 42s\n"
     ]
    }
   ],
   "source": [
    "X1, y1 = preprocess(words)\n",
    "X1, y1 = shuffle(X1, y1, random_state=42)\n",
    "sequence_model =  MLPClassifier(n_iter_no_change =2, verbose=1, activation='tanh', learning_rate='constant', alpha=1e-4, random_state=1, warm_start='full') #picked 60 as limit because it overfits after\n",
    "sequence_model.fit(X1,y1)"
   ]
  },
  {
   "cell_type": "code",
   "execution_count": 10,
   "metadata": {},
   "outputs": [
    {
     "name": "stdout",
     "output_type": "stream",
     "text": [
      "time: 5.2 s\n"
     ]
    }
   ],
   "source": [
    "#sequence_model, _ = update_model(['Artificial_intelligence'], sequence_model)\n",
    "X, y = preprocess(words, flatten=False)\n",
    "X, y = shuffle(X, y, random_state=42)"
   ]
  },
  {
   "cell_type": "code",
   "execution_count": 12,
   "metadata": {},
   "outputs": [
    {
     "name": "stdout",
     "output_type": "stream",
     "text": [
      "time: 1.97 ms\n"
     ]
    }
   ],
   "source": [
    "def bidirectional_lstm_model(seq_length, vocab_size):\n",
    "    print('Build LSTM model.')\n",
    "    model = Sequential()\n",
    "    model.add(Bidirectional(LSTM(512, activation=\"relu\"),input_shape=(seq_length, vocab_size)))\n",
    "    model.add(Dropout(0.5))\n",
    "    model.add(Dense(vocab_size))\n",
    "    model.add(Activation('softmax'))\n",
    "    \n",
    "    optimizer = Adam(lr=0.001)\n",
    "    callbacks=[EarlyStopping(patience=2, monitor='val_loss')]\n",
    "    model.compile(loss='categorical_crossentropy', optimizer=optimizer, metrics=[categorical_accuracy])\n",
    "    print(\"model built!\")\n",
    "    return model"
   ]
  },
  {
   "cell_type": "code",
   "execution_count": 13,
   "metadata": {},
   "outputs": [
    {
     "name": "stdout",
     "output_type": "stream",
     "text": [
      "Build LSTM model.\n",
      "model built!\n",
      "time: 1.01 s\n"
     ]
    }
   ],
   "source": [
    "rnn_model = bidirectional_lstm_model(X.shape[1], X.shape[2])"
   ]
  },
  {
   "cell_type": "code",
   "execution_count": 14,
   "metadata": {},
   "outputs": [
    {
     "name": "stdout",
     "output_type": "stream",
     "text": [
      "Train on 11573 samples, validate on 1286 samples\n",
      "Epoch 1/17\n",
      "11573/11573 [==============================] - 48s 4ms/step - loss: 4.3613 - categorical_accuracy: 0.3519 - val_loss: 4.1397 - val_categorical_accuracy: 0.3507\n",
      "Epoch 2/17\n",
      "11573/11573 [==============================] - 46s 4ms/step - loss: 3.9374 - categorical_accuracy: 0.3614 - val_loss: 4.1695 - val_categorical_accuracy: 0.3530\n",
      "Epoch 3/17\n",
      "11573/11573 [==============================] - 47s 4ms/step - loss: 3.7921 - categorical_accuracy: 0.3713 - val_loss: 4.1665 - val_categorical_accuracy: 0.3608\n",
      "Epoch 4/17\n",
      "11573/11573 [==============================] - 44s 4ms/step - loss: 3.5836 - categorical_accuracy: 0.3845 - val_loss: 4.1862 - val_categorical_accuracy: 0.3647\n",
      "Epoch 5/17\n",
      "11573/11573 [==============================] - 42s 4ms/step - loss: 3.3299 - categorical_accuracy: 0.4072 - val_loss: 4.2896 - val_categorical_accuracy: 0.3655\n",
      "Epoch 6/17\n",
      "11573/11573 [==============================] - 42s 4ms/step - loss: 3.0435 - categorical_accuracy: 0.4359 - val_loss: 4.3792 - val_categorical_accuracy: 0.3740\n",
      "Epoch 7/17\n",
      "11573/11573 [==============================] - 47s 4ms/step - loss: 2.6861 - categorical_accuracy: 0.4709 - val_loss: 4.7037 - val_categorical_accuracy: 0.3771\n",
      "Epoch 8/17\n",
      "11573/11573 [==============================] - 49s 4ms/step - loss: 2.2570 - categorical_accuracy: 0.5315 - val_loss: 5.0660 - val_categorical_accuracy: 0.3849\n",
      "Epoch 9/17\n",
      "11573/11573 [==============================] - 48s 4ms/step - loss: 1.7856 - categorical_accuracy: 0.6041 - val_loss: 5.3873 - val_categorical_accuracy: 0.3787\n",
      "Epoch 10/17\n",
      "11573/11573 [==============================] - 50s 4ms/step - loss: 1.3444 - categorical_accuracy: 0.6827 - val_loss: 5.8605 - val_categorical_accuracy: 0.3880\n",
      "Epoch 11/17\n",
      "11573/11573 [==============================] - 42s 4ms/step - loss: 0.9983 - categorical_accuracy: 0.7541 - val_loss: 6.4293 - val_categorical_accuracy: 0.3818\n",
      "Epoch 12/17\n",
      "11573/11573 [==============================] - 42s 4ms/step - loss: 0.7656 - categorical_accuracy: 0.8085 - val_loss: 6.7418 - val_categorical_accuracy: 0.3795\n",
      "Epoch 13/17\n",
      "11573/11573 [==============================] - 52s 5ms/step - loss: 0.5839 - categorical_accuracy: 0.8471 - val_loss: 7.0821 - val_categorical_accuracy: 0.3841\n",
      "Epoch 14/17\n",
      "11573/11573 [==============================] - 48s 4ms/step - loss: 0.4820 - categorical_accuracy: 0.8694 - val_loss: 7.2970 - val_categorical_accuracy: 0.3841\n",
      "Epoch 15/17\n",
      "11573/11573 [==============================] - 54s 5ms/step - loss: 0.4253 - categorical_accuracy: 0.8834 - val_loss: 7.3635 - val_categorical_accuracy: 0.3818\n",
      "Epoch 16/17\n",
      "11573/11573 [==============================] - 57s 5ms/step - loss: 0.3600 - categorical_accuracy: 0.9010 - val_loss: 7.8864 - val_categorical_accuracy: 0.3834\n",
      "Epoch 17/17\n",
      "11573/11573 [==============================] - 48s 4ms/step - loss: 0.3135 - categorical_accuracy: 0.9111 - val_loss: 8.2879 - val_categorical_accuracy: 0.3818\n",
      "time: 13min 26s\n"
     ]
    }
   ],
   "source": [
    "history_rnn = rnn_model.fit(X,y, batch_size=32, shuffle=True, epochs=17, validation_split=0.1)\n",
    "#sequence_model, _ = update_model(2, sequence_model)"
   ]
  },
  {
   "cell_type": "code",
   "execution_count": 15,
   "metadata": {},
   "outputs": [
    {
     "data": {
      "image/png": "[encoded data removed]",
      "text/plain": [
       "<Figure size 432x288 with 1 Axes>"
      ]
     },
     "metadata": {
      "needs_background": "light"
     },
     "output_type": "display_data"
    },
    {
     "name": "stdout",
     "output_type": "stream",
     "text": [
      "time: 221 ms\n"
     ]
    }
   ],
   "source": [
    "#plt.plot(sequence_model.loss_curve_)\n",
    "plt.plot(history_rnn.history['val_categorical_accuracy'])\n",
    "plt.title('Validation acc')\n",
    "plt.ylabel('Val acc')\n",
    "plt.xlabel('Epoch')\n",
    "plt.show()"
   ]
  },
  {
   "cell_type": "code",
   "execution_count": 45,
   "metadata": {},
   "outputs": [
    {
     "name": "stdout",
     "output_type": "stream",
     "text": [
      "time: 1.77 ms\n"
     ]
    }
   ],
   "source": [
    "def update_model(id, model, flatten=False):\n",
    "    #corpus = web_scrape(urls)\n",
    "    corpus = message_scrape(path='/Users/animallya/Desktop/chat.db',n=id)\n",
    "    words = nltk.wordpunct_tokenize(corpus)\n",
    "    words = [word for word in words if word in vocab]\n",
    "    X, y = preprocess(words, flatten=flatten)\n",
    "    X, y = shuffle(X, y, random_state=42)\n",
    "    history=None\n",
    "    if flatten==False:\n",
    "        history = model.fit(X,y, batch_size=32, shuffle=True, epochs=4, validation_split=0.1)\n",
    "    else:\n",
    "        model.fit(X,y)\n",
    "    print(\"fit complete\")\n",
    "\n",
    "    return words, history"
   ]
  },
  {
   "cell_type": "code",
   "execution_count": 53,
   "metadata": {},
   "outputs": [
    {
     "name": "stdout",
     "output_type": "stream",
     "text": [
      "Iteration 202, loss = 11.39101888\n",
      "fit complete\n",
      "Train on 126 samples, validate on 14 samples\n",
      "Epoch 1/4\n",
      "126/126 [==============================] - 1s 4ms/step - loss: 6.0815 - categorical_accuracy: 0.0952 - val_loss: 5.6784 - val_categorical_accuracy: 0.2143\n",
      "Epoch 2/4\n",
      "126/126 [==============================] - 1s 4ms/step - loss: 5.6288 - categorical_accuracy: 0.1270 - val_loss: 5.6266 - val_categorical_accuracy: 0.2857\n",
      "Epoch 3/4\n",
      "126/126 [==============================] - 1s 4ms/step - loss: 5.1755 - categorical_accuracy: 0.1349 - val_loss: 5.5823 - val_categorical_accuracy: 0.2857\n",
      "Epoch 4/4\n",
      "126/126 [==============================] - 1s 4ms/step - loss: 4.7673 - categorical_accuracy: 0.1746 - val_loss: 5.5496 - val_categorical_accuracy: 0.2857\n",
      "fit complete\n",
      "time: 2.51 s\n"
     ]
    }
   ],
   "source": [
    "#sequence_model, updated_words, = update_model(['Natural_language_processing'], sequence_model, flatten=True)\n",
    "updated_words, _ = update_model(5, sequence_model, flatten=True)\n",
    "updated_words, history_update1 = update_model(5, rnn_model)"
   ]
  },
  {
   "cell_type": "code",
   "execution_count": 47,
   "metadata": {},
   "outputs": [
    {
     "data": {
      "image/png": "[encoded data removed]",
      "text/plain": [
       "<Figure size 432x288 with 1 Axes>"
      ]
     },
     "metadata": {
      "needs_background": "light"
     },
     "output_type": "display_data"
    },
    {
     "name": "stdout",
     "output_type": "stream",
     "text": [
      "time: 172 ms\n"
     ]
    }
   ],
   "source": [
    "plt.plot(sequence_model.loss_curve_)\n",
    "plt.title('Validation acc')\n",
    "plt.ylabel('Val acc')\n",
    "plt.xlabel('Epoch')\n",
    "plt.show()"
   ]
  },
  {
   "cell_type": "code",
   "execution_count": 48,
   "metadata": {},
   "outputs": [
    {
     "data": {
      "image/png": "[encoded data removed]",
      "text/plain": [
       "<Figure size 432x288 with 1 Axes>"
      ]
     },
     "metadata": {
      "needs_background": "light"
     },
     "output_type": "display_data"
    },
    {
     "name": "stdout",
     "output_type": "stream",
     "text": [
      "time: 439 ms\n"
     ]
    }
   ],
   "source": [
    "plt.plot(history_update1.history['val_categorical_accuracy'])\n",
    "plt.title('Validation acc')\n",
    "plt.ylabel('Val acc')\n",
    "plt.xlabel('Epoch')\n",
    "plt.show()"
   ]
  },
  {
   "cell_type": "markdown",
   "metadata": {},
   "source": [
    "### Saving all 3 models"
   ]
  },
  {
   "cell_type": "code",
   "execution_count": 102,
   "metadata": {},
   "outputs": [
    {
     "name": "stdout",
     "output_type": "stream",
     "text": [
      "Saved model to disk\n",
      "time: 81.7 ms\n"
     ]
    }
   ],
   "source": [
    "\n",
    "def save_model(model, model_name):\n",
    "    model_json = model.to_json()\n",
    "    with open(\"savefiles/\"+model_name+\".json\", \"w\") as json_file:\n",
    "        json_file.write(model_json)\n",
    "\n",
    "    model.save_weights(\"savefiles/\"+model_name+\"_weights.h5\")\n",
    "    print(\"Saved model to disk\")\n",
    "\n",
    "\n",
    "#save_model(rnn_model,'rnn_model')\n",
    "\n",
    "# filename = 'savefiles/wordMLPpredictor.sav'\n",
    "# pickle.dump(sequence_model, open(filename, 'wb'))\n",
    "\n",
    "# filename = 'savefiles/tagmaxent.sav'\n",
    "# pickle.dump(tag_model, open(filename, 'wb'))\n",
    "\n",
    "# filename = 'savefiles/CNNpredictor.sav'\n",
    "# pickle.dump(cnn_model, open(filename, 'wb'))\n",
    "\n",
    "# filename = 'savefiles/rnnModel.sav'\n",
    "# pickle.dump(rnn_model, open(filename, 'wb'))"
   ]
  },
  {
   "cell_type": "markdown",
   "metadata": {},
   "source": [
    "# TESTING\n"
   ]
  },
  {
   "cell_type": "code",
   "execution_count": 44,
   "metadata": {},
   "outputs": [
    {
     "name": "stdout",
     "output_type": "stream",
     "text": [
      "Loaded model from disk\n",
      "time: 1.12 s\n"
     ]
    }
   ],
   "source": [
    "def load_model(model_name):\n",
    "    json_file = open(\"savefiles/\"+model_name+\".json\")\n",
    "    loaded_model_json = json_file.read()\n",
    "    json_file.close()\n",
    "    model = model_from_json(loaded_model_json)\n",
    "    model.compile(loss='categorical_crossentropy', optimizer=Adam(lr=0.001), metrics=[categorical_accuracy])\n",
    "    # load weights into new model\n",
    "    model.load_weights(\"savefiles/\"+model_name+\"_weights.h5\")\n",
    "    print(\"Loaded model from disk\")\n",
    "    return model\n",
    "\n",
    "rnn_model = load_model('rnn_model')\n",
    "sequence_model = pickle.load(open('savefiles/wordMLPpredictor.sav','rb'))\n",
    "#tag_model = pickle.load(open('savefiles/tagmaxent.sav', 'rb'))\n",
    "#cnn_model = pickle.load(open('savefiles/CNNpredictor.sav', 'rb'))"
   ]
  },
  {
   "cell_type": "code",
   "execution_count": 75,
   "metadata": {},
   "outputs": [
    {
     "name": "stdout",
     "output_type": "stream",
     "text": [
      "time: 2.2 ms\n"
     ]
    }
   ],
   "source": [
    "def input_tag_to_prediction(inp):\n",
    "    words = nltk.word_tokenize(inp)\n",
    "    tags = [tag[1] for tag in nltk.pos_tag(words)]\n",
    "    integer_encoded = label_encoder.transform(tags)\n",
    "    X_encoded = onehot_encoder.transform(integer_encoded.reshape(len(integer_encoded), 1)).flatten()\n",
    "    possible_predictions = tag_model.predict_proba(X_encoded.reshape(1, -1))[0]\n",
    "    indices = (-possible_predictions).argsort()[:3]\n",
    "    return [label_encoder.inverse_transform([idx])[0] for idx in indices]"
   ]
  },
  {
   "cell_type": "code",
   "execution_count": 76,
   "metadata": {},
   "outputs": [
    {
     "name": "stdout",
     "output_type": "stream",
     "text": [
      "time: 771 µs\n"
     ]
    }
   ],
   "source": [
    "def prediction_union(sent):\n",
    "    pw = input_word_to_prediction(sent.lower())#, input_tag_to_prediction(sent)\n",
    "    return pw#, pt[0]"
   ]
  },
  {
   "cell_type": "code",
   "execution_count": 77,
   "metadata": {},
   "outputs": [
    {
     "name": "stdout",
     "output_type": "stream",
     "text": [
      "time: 1.45 ms\n"
     ]
    }
   ],
   "source": [
    "def DLpredict(sent):\n",
    "    words = nltk.word_tokenize(sent.lower())\n",
    "    x = np.array(vectorizer.transform(words).toarray())\n",
    "    x = x.reshape(1,x.shape[0],x.shape[1],1)\n",
    "    y_pred = cnn_model.predict(x)[0]\n",
    "    indices = (-y_pred).argsort()[:3]\n",
    "    return [feats[index] for index in indices]"
   ]
  },
  {
   "cell_type": "code",
   "execution_count": 78,
   "metadata": {},
   "outputs": [
    {
     "name": "stdout",
     "output_type": "stream",
     "text": [
      "time: 1.22 ms\n"
     ]
    }
   ],
   "source": [
    "def input_word_to_prediction(inp):\n",
    "    words = nltk.word_tokenize(inp)\n",
    "    words_tf = np.array(vectorizer.transform(words).toarray()).flatten().reshape(1, -1)\n",
    "    possible_predictions = sequence_model.predict_proba(words_tf)[0]\n",
    "    print(sorted(possible_predictions)[::-1][:3])\n",
    "    indices = (possible_predictions).argsort()[::-1][:3]\n",
    "    return [feats[idx] for idx in indices]"
   ]
  },
  {
   "cell_type": "code",
   "execution_count": 98,
   "metadata": {},
   "outputs": [
    {
     "name": "stdout",
     "output_type": "stream",
     "text": [
      "time: 1.56 ms\n"
     ]
    }
   ],
   "source": [
    "def rnn_predict(sent):\n",
    "    words = nltk.word_tokenize(sent.lower())\n",
    "    x = np.array(vectorizer.transform(words).toarray())\n",
    "    words_tf = x.reshape(1,x.shape[0],x.shape[1])\n",
    "    y_pred = np.array(rnn_model.predict(words_tf)[0])\n",
    "    print(sorted(y_pred)[::-1][:3])\n",
    "    indices = (y_pred).argsort()[::-1][:3]\n",
    "    return [feats[index] for index in indices]"
   ]
  },
  {
   "cell_type": "code",
   "execution_count": 99,
   "metadata": {},
   "outputs": [
    {
     "name": "stdout",
     "output_type": "stream",
     "text": [
      "time: 1.53 ms\n"
     ]
    }
   ],
   "source": [
    "def run(sent):\n",
    "    out = sent\n",
    "    while True:\n",
    "        print(out)\n",
    "        pw = prediction_union(sent)\n",
    "        #cw = DLpredict(sent)\n",
    "        rw = rnn_predict(sent)\n",
    "        #print(\"predictions: \"+str(pw))#.union(cw))+\" -> model suggests a \"+str(tagmap[pt]))\n",
    "        print(pw)\n",
    "        #print(cw)\n",
    "        print(rw)\n",
    "        inp = input()\n",
    "        if inp==\"exit\":\n",
    "            return out\n",
    "        out+= \" \" +inp\n",
    "        l = len(inp.split())\n",
    "        sent = \" \".join(nltk.word_tokenize(sent)[l:]+[inp])\n",
    "    print(out)"
   ]
  },
  {
   "cell_type": "code",
   "execution_count": 101,
   "metadata": {},
   "outputs": [
    {
     "name": "stdout",
     "output_type": "stream",
     "text": [
      "text me after\n",
      "[0.12286852111546405, 0.06247576836674662, 0.04038441868128993]\n",
      "[0.08380805, 0.04168103, 0.0397807]\n",
      "['you', 'or', 'this']\n",
      "['i', 'you', 'the']\n",
      "you\n",
      "text me after you\n",
      "[0.07111035743315855, 0.02895818002650762, 0.027686500036136326]\n",
      "[0.06421818, 0.029460264, 0.029407239]\n",
      "['spend', 'two', 'food']\n",
      "['i', 'then', 're']\n",
      "get to\n",
      "text me after you get to\n",
      "[0.3446096968708915, 0.054317463846179165, 0.04929101713808843]\n",
      "[0.035981745, 0.03550255, 0.034948066]\n",
      "['this', 'do', 'numbers']\n",
      "['me', 'it', 'you']\n",
      "my \n",
      "text me after you get to my \n",
      "[0.9164475929794866, 0.2553143969298491, 0.25268982724207345]\n",
      "[0.076100215, 0.04808905, 0.042069618]\n",
      "['place', 'name', 'mom']\n",
      "['place', 'night', 'and']\n",
      "place\n",
      "text me after you get to my  place\n",
      "[0.7938913681440817, 0.049201479510131145, 0.03413264172996763]\n",
      "[0.06823602, 0.05663726, 0.05306769]\n",
      "['please', 'meaning', 'and']\n",
      "['i', 'after', 'you']\n",
      "please\n",
      "text me after you get to my  place please\n",
      "[0.9421933476638017, 0.08879424781611417, 0.009760909461084908]\n",
      "[0.07580184, 0.05570889, 0.035035025]\n",
      "['look', 'getting', 'comment']\n",
      "['i', 'don', 'and']\n",
      "exit\n",
      "time: 26.3 s\n"
     ]
    }
   ],
   "source": [
    "out = run(\"text me after\")\n",
    "#i will be home by"
   ]
  },
  {
   "cell_type": "code",
   "execution_count": 54,
   "metadata": {},
   "outputs": [
    {
     "data": {
      "text/plain": [
       "['yeah',\n",
       " 'sure',\n",
       " 'sorry',\n",
       " 'for',\n",
       " 'the',\n",
       " 'late',\n",
       " 'i',\n",
       " 'got',\n",
       " 'super',\n",
       " 'sick',\n",
       " 'and',\n",
       " 'have',\n",
       " 'been',\n",
       " 'basically',\n",
       " 'sleeping',\n",
       " 'since',\n",
       " 'you',\n",
       " 're',\n",
       " 'feeling',\n",
       " 'better',\n",
       " 'i',\n",
       " 'pretty',\n",
       " 'much',\n",
       " 'in',\n",
       " 'the',\n",
       " 'same',\n",
       " 'with',\n",
       " 'work',\n",
       " 'and',\n",
       " 'i',\n",
       " 'll',\n",
       " 'let',\n",
       " 'you',\n",
       " 'know',\n",
       " 'if',\n",
       " 'i',\n",
       " 'better',\n",
       " 'by',\n",
       " 'today',\n",
       " 'then',\n",
       " 'work',\n",
       " 'then',\n",
       " 'then',\n",
       " 'bed',\n",
       " 'yeah',\n",
       " 'i',\n",
       " 'did',\n",
       " 'end',\n",
       " 'up',\n",
       " 'getting',\n",
       " 'coffee',\n",
       " 'before',\n",
       " 'work',\n",
       " 'last',\n",
       " 'night',\n",
       " 'but',\n",
       " 'that',\n",
       " 'about',\n",
       " 'it',\n",
       " 'happy',\n",
       " 'i',\n",
       " 'just',\n",
       " 'sorry',\n",
       " 'i',\n",
       " 'know',\n",
       " 'a',\n",
       " 'day',\n",
       " 'late',\n",
       " 'you',\n",
       " 'i',\n",
       " 'not',\n",
       " 'usually',\n",
       " 'one',\n",
       " 'to',\n",
       " 'like',\n",
       " 'make',\n",
       " 'a',\n",
       " 'big',\n",
       " 'deal',\n",
       " 'out',\n",
       " 'of',\n",
       " 'it',\n",
       " 'that',\n",
       " 'join',\n",
       " 'us',\n",
       " 'for',\n",
       " 'trivia',\n",
       " 'night',\n",
       " 'its',\n",
       " 'at',\n",
       " 'in',\n",
       " 'my',\n",
       " 'actually',\n",
       " 'me',\n",
       " 'to',\n",
       " 'with',\n",
       " 'them',\n",
       " 'tonight',\n",
       " 'with',\n",
       " 'their',\n",
       " 'other',\n",
       " 'friends',\n",
       " 'from',\n",
       " 'that',\n",
       " 'went',\n",
       " 'well',\n",
       " 'what',\n",
       " 'up',\n",
       " 'for',\n",
       " 'you',\n",
       " 'should',\n",
       " 'join',\n",
       " 'us',\n",
       " 'today',\n",
       " 'if',\n",
       " 'you',\n",
       " 'can',\n",
       " 'its',\n",
       " 'been',\n",
       " 'a',\n",
       " 'while',\n",
       " 'we',\n",
       " 'do',\n",
       " 'trivia',\n",
       " 'weekly',\n",
       " 'depends',\n",
       " 'on',\n",
       " 'how',\n",
       " 'long',\n",
       " 'this',\n",
       " 'damn',\n",
       " 'takes',\n",
       " 'i',\n",
       " 'been',\n",
       " 'in',\n",
       " 'a',\n",
       " 'since',\n",
       " 'its',\n",
       " 'only',\n",
       " 'pm',\n",
       " 'let',\n",
       " 'me',\n",
       " 'know']"
      ]
     },
     "execution_count": 54,
     "metadata": {},
     "output_type": "execute_result"
    },
    {
     "name": "stdout",
     "output_type": "stream",
     "text": [
      "time: 4.97 ms\n"
     ]
    }
   ],
   "source": [
    "updated_words"
   ]
  },
  {
   "cell_type": "code",
   "execution_count": null,
   "metadata": {},
   "outputs": [],
   "source": [
    "embeddings.most_similar('natural')"
   ]
  },
  {
   "cell_type": "code",
   "execution_count": null,
   "metadata": {},
   "outputs": [],
   "source": [
    "dev_set = message_scrape(path='/Users/animallya/Desktop/chat.db',n=3)"
   ]
  },
  {
   "cell_type": "code",
   "execution_count": null,
   "metadata": {},
   "outputs": [],
   "source": [
    "dev_set[0]"
   ]
  },
  {
   "cell_type": "code",
   "execution_count": null,
   "metadata": {},
   "outputs": [],
   "source": [
    "# rnn_model.save('rnn_model.h5')\n",
    "# import coremltools\n",
    "# mymodel = coremltools.converters.keras.convert('rnn_model.h5')\n",
    "# mymodel.save('savefiles/rnn_sequence_predictor.mlmodel')"
   ]
  },
  {
   "cell_type": "code",
   "execution_count": null,
   "metadata": {},
   "outputs": [],
   "source": [
    "words"
   ]
  },
  {
   "cell_type": "code",
   "execution_count": null,
   "metadata": {},
   "outputs": [],
   "source": []
  }
 ],
 "metadata": {
  "kernelspec": {
   "display_name": "Python 3",
   "language": "python",
   "name": "python3"
  },
  "language_info": {
   "codemirror_mode": {
    "name": "ipython",
    "version": 3
   },
   "file_extension": ".py",
   "mimetype": "text/x-python",
   "name": "python",
   "nbconvert_exporter": "python",
   "pygments_lexer": "ipython3",
   "version": "3.7.4"
  }
 },
 "nbformat": 4,
 "nbformat_minor": 2
}
