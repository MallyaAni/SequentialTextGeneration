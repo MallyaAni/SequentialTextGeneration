{
 "cells": [
  {
   "cell_type": "code",
   "execution_count": 144,
   "metadata": {},
   "outputs": [
    {
     "name": "stdout",
     "output_type": "stream",
     "text": [
      "The autotime extension is already loaded. To reload it, use:\n",
      "  %reload_ext autotime\n",
      "2.0.0\n",
      "time: 1.06 s\n"
     ]
    }
   ],
   "source": [
    "import tensorflow as tf\n",
    "from tensorflow import keras\n",
    "from sklearn.feature_extraction.text import CountVectorizer\n",
    "import nltk\n",
    "import pickle\n",
    "import numpy as np\n",
    "from nltk.stem import PorterStemmer \n",
    "from nltk.lm import Vocabulary\n",
    "from nltk.tag import StanfordNERTagger, pos_tag\n",
    "import glob\n",
    "import contractions\n",
    "import enchant\n",
    "import string\n",
    "import bs4 as bs\n",
    "import pandas as pd\n",
    "from collections import Counter\n",
    "import urllib.request\n",
    "import re\n",
    "import multiprocessing\n",
    "import ndjson\n",
    "from gensim.models import Word2Vec\n",
    "import ssl\n",
    "import getch\n",
    "from google.cloud import storage\n",
    "import spacy\n",
    "from spacy import displacy\n",
    "import en_core_web_sm\n",
    "nlp = en_core_web_sm.load()\n",
    "\n",
    "from sklearn.utils import shuffle\n",
    "from sklearn import linear_model\n",
    "from sklearn.neural_network import MLPClassifier\n",
    "from sklearn.linear_model import SGDClassifier\n",
    "from sklearn.naive_bayes import MultinomialNB\n",
    "from sklearn.model_selection import train_test_split\n",
    "\n",
    "from tensorflow.python.keras.preprocessing.text import Tokenizer\n",
    "from tensorflow.python.keras.models import model_from_json, Sequential\n",
    "from tensorflow.python.keras.layers import Dense, Dropout, Embedding, Flatten, Activation, MaxPooling2D, Conv2D, GlobalAveragePooling2D, Bidirectional, LSTM, LSTMCell\n",
    "from tensorflow.python.keras.optimizers import Adam\n",
    "from tensorflow.python.keras.callbacks import EarlyStopping\n",
    "from tensorflow.python.keras.metrics import categorical_accuracy\n",
    "from tensorflow.python.keras.utils import to_categorical\n",
    "from tensorflow.python.keras import backend as K\n",
    "\n",
    "\n",
    "%load_ext autotime\n",
    "import matplotlib.pyplot as plt\n",
    "%matplotlib inline\n",
    "print(tf.__version__)\n",
    "\n",
    "np.random.seed(7)\n",
    "\n",
    "import warnings\n",
    "warnings.filterwarnings('ignore')\n",
    "\n",
    "try:\n",
    "    _create_unverified_https_context = ssl._create_unverified_context\n",
    "except AttributeError:\n",
    "    pass\n",
    "else:\n",
    "    ssl._create_default_https_context = _create_unverified_https_context\n",
    "\n",
    "import os\n",
    "\n",
    "device = 'w'\n",
    "\n",
    "gpath = 'C:/Users/Ani/Desktop/NLP_project/key.json'\n",
    "ngram_size = 3\n",
    "\n",
    "if device=='m':\n",
    "    gpath = '/Users/animallya/Desktop/NLP_project/key.json'\n",
    "\n",
    "os.environ[\"GOOGLE_APPLICATION_CREDENTIALS\"] = gpath"
   ]
  },
  {
   "cell_type": "code",
   "execution_count": 143,
   "metadata": {},
   "outputs": [
    {
     "name": "stdout",
     "output_type": "stream",
     "text": [
      "[name: \"/device:CPU:0\"\n",
      "device_type: \"CPU\"\n",
      "memory_limit: 268435456\n",
      "locality {\n",
      "}\n",
      "incarnation: 14984251975975605652\n",
      ", name: \"/device:XLA_CPU:0\"\n",
      "device_type: \"XLA_CPU\"\n",
      "memory_limit: 17179869184\n",
      "locality {\n",
      "}\n",
      "incarnation: 15521253700958434662\n",
      "physical_device_desc: \"device: XLA_CPU device\"\n",
      "]\n",
      "time: 6.79 ms\n"
     ]
    }
   ],
   "source": [
    "from tensorflow.python.client import device_lib\n",
    "print(device_lib.list_local_devices())"
   ]
  },
  {
   "cell_type": "code",
   "execution_count": 28,
   "metadata": {},
   "outputs": [
    {
     "name": "stdout",
     "output_type": "stream",
     "text": [
      "time: 1.22 ms\n"
     ]
    }
   ],
   "source": [
    "def embed(corpus):\n",
    "    sentences = nltk.sent_tokenize(' '.join(corpus))\n",
    "    all_words = [nltk.word_tokenize(sent) for sent in sentences]\n",
    "    for i in range(len(all_words)):\n",
    "        all_words[i] = [w for w in all_words[i] if w not in stopwords.words('english') and w not in string.punctuation]\n",
    "    model = Word2Vec(all_words, min_count=3, workers=multiprocessing.cpu_count())\n",
    "    return model\n",
    "#embeddings = embed(corpus)"
   ]
  },
  {
   "cell_type": "code",
   "execution_count": 170,
   "metadata": {},
   "outputs": [
    {
     "name": "stdout",
     "output_type": "stream",
     "text": [
      "time: 4.09 ms\n"
     ]
    }
   ],
   "source": [
    "import sqlite3\n",
    "import pandas as pd\n",
    "\n",
    "def filter_words(text, global_vocab):\n",
    "    words = []\n",
    "    for w in text:\n",
    "        w = w.lower()\n",
    "        if len(w)>1:\n",
    "            if global_vocab.check(w)==True:\n",
    "                words.append(w)\n",
    "            elif '\\'' in w or '’' in w:\n",
    "                if contractions.fix(w) != w:\n",
    "                    fixedw = contractions.fix(w).lower()\n",
    "                    words.append(fixedw)\n",
    "        else:\n",
    "            if w in['i','a'] or w in string.punctuation:\n",
    "                words.append(w)\n",
    "    return ' '.join(words)\n",
    "\n",
    "def message_scrape(path, n):\n",
    "    \n",
    "    conn = sqlite3.connect(path)\n",
    "    c = conn.cursor()\n",
    "    cmd1 = 'SELECT ROWID, text, handle_id, \\\n",
    "                datetime(date + strftime(\\'%s\\',\\'2001-01-01\\'), \\'unixepoch\\') as date_utc \\\n",
    "                FROM message T1 \\\n",
    "                INNER JOIN chat_message_join T2 \\\n",
    "                    ON T2.chat_id='+str(n)+ ' \\\n",
    "                    AND T1.ROWID=T2.message_id \\\n",
    "                ORDER BY T1.date'\n",
    "    c.execute(cmd1)\n",
    "    df_msg = pd.DataFrame(c.fetchall(), columns=['id', 'text', 'sender', 'time'])\n",
    "    corpus = df_msg.text.tolist()\n",
    "    corpus = ' '.join(corpus)\n",
    "    corpus = re.sub('[^a-zA-Z\\'\\’\\?]', ' ', corpus)\n",
    "    corpus = re.sub(r'\\s+', ' ', corpus)\n",
    "    corpus = corpus.lower().split(\" \")\n",
    "    filtered_corpus = filter_words(corpus, enchant.Dict(\"en_US\"))\n",
    "    return filtered_corpus"
   ]
  },
  {
   "cell_type": "markdown",
   "metadata": {},
   "source": [
    "## Trigram prediction model (continuous Deep Learning)"
   ]
  },
  {
   "cell_type": "code",
   "execution_count": 171,
   "metadata": {},
   "outputs": [
    {
     "name": "stdout",
     "output_type": "stream",
     "text": [
      "time: 6.74 ms\n"
     ]
    }
   ],
   "source": [
    "def preprocess(id, flatten=True, fit=False, vocab=None, vectorizer=None):\n",
    "    \n",
    "    corpus = message_scrape(path='/Users/animallya/Desktop/chat.db',n=id)\n",
    "    words = nltk.word_tokenize(corpus)\n",
    "    \n",
    "    if id==2:\n",
    "    #automate this later\n",
    "        words = list(filter(lambda a: a != 'bet', words))\n",
    "\n",
    "    if fit:\n",
    "        vocab = list(Vocabulary(words))\n",
    "        vectorizer = CountVectorizer(vocabulary=vocab)\n",
    "        vectorizer.fit(words)\n",
    "\n",
    "    Y = [vocab.index(words[i]) for i in range(ngram_size, len(words))]\n",
    "    if flatten == True:\n",
    "        X = [vectorizer.transform(words[i-ngram_size:i]).toarray().flatten() for i in range(ngram_size, len(words))] \n",
    "    else:\n",
    "        X = [vectorizer.transform(words[i-ngram_size:i]).toarray().astype('float64') for i in range(ngram_size, len(words))]\n",
    "    Y = [to_categorical(y,len(vocab)) for y in Y]\n",
    "    X, Y = shuffle(X, Y, random_state=42)\n",
    "    \n",
    "    return np.array(X),np.array(Y), words, vocab, vectorizer"
   ]
  },
  {
   "cell_type": "code",
   "execution_count": 198,
   "metadata": {},
   "outputs": [
    {
     "name": "stdout",
     "output_type": "stream",
     "text": [
      "time: 1.86 s\n"
     ]
    }
   ],
   "source": [
    "X,y,words,vocab,vectorizer = preprocess(2, fit=True)"
   ]
  },
  {
   "cell_type": "code",
   "execution_count": 175,
   "metadata": {},
   "outputs": [
    {
     "name": "stdout",
     "output_type": "stream",
     "text": [
      "Iteration 1, loss = 813.91900711\n",
      "Iteration 2, loss = 283.59204111\n",
      "Iteration 3, loss = 68.68385267\n",
      "Iteration 4, loss = 32.05623262\n",
      "Iteration 5, loss = 20.98732621\n",
      "Iteration 6, loss = 15.97936607\n",
      "Iteration 7, loss = 13.24441889\n",
      "Iteration 8, loss = 11.58323173\n",
      "Iteration 9, loss = 10.49762596\n",
      "Iteration 10, loss = 9.74528810\n",
      "Iteration 11, loss = 9.20677456\n",
      "Iteration 12, loss = 8.80654692\n",
      "Iteration 13, loss = 8.50255404\n",
      "Iteration 14, loss = 8.26513577\n",
      "Iteration 15, loss = 8.07740195\n",
      "Iteration 16, loss = 7.92611957\n",
      "Iteration 17, loss = 7.80298891\n",
      "Iteration 18, loss = 7.70126949\n",
      "Iteration 19, loss = 7.61636079\n",
      "Iteration 20, loss = 7.54514588\n",
      "Iteration 21, loss = 7.48450542\n",
      "Iteration 22, loss = 7.43230571\n",
      "Iteration 23, loss = 7.38729310\n",
      "Iteration 24, loss = 7.34880048\n",
      "Iteration 25, loss = 7.31447005\n",
      "Iteration 26, loss = 7.28502583\n",
      "Iteration 27, loss = 7.25792367\n",
      "Iteration 28, loss = 7.23459951\n",
      "Iteration 29, loss = 7.21359251\n",
      "Iteration 30, loss = 7.19486554\n",
      "Iteration 31, loss = 7.17721965\n",
      "Iteration 32, loss = 7.16270984\n",
      "Iteration 33, loss = 7.14835785\n",
      "Iteration 34, loss = 7.13537407\n",
      "Iteration 35, loss = 7.12345410\n",
      "Iteration 36, loss = 7.11164527\n",
      "Iteration 37, loss = 7.10202693\n",
      "Iteration 38, loss = 7.09236519\n",
      "Iteration 39, loss = 7.08348623\n",
      "Iteration 40, loss = 7.07540407\n",
      "Iteration 41, loss = 7.06720369\n",
      "Iteration 42, loss = 7.06012913\n",
      "Iteration 43, loss = 7.05286311\n",
      "Iteration 44, loss = 7.04632467\n",
      "Iteration 45, loss = 7.03986552\n",
      "Iteration 46, loss = 7.03399528\n",
      "Iteration 47, loss = 7.02839417\n",
      "Iteration 48, loss = 7.02256254\n",
      "Iteration 49, loss = 7.01715041\n",
      "Iteration 50, loss = 7.01219987\n",
      "Iteration 51, loss = 7.00715612\n",
      "Iteration 52, loss = 7.00201502\n",
      "Iteration 53, loss = 6.99751867\n",
      "Iteration 54, loss = 6.99254963\n",
      "Iteration 55, loss = 6.98873657\n",
      "Iteration 56, loss = 6.98386981\n",
      "Iteration 57, loss = 6.97947514\n",
      "Iteration 58, loss = 6.97453512\n",
      "Iteration 59, loss = 6.97136681\n",
      "Iteration 60, loss = 6.96719030\n",
      "Iteration 61, loss = 6.96307595\n",
      "Iteration 62, loss = 6.95901577\n",
      "Iteration 63, loss = 6.95467906\n",
      "Iteration 64, loss = 6.95123284\n",
      "Iteration 65, loss = 6.94709922\n",
      "Iteration 66, loss = 6.94256323\n",
      "Iteration 67, loss = 6.93841003\n",
      "Iteration 68, loss = 6.93438087\n",
      "Iteration 69, loss = 6.93044046\n",
      "Iteration 70, loss = 6.92716360\n",
      "Iteration 71, loss = 6.92276723\n",
      "Iteration 72, loss = 6.91806123\n",
      "Iteration 73, loss = 6.91400770\n",
      "Iteration 74, loss = 6.90943754\n",
      "Iteration 75, loss = 6.90563790\n",
      "Iteration 76, loss = 6.90076060\n",
      "Iteration 77, loss = 6.89566564\n",
      "Iteration 78, loss = 6.89069986\n",
      "Iteration 79, loss = 6.88680357\n",
      "Iteration 80, loss = 6.88080364\n",
      "Iteration 81, loss = 6.87559404\n",
      "Iteration 82, loss = 6.87002313\n",
      "Iteration 83, loss = 6.86381756\n",
      "Iteration 84, loss = 6.85767911\n",
      "Iteration 85, loss = 6.85168998\n",
      "Iteration 86, loss = 6.84474371\n",
      "Iteration 87, loss = 6.83687737\n",
      "Iteration 88, loss = 6.82982462\n",
      "Iteration 89, loss = 6.82207271\n",
      "Iteration 90, loss = 6.81379058\n",
      "Iteration 91, loss = 6.80421845\n",
      "Iteration 92, loss = 6.79555568\n",
      "Iteration 93, loss = 6.78498363\n",
      "Iteration 94, loss = 6.77504681\n",
      "Iteration 95, loss = 6.76305655\n",
      "Iteration 96, loss = 6.75139709\n",
      "Iteration 97, loss = 6.73792147\n",
      "Iteration 98, loss = 6.72292611\n",
      "Iteration 99, loss = 6.70927925\n",
      "Iteration 100, loss = 6.69320501\n",
      "Iteration 101, loss = 6.67556951\n",
      "Iteration 102, loss = 6.65926365\n",
      "Iteration 103, loss = 6.63962138\n",
      "Iteration 104, loss = 6.61936166\n",
      "Iteration 105, loss = 6.59801055\n",
      "Iteration 106, loss = 6.57662239\n",
      "Iteration 107, loss = 6.55451975\n",
      "Iteration 108, loss = 6.52963396\n",
      "Iteration 109, loss = 6.50524651\n",
      "Iteration 110, loss = 6.48000878\n",
      "Iteration 111, loss = 6.45345898\n",
      "Iteration 112, loss = 6.42516168\n",
      "Iteration 113, loss = 6.39819356\n",
      "Iteration 114, loss = 6.36811494\n",
      "Iteration 115, loss = 6.33878147\n",
      "Iteration 116, loss = 6.30886086\n",
      "Iteration 117, loss = 6.27766706\n",
      "Iteration 118, loss = 6.24475580\n",
      "Iteration 119, loss = 6.21263340\n",
      "Iteration 120, loss = 6.17786482\n",
      "Iteration 121, loss = 6.14475752\n",
      "Iteration 122, loss = 6.10840120\n",
      "Iteration 123, loss = 6.07203685\n",
      "Iteration 124, loss = 6.03357426\n",
      "Iteration 125, loss = 5.99448880\n",
      "Iteration 126, loss = 5.95472203\n",
      "Iteration 127, loss = 5.91294290\n",
      "Iteration 128, loss = 5.87089903\n",
      "Iteration 129, loss = 5.82759980\n",
      "Iteration 130, loss = 5.78286352\n",
      "Iteration 131, loss = 5.73751600\n",
      "Iteration 132, loss = 5.68992191\n",
      "Iteration 133, loss = 5.64264489\n",
      "Iteration 134, loss = 5.59358011\n",
      "Iteration 135, loss = 5.54406705\n",
      "Iteration 136, loss = 5.49292740\n",
      "Iteration 137, loss = 5.44100482\n",
      "Iteration 138, loss = 5.38972340\n",
      "Iteration 139, loss = 5.33588035\n",
      "Iteration 140, loss = 5.28216607\n",
      "Iteration 141, loss = 5.22602011\n",
      "Iteration 142, loss = 5.16943031\n",
      "Iteration 143, loss = 5.11221098\n",
      "Iteration 144, loss = 5.05468628\n",
      "Iteration 145, loss = 4.99517169\n",
      "Iteration 146, loss = 4.93541161\n",
      "Iteration 147, loss = 4.87447503\n",
      "Iteration 148, loss = 4.81256907\n",
      "Iteration 149, loss = 4.75095856\n",
      "Iteration 150, loss = 4.68689591\n",
      "Iteration 151, loss = 4.62397196\n",
      "Iteration 152, loss = 4.55821950\n",
      "Iteration 153, loss = 4.49360757\n",
      "Iteration 154, loss = 4.42653666\n",
      "Iteration 155, loss = 4.35930409\n",
      "Iteration 156, loss = 4.29061308\n",
      "Iteration 157, loss = 4.22227649\n",
      "Iteration 158, loss = 4.15332399\n",
      "Iteration 159, loss = 4.08366167\n",
      "Iteration 160, loss = 4.01310094\n",
      "Iteration 161, loss = 3.94259950\n",
      "Iteration 162, loss = 3.87010417\n",
      "Iteration 163, loss = 3.79895983\n",
      "Iteration 164, loss = 3.72614139\n",
      "Iteration 165, loss = 3.65377081\n",
      "Iteration 166, loss = 3.58042222\n",
      "Iteration 167, loss = 3.50785694\n",
      "Iteration 168, loss = 3.43444850\n",
      "Iteration 169, loss = 3.36114314\n",
      "Iteration 170, loss = 3.28786132\n",
      "Iteration 171, loss = 3.21491008\n",
      "Iteration 172, loss = 3.14086908\n",
      "Iteration 173, loss = 3.06835525\n",
      "Iteration 174, loss = 2.99611815\n",
      "Iteration 175, loss = 2.92398089\n",
      "Iteration 176, loss = 2.85163373\n",
      "Iteration 177, loss = 2.77977674\n",
      "Iteration 178, loss = 2.70966709\n",
      "Iteration 179, loss = 2.64014649\n",
      "Iteration 180, loss = 2.57126136\n",
      "Iteration 181, loss = 2.50252995\n",
      "Iteration 182, loss = 2.43495853\n",
      "Iteration 183, loss = 2.36890192\n",
      "Iteration 184, loss = 2.30331402\n",
      "Iteration 185, loss = 2.23914042\n",
      "Iteration 186, loss = 2.17711094\n",
      "Iteration 187, loss = 2.11536835\n",
      "Iteration 188, loss = 2.05424679\n",
      "Iteration 189, loss = 1.99568787\n",
      "Iteration 190, loss = 1.93769368\n",
      "Iteration 191, loss = 1.88172227\n",
      "Iteration 192, loss = 1.82735799\n",
      "Iteration 193, loss = 1.77454227\n",
      "Iteration 194, loss = 1.72389743\n",
      "Iteration 195, loss = 1.67460463\n",
      "Iteration 196, loss = 1.62643341\n",
      "Iteration 197, loss = 1.58094591\n",
      "Iteration 198, loss = 1.53630739\n",
      "Iteration 199, loss = 1.49378265\n",
      "Iteration 200, loss = 1.45295997\n"
     ]
    },
    {
     "data": {
      "text/plain": [
       "MLPClassifier(activation='tanh', alpha=0.0001, batch_size='auto', beta_1=0.9,\n",
       "              beta_2=0.999, early_stopping=False, epsilon=1e-08,\n",
       "              hidden_layer_sizes=(100,), learning_rate='constant',\n",
       "              learning_rate_init=0.001, max_iter=200, momentum=0.9,\n",
       "              n_iter_no_change=2, nesterovs_momentum=True, power_t=0.5,\n",
       "              random_state=1, shuffle=True, solver='adam', tol=0.0001,\n",
       "              validation_fraction=0.1, verbose=1, warm_start='full')"
      ]
     },
     "execution_count": 175,
     "metadata": {},
     "output_type": "execute_result"
    },
    {
     "name": "stdout",
     "output_type": "stream",
     "text": [
      "time: 4min\n"
     ]
    }
   ],
   "source": [
    "sequence_model =  MLPClassifier(n_iter_no_change =2, verbose=1, activation='tanh', learning_rate='constant', alpha=1e-4, random_state=1, warm_start='full') #picked 60 as limit because it overfits after\n",
    "sequence_model.fit(X,y)"
   ]
  },
  {
   "cell_type": "code",
   "execution_count": 44,
   "metadata": {},
   "outputs": [
    {
     "data": {
      "text/plain": [
       "(8867, 3, 1401)"
      ]
     },
     "execution_count": 44,
     "metadata": {},
     "output_type": "execute_result"
    },
    {
     "name": "stdout",
     "output_type": "stream",
     "text": [
      "time: 3.03 ms\n"
     ]
    }
   ],
   "source": [
    "X.shape"
   ]
  },
  {
   "cell_type": "code",
   "execution_count": 178,
   "metadata": {},
   "outputs": [
    {
     "name": "stdout",
     "output_type": "stream",
     "text": [
      "time: 1.44 ms\n"
     ]
    }
   ],
   "source": [
    "def bidirectional_lstm_model():\n",
    "    print('Build LSTM model.')\n",
    "    inputs = keras.Input(shape=(3, 1385), name='digits')\n",
    "    x = tf.keras.Sequential()(inputs)\n",
    "    x = Bidirectional(LSTM(512,activation=\"relu\"))(x)\n",
    "    outputs = Dense(len(vocab),activation='softmax')(x)\n",
    "    \n",
    "    model = keras.Model(inputs=inputs, outputs=outputs, name='bdrnn')\n",
    "    print(\"model built!\")\n",
    "    return model"
   ]
  },
  {
   "cell_type": "code",
   "execution_count": 179,
   "metadata": {},
   "outputs": [
    {
     "name": "stdout",
     "output_type": "stream",
     "text": [
      "Build LSTM model.\n",
      "model built!\n",
      "Train on 7837 samples, validate on 871 samples\n",
      "Epoch 1/9\n",
      "7837/7837 [==============================] - 48s 6ms/sample - loss: 6.2346 - categorical_accuracy: 0.0429 - val_loss: 5.9820 - val_categorical_accuracy: 0.0482\n",
      "Epoch 2/9\n",
      "7837/7837 [==============================] - 44s 6ms/sample - loss: 5.7898 - categorical_accuracy: 0.0467 - val_loss: 6.0235 - val_categorical_accuracy: 0.0425\n",
      "Epoch 3/9\n",
      "7837/7837 [==============================] - 43s 6ms/sample - loss: 5.5712 - categorical_accuracy: 0.0689 - val_loss: 6.0189 - val_categorical_accuracy: 0.0712\n",
      "Epoch 4/9\n",
      "7837/7837 [==============================] - 43s 6ms/sample - loss: 5.0292 - categorical_accuracy: 0.1169 - val_loss: 6.1449 - val_categorical_accuracy: 0.0873\n",
      "Epoch 5/9\n",
      "7837/7837 [==============================] - 54s 7ms/sample - loss: 4.2711 - categorical_accuracy: 0.1837 - val_loss: 6.3844 - val_categorical_accuracy: 0.0907\n",
      "Epoch 6/9\n",
      "7837/7837 [==============================] - 48s 6ms/sample - loss: 3.3188 - categorical_accuracy: 0.2808 - val_loss: 7.2531 - val_categorical_accuracy: 0.0827\n",
      "Epoch 7/9\n",
      "7837/7837 [==============================] - 46s 6ms/sample - loss: 2.2781 - categorical_accuracy: 0.4472 - val_loss: 8.2451 - val_categorical_accuracy: 0.0815\n",
      "Epoch 8/9\n",
      "7837/7837 [==============================] - 45s 6ms/sample - loss: 1.4653 - categorical_accuracy: 0.6437 - val_loss: 9.5138 - val_categorical_accuracy: 0.0769\n",
      "Epoch 9/9\n",
      "7837/7837 [==============================] - 44s 6ms/sample - loss: 0.9946 - categorical_accuracy: 0.7493 - val_loss: 10.4160 - val_categorical_accuracy: 0.0815\n",
      "time: 6min 58s\n"
     ]
    }
   ],
   "source": [
    "rnn_model = bidirectional_lstm_model()\n",
    "rnn_model.compile(loss='categorical_crossentropy', optimizer='adam', metrics=[categorical_accuracy])\n",
    "X,y,_,_,_ = preprocess(2, flatten=False,vocab=vocab,vectorizer=vectorizer)\n",
    "history_rnn = rnn_model.fit(X, y, batch_size=32, shuffle=True, epochs=9, validation_split=0.1)"
   ]
  },
  {
   "cell_type": "code",
   "execution_count": 180,
   "metadata": {},
   "outputs": [
    {
     "data": {
      "image/png": "[encoded data removed]",
      "text/plain": [
       "<Figure size 432x288 with 1 Axes>"
      ]
     },
     "metadata": {
      "needs_background": "light"
     },
     "output_type": "display_data"
    },
    {
     "name": "stdout",
     "output_type": "stream",
     "text": [
      "time: 348 ms\n"
     ]
    }
   ],
   "source": [
    "#plt.plot(sequence_model.loss_curve_)\n",
    "plt.plot(history_rnn.history['categorical_accuracy'])\n",
    "plt.title('Training acc')\n",
    "plt.ylabel('train acc')\n",
    "plt.xlabel('Epoch')\n",
    "plt.show()"
   ]
  },
  {
   "cell_type": "code",
   "execution_count": 205,
   "metadata": {},
   "outputs": [
    {
     "name": "stdout",
     "output_type": "stream",
     "text": [
      "time: 1.69 ms\n"
     ]
    }
   ],
   "source": [
    "def update_model(id, model, flatten=False):\n",
    "    #corpus = web_scrape(urls)\n",
    "    X,y,words,corpus,_,_ = preprocess(id)\n",
    "    history=None\n",
    "    if flatten==False:\n",
    "        history = model.fit(X,y, batch_size=32, shuffle=True, epochs=10)\n",
    "    else:\n",
    "        model.fit(X,y)\n",
    "    print(\"fit complete\")\n",
    "\n",
    "    return words, history"
   ]
  },
  {
   "cell_type": "code",
   "execution_count": null,
   "metadata": {},
   "outputs": [],
   "source": [
    "#sequence_model, updated_words, = update_model(['Natural_language_processing'], sequence_model, flatten=True)\n",
    "updated_words, _ = update_model(6, sequence_model, flatten=True)\n",
    "updated_words, history_update1 = update_model(6, rnn_model)"
   ]
  },
  {
   "cell_type": "code",
   "execution_count": 207,
   "metadata": {},
   "outputs": [
    {
     "data": {
      "image/png": "[encoded data removed]",
      "text/plain": [
       "<Figure size 432x288 with 1 Axes>"
      ]
     },
     "metadata": {
      "needs_background": "light"
     },
     "output_type": "display_data"
    },
    {
     "name": "stdout",
     "output_type": "stream",
     "text": [
      "time: 204 ms\n"
     ]
    }
   ],
   "source": [
    "plt.plot(sequence_model.loss_curve_)\n",
    "plt.title('Validation acc')\n",
    "plt.ylabel('Val acc')\n",
    "plt.xlabel('Epoch')\n",
    "plt.show()"
   ]
  },
  {
   "cell_type": "code",
   "execution_count": 48,
   "metadata": {},
   "outputs": [
    {
     "data": {
      "image/png": "[encoded data removed]",
      "text/plain": [
       "<Figure size 432x288 with 1 Axes>"
      ]
     },
     "metadata": {
      "needs_background": "light"
     },
     "output_type": "display_data"
    },
    {
     "name": "stdout",
     "output_type": "stream",
     "text": [
      "time: 439 ms\n"
     ]
    }
   ],
   "source": [
    "plt.plot(history_update1.history['val_categorical_accuracy'])\n",
    "plt.title('Validation acc')\n",
    "plt.ylabel('Val acc')\n",
    "plt.xlabel('Epoch')\n",
    "plt.show()"
   ]
  },
  {
   "cell_type": "markdown",
   "metadata": {},
   "source": [
    "## Pos-tagging using trigram max-ent model"
   ]
  },
  {
   "cell_type": "code",
   "execution_count": 202,
   "metadata": {},
   "outputs": [
    {
     "name": "stdout",
     "output_type": "stream",
     "text": [
      "time: 10.4 s\n"
     ]
    }
   ],
   "source": [
    "from sklearn.preprocessing import LabelEncoder\n",
    "from sklearn.preprocessing import OneHotEncoder\n",
    "\n",
    "#corpus = web_scrape([''])\n",
    "#encoding sets of 3 tags into flattened vector that's one-hot encoded\n",
    "doc = nlp(' '.join(words[:20000]))\n",
    "label_encoder = LabelEncoder()\n",
    "onehot_encoder = OneHotEncoder(sparse=False)\n",
    "\n",
    "xtemp = [token.tag_ for token in doc]\n",
    "encoded = label_encoder.fit_transform(xtemp)\n",
    "#encoded = onehot_encoder.fit_transform(int_encoded.reshape(len(int_encoded), 1))\n",
    "\n",
    "X_encoded = []\n",
    "y_encoded = []\n",
    "\n",
    "for i in range(ngram_size,len(encoded)):\n",
    "    x_encoded = encoded[i-ngram_size:i]\n",
    "    X_encoded.append(x_encoded)\n",
    "    y_encoded.append(encoded[i])\n",
    "    \n",
    "y_encoded = np.array(y_encoded)\n",
    "X_encoded = np.array(X_encoded)"
   ]
  },
  {
   "cell_type": "code",
   "execution_count": 203,
   "metadata": {},
   "outputs": [
    {
     "data": {
      "text/plain": [
       "(101306,)"
      ]
     },
     "execution_count": 203,
     "metadata": {},
     "output_type": "execute_result"
    },
    {
     "name": "stdout",
     "output_type": "stream",
     "text": [
      "time: 3.05 ms\n"
     ]
    }
   ],
   "source": [
    "y_encoded.shape"
   ]
  },
  {
   "cell_type": "code",
   "execution_count": null,
   "metadata": {},
   "outputs": [],
   "source": [
    "#tag_model = linear_model.LogisticRegression(multi_class='multinomial',solver='saga', penalty = 'l1', n_jobs=-1,verbose=2)\n",
    "from sklearn.svm import SVC\n",
    "tag_model = SVC(gamma='auto',probability=True, class_weight='balanced',verbose=2)\n",
    "tag_model.fit(X_encoded, y_encoded)"
   ]
  },
  {
   "cell_type": "markdown",
   "metadata": {},
   "source": [
    "### Saving all 3 models"
   ]
  },
  {
   "cell_type": "code",
   "execution_count": 105,
   "metadata": {},
   "outputs": [
    {
     "name": "stdout",
     "output_type": "stream",
     "text": [
      "time: 177 ms\n"
     ]
    }
   ],
   "source": [
    "def save_model(model, model_name):\n",
    "    model.save('savefiles/'+model_name+'.h5') \n",
    "\n",
    "save_model(rnn_model,'rnn_model')\n",
    "\n",
    "# filename = 'savefiles/wordMLPpredictor.sav'\n",
    "# pickle.dump(sequence_model, open(filename, 'wb'))\n",
    "\n",
    "filename = 'savefiles/postagger.sav'\n",
    "pickle.dump(tag_model, open(filename, 'wb'))\n",
    "\n",
    "# filename = 'savefiles/rnnModel.sav'\n",
    "# pickle.dump(rnn_model, open(filename, 'wb'))"
   ]
  },
  {
   "cell_type": "code",
   "execution_count": 140,
   "metadata": {},
   "outputs": [
    {
     "name": "stdout",
     "output_type": "stream",
     "text": [
      "time: 145 ms\n"
     ]
    }
   ],
   "source": []
  },
  {
   "cell_type": "markdown",
   "metadata": {},
   "source": [
    "# TESTING\n"
   ]
  },
  {
   "cell_type": "code",
   "execution_count": 106,
   "metadata": {},
   "outputs": [
    {
     "name": "stdout",
     "output_type": "stream",
     "text": [
      "time: 23.1 ms\n"
     ]
    }
   ],
   "source": [
    "#rnn_model = tf.keras.models.load_model('savefiles/rnn_model.h5')\n",
    "sequence_model = pickle.load(open('savefiles/wordMLPpredictor.sav','rb'))\n",
    "#tag_model = pickle.load(open('savefiles/tagmaxent.sav', 'rb'))"
   ]
  },
  {
   "cell_type": "code",
   "execution_count": 107,
   "metadata": {},
   "outputs": [
    {
     "name": "stdout",
     "output_type": "stream",
     "text": [
      "time: 2.12 ms\n"
     ]
    }
   ],
   "source": [
    "def input_tag_to_prediction(inp):\n",
    "    doc = nlp(inp.lower())\n",
    "    tags = [token.tag_ for token in doc]\n",
    "    X_encoded = label_encoder.transform(tags)\n",
    "    #X_encoded = onehot_encoder.transform(integer_encoded.reshape(len(integer_encoded), 1)).flatten()\n",
    "    y_pred = tag_model.predict_proba(X_encoded.reshape(1, -1))[0]\n",
    "    indices = (y_pred).argsort()[::-1][:3]\n",
    "    return [label_encoder.inverse_transform([idx])[0] for idx in indices]"
   ]
  },
  {
   "cell_type": "code",
   "execution_count": 108,
   "metadata": {},
   "outputs": [
    {
     "name": "stdout",
     "output_type": "stream",
     "text": [
      "time: 2.42 ms\n"
     ]
    }
   ],
   "source": [
    "def input_word_to_prediction(inp):\n",
    "    words = nltk.word_tokenize(inp.lower())\n",
    "    words_tf = np.array(vectorizer.transform(words).toarray()).flatten().reshape(1, -1)\n",
    "    y_pred = sequence_model.predict_proba(words_tf)[0]\n",
    "    indices = (y_pred).argsort()[::-1][:3]\n",
    "    return [vocab[idx] for idx in indices]"
   ]
  },
  {
   "cell_type": "code",
   "execution_count": 116,
   "metadata": {},
   "outputs": [
    {
     "name": "stdout",
     "output_type": "stream",
     "text": [
      "time: 1.48 ms\n"
     ]
    }
   ],
   "source": [
    "def rnn_predict(sent):\n",
    "    words = nltk.word_tokenize(sent.lower())\n",
    "    x = np.array(vectorizer.transform(words).toarray().astype('float64'))\n",
    "    words_tf = x.reshape(1,x.shape[0],x.shape[1])\n",
    "    y_pred = np.array(rnn_model.predict(words_tf)[0])\n",
    "    indices = (y_pred).argsort()[::-1][:3]\n",
    "    return [vocab[idx] for idx in indices]"
   ]
  },
  {
   "cell_type": "code",
   "execution_count": 155,
   "metadata": {},
   "outputs": [
    {
     "name": "stdout",
     "output_type": "stream",
     "text": [
      "time: 1.7 ms\n"
     ]
    }
   ],
   "source": [
    "def prediction_union(sent):\n",
    "    tags = input_tag_to_prediction(sent)\n",
    "    superset_tags = [tag[:2] for tag in tags]\n",
    "    print(tags, superset_tags)\n",
    "    combined_predictions = rnn_predict(sent)\n",
    "    combined_predictions.extend(x for x in input_word_to_prediction(sent) if x not in combined_predictions)\n",
    "    prediction_tags = [nlp(word)[0].tag_[:2] for word in combined_predictions]\n",
    "    print(prediction_tags)\n",
    "    filtered_predictions = [word for word in combined_predictions if nlp(word)[0].tag_[:2] in superset_tags]\n",
    "        \n",
    "    return combined_predictions, filtered_predictions"
   ]
  },
  {
   "cell_type": "code",
   "execution_count": 181,
   "metadata": {},
   "outputs": [
    {
     "name": "stdout",
     "output_type": "stream",
     "text": [
      "time: 1.3 ms\n"
     ]
    }
   ],
   "source": [
    "def run(sent):\n",
    "    out = sent\n",
    "    while True:\n",
    "        print(out)\n",
    "        combined_predictions, filtered_predictions  = prediction_union(sent)\n",
    "        print(combined_predictions)\n",
    "        print(filtered_predictions)\n",
    "        inp = input()\n",
    "        if inp==\"exit\":\n",
    "            return out\n",
    "        out+= \" \" +inp\n",
    "        l = len(inp.split())\n",
    "        sent = \" \".join(nltk.word_tokenize(sent)[l:]+[inp])\n",
    "    print(out)"
   ]
  },
  {
   "cell_type": "code",
   "execution_count": 186,
   "metadata": {},
   "outputs": [
    {
     "name": "stdout",
     "output_type": "stream",
     "text": [
      "are you coming\n",
      "['DT', 'IN', 'PRP'] ['DT', 'IN', 'PR']\n",
      "['IN', 'IN', 'RB', 'IN']\n",
      "['to', 'with', 'up', 'because']\n",
      "['to', 'with', 'because']\n",
      "to\n",
      "are you coming to\n",
      "['NN', 'PRP', 'DT'] ['NN', 'PR', 'DT']\n",
      "['CC', 'DT', 'PR', 'NN', 'VB']\n",
      "['and', 'the', 'me', 'trivia', 'see']\n",
      "['the', 'me', 'trivia']\n",
      "trivia\n",
      "are you coming to trivia\n",
      "['PRP', 'IN', 'RB'] ['PR', 'IN', 'RB']\n",
      "['PR', 'RB', 'IN', 'PR', 'CC']\n",
      "['i', 'then', 'if', 'it', 'but']\n",
      "['i', 'then', 'if', 'it']\n",
      "?\n",
      "are you coming to trivia ?\n",
      "['NN', 'RB', 'PRP'] ['NN', 'RB', 'PR']\n",
      "['VB', 'VB', 'MD', 'PR']\n",
      "['do', 'am', 'will', 'i']\n",
      "['i']\n",
      "exit\n",
      "time: 13.6 s\n"
     ]
    }
   ],
   "source": [
    "out = run(\"are you coming\")\n",
    "#i will be home by"
   ]
  },
  {
   "cell_type": "code",
   "execution_count": 208,
   "metadata": {},
   "outputs": [
    {
     "name": "stdout",
     "output_type": "stream",
     "text": [
      "time: 199 ms\n"
     ]
    }
   ],
   "source": [
    "dev_set = message_scrape(path='/Users/animallya/Desktop/chat.db',n=6)"
   ]
  },
  {
   "cell_type": "code",
   "execution_count": 138,
   "metadata": {},
   "outputs": [
    {
     "name": "stdout",
     "output_type": "stream",
     "text": [
      "['NNS']\n",
      "time: 10.9 ms\n"
     ]
    }
   ],
   "source": [
    "doc = nlp('guys')\n",
    "print([w.tag_ for w in doc])"
   ]
  },
  {
   "cell_type": "code",
   "execution_count": 104,
   "metadata": {},
   "outputs": [
    {
     "data": {
      "text/plain": [
       "'i checked seismic activity might have actually been a small earthquake block min no more office on my mac how do get office now use search spotlight to search for it can not product key worked good glad you found it this messages on mac can not send green texts you have to turn the option yes thinking of posting in a group about gym buddies i feel like i need some folks to join occasionally when is your date right now heading there enjoy see you in class maybe yes posting in hey might be more useful there are only oldies on this one liked posting in hey might be more useful there are only oldies on this one smiling wot none of your damn business why do all these people not want breaks hungry room after class yea you can invite your mother along make sure you can understand this so that for the project we can do a word predictor this stuff is not helping me practical application whatsoever but i am watching some stuff on the side that might help hungry out which genius invented this too much too long did not read i am at the new all i have is a bunch of question marks in boxes i am not in betas any more how about you help me work on assignment otherwise maybe coding questions if you are not doing anything today at home got ta get more hours well when i am back from my trip then i am gon na work on stuff try to start off with the link i sent it is literally the same what link oh the yea yeah i just think i need to get on the actual coding and python practice it will make the other stuff easier to figure out next to the black guy is who is number i got but shes weird looking event but good for you reminds me of his latest video who what what reminds you of what as usual i do not know what you are talking about bullshit run the program its so nice the project ill push it now you push i will pull and run through tomorrow morning i am reading up on upcoming stuff and how to do the neural network stuff its accurate i made it prediction user gets to choose you should see it now its great i pushed it just pull and run cells below testing each hint forms a different sentence off to non screen time will run in the am and catch you tomorrow maybe to work on the a bit i need some guidance at least on part of it otherwise will go to office hours probably at class busy week still coding challenge remains okay the first thing id need from you is a baseline model that we will need to compare our model to because our model is already working really well just by using previous words logistic regression to predict next work word my thing is not recognizing even though i did a pip install and then you can show me in class what we need i am just trying to get my together prior to that pip install yep says already satisfied installed all stuff figure it out works pretty nicely it appears yo when you heading to class also think you will be able to help with the at all meet at bus stop practicing for coding test yea maybe mines different tho its at and th bus stop you mean and yeah i think you would be better i helping than going to office hours i just do not think it is worth the extra commute usually i would be able to but this week is packed i added in trigram tagging to the project this morning ill show it all to you in class its so nice sounds good i am on first floor where beep are you and your yup yeah that is what i am going on and then i will get to you and i see it is on my phone morning i finally get a new phone interview with you and your phone number so that we have to do the work for the weekend and i will send it out tomorrow and i have a lot to say to the other folks in this case i do not know if you can do something like this and then you get a chance and you get the time and time for a new job of the year that we have a chance of seeing you guys in a class that you have never done anything like that you have a couple more work done with a couple of people who are not working on the other side of the road pure apple text prediction message too many cool story bro got card what time yeah here check it out join me at weekly happy hour hula hula cap hill a also setting up monthly payments select min payment due or statement balance statement balance is safer right yes earn points after you spend in net purchases within the first days of the account open date points will be awarded at the close of the first billing statement after you spend in purchases on your visa card these points can be redeemed for value in credits cash back or gift cards this bonus is limited to new cardholders only what is the catch nothing just spending a lot i will on the for you two if you are not on the i have the done and cool now with us it is going will fit in hula hula yup but karaoke starts at yeah so up to you when you guys arrive signing up early helps otherwise long wait we will just end up watching should go up there with your girl i will try drinks and maybe it will happen how will this identify every restaurant to give it needs to know these transactions are categorized by the bank yeah when you look at the statement you see also probably some type stuff if it says like pub or restaurant disliked doing a model fit timing evaluation on the titan vs mac and sorry i do not know where you are going with this i want see how much faster the is liked i want see how much faster the is seconds fuck it mac is still on epoch and the winner is obvious its so impressive to see so have a little time today i have class until you did not say that yesterday its every which coffee name just called the espresso with milk slate coffee i tried deep learning today it does prediction with more understanding of context its insane now we have models to talk about well whenever you have time weekend this shit is crazy look at this it also learned humor nice so i will see you guys at the around then ye apparently mostly gon na watch the why okay silly you do not wan na meet new people that is the main point of the meet up the girl is not making it this weekend her friend got in a bad accident which weekend you did not meet her today this weekend silly like she is with her girl friend probably roommate not coming out tonight but is packed so i am still on the way there whats the meaning of two courters in my name to my name what are you talking about i have two courters to my name meaning i do not know what that means on the way okay think about what her she cute also just like me i see the twins showed i mean she is nice looking for my taste and i do not know because we did not talk really but yes they did and they had a fun duet emerald like eyes we actually went exclusive just before i got there you guys do after got food went home others stayed are you not going to class again what does he even do in class anymore decision trees today i was not there last week would you look at the stuff or are you again too busy i do not even know why you took these classes if it is all too easy if you are not going to class i could stop by for the afternoon decision trees are like if statements eh it is okay you do your thing i have a particular plan for the day wot plan we should try and get the proposal going soon spent more than hours on this already just set up sync today evening i am free and weekend too well it was your call to go at it alone and not involve me at all so we will have to figure it out tomorrow sorry i am just having a morning where i need to be alone for a while yea just handle the writing its explain all of this let us tomorrow or later tonight if that is what ends up being the plan for sure what to do since we went exclusive yesterday should i stay away from sleeping with again confused the sex was good is not it obvious but the sex was time to be a man and commit since you went exclusive do not be a jerk will be let down and also the others too you need to let them know that it was fun and now you are in a relationship think of it like you having more of the power which is rare i should not have to explain it to you but it is your life do as you like done like the post what post post do i have to we like each other a lot so it matters to me that close friends like and comment i will like it but only when you make sure to let the others know you should at least text the others i told them but good on you for making an adult move like and comment also yeah i would feel guilty otherwise coming to trivia i do not think so honestly the first day where i feel like i just wan na either like not even see anyone or get drunk and just go nuts we will see when rolls around though something to do with last night partially and an accumulation of my general emotions too i have been off medication for a couple months now and afraid it is like a relapse of depression thanks can install i install for you i gave you access to the bucket in class yeah will do shortly also i will be home around probably and will cook if you wan na stop by no i am just working on stuff on my own and had to help a friend out with something yeah we can cook something together can split the cost cool i have the ground sirloin you just think of what ingredients interest you i have all the basic veggies lets make it spicy sure i have spices and a will it go well with pasta yes in fact yeah we can do that then similar to the chicken one when do you wan na stop by i wan na work a bit more and then back home i can come now we can walk to your place together cool i can over to you then almost here heading out now faster gon na rain it is been like this all day raining in cap hill now in fact pm it is rain not scary rain is causing traffic on the right now on the highway mister i was in cap hill come out in minutes we are approaching den bring a big umbrella come project proposal due in days let us finish this today i will do this part and you can do the paper part did get the link in email no email plus got ta finish the other stuff too got ta get unstuck need breakfast and to get started working on stuff you should have gotten it now i did how much i could the rest is based on the paper you pick nope here email at com ms an you gon na come by or what is the deal that might not help just yet because the rest is based on the paper you read i can probably find a paper for probably not actually i am bad at that its called predictive text document this could be good i need to finish the before i get to this do not i but i am getting nowhere i will read through the stuff you sent i do not think you are gon na be able to finish that the tiff part is pretty straight forward tho finishing the ml assignment today well not if i get stuck on every little thing ah your stressing me out it is too easy for you and i am just getting stuck on things i mean it is due like i know like i said i can not procrastinate my weekdays are gon na be interviews and going out with so i try to finish everything before that what to do honestly not being helpful and neither is the class itself what am i supposed to do more time on reading examples that people have done is only what can help i had to do some of this stuff times to actually understand precisely what is going on the first time i used was last summer i have to submit tonight so that is why its got ta be like a consistent thing hours a day of work i do at least days in the week over holidays if you have the time i would recommend enrolling in a deep learning course that is how i really well am i missing a lot of pieces here looks fine how do i check how it classifies a specific body of text that i have just to see what the text is and how it tags it transform a text and then model predict also only use one classifier or it may confuse logistic regression is good i will come at sure i am just throwing all i can in here and you can help me sort through stuff and then we just dig into the project material still sleeping pretty tired might just stay here will let know weird schedule bro i do not have access to the service to read that article which the only article link you sent me from its find something relevant before you start reading see the proposal that he has on piazza tell you what to expect so basically the project is text sequence prediction using neural language models gotcha so i can search for stuff related to that search on text sequence prediction even if its not a neural language model its most likely this one does a lot better than that if the paper is not also researching another method to add in so far we have neural nets contributing to the final prediction oh also i do not understand how i am supposed to configure different layers of the neural network in the accuracy is fine leave it i think at this point i am just gon na do the last part run the classifier on test set and call it ye plans for the night dunno what about you dunno boring day at the story nope then i am out for the night mixed bag but overall glad to be out just too damn crowded what is your plan for the day no plan yet trivia evening if join its at meet after lunch yeah i need food first and then to work on stuff guess project related first and ml midterm material ye let us get that proposal draft i will come at around i think okay a bit after i am gon na join some folks for lunch and then can come to you via and we walk soon yeah gon na head out shortly it is not even head now bossy dude i will let you know when i am in the way shortly i ready lets just meet at the place directly its already as in for trivia at i am heading over now hours is plenty of time dude i am thinking what to do for dinner without having to spend much i have chicken and trout at home okay i will when i am a couple minutes from home so you can walk over here or your place my place i am getting now i will start walking now come on down i am there document gs predictive text users desktop project project gs predictive text remind me tomorrow again that we have class will do i will come after lunch okay try finishing reading by then so we can complete the writeup we will write it off the shorter paper will suffice we will write it off the shorter paper yeah will do come here my mom left bus stop is also closer by my bus stop is half a block from me can we actually meet at slate coffee i feel i do more focused work in a non home environment actually i cant concentrate there focus is carried away in an external environment i feel the opposite way too many distractions at home besides no comfortable seating at your apt can sit on the chair i will sit on the bed also gon na need food before class probably sometime bring lunch on the way here probably we can grab dinner after class together yup i will finish going through the larger article shortly and walk over the other one i feel like is brief good but i need more content to talk about context too sounds good heading out now outside shit there yes chilling coming hes clapping his hand now pp pp pee pee pee pee why is your laptop blowing like a dryer dead silent which ones making sound or it is something in the room its coming from near the plus peep tags combine in a certain way to product more meaningful predictions we can incorporate that too probably use a tree parser we need to evaluate time and how much complexity we can add also needs to not be so open about the not listening part recursive still not paying attention proposal complete we need to do some edits though or i mean add some stuff or show your thoughts and i can make final writing edits it is not to be submitted until though i know but i am bad with procrastinating i need to get on the other assignments too that is what i am doing now but yeah look through and see if we need to add or take anything out probably do separate paragraphs for these points if the paper uses a particular dataset or datasets clearly state what they are if the paper uses a particular evaluation metric or metrics state it clearly also state any key scores that it achieves on these metrics please comment there do not text each individual comment to me i am trying to focus on the ml midterm what columns do you normalize for the abalone dataset most i have right now is accuracy since i am missing something little to adjust in the data i am training on i think scratch that i made a change to age rings and now it is class rings split into ranges that is what i said last night well i just got to it smartypants also is mean squared error of good does is ask to find it score should suffice i am running the gradient boosting because it says to run both a multi class classifier and a and i believe is one of the good metrics to look at i just used linear regression got ta follow the instructions it says to do both for regression logistic regression for classifier linear for regression anyways the problem says to use different methods and that is all i am saying so what is the classifier to use a different activation on the last layer that is the difference i am not sure shat that means last layer what layer also cross validation i am reading up on what it is and where to use it got of my is you mean duh probably you have groups or something for the rings ranges that is my accuracy value you might be confusing the two or have some difference no they are the same because my classes are balanced and how do you do that balancing depends on where the range is split stupidly easy midterm do not be condescending you are the one with all the ml experience not most of the people in the class i assume eh boring for a grad level class people need to step up align program people who just started coding for real like a year ago at least a lot of them also where did you normalize anything it looked like all the main features are within a similar to range use data describe and you will see also standardize or normalize trying to figure out if i just need to use preprocessing normalize etc or a scaler i got in your face depends on the run and initialization of weights if you run it again it will change either way accuracy precision logistic regression yes what number did you split i can not help but feel like you are trying to find something wrong with my code approach no i am trying to find the reason okay a couple lines abalone where abalone log reg solver jobs multi class random state used as well remove multi class it will help it increase by a little because its binary classification i used let me try standard will try later figuring out the rain one right now interesting problem with a lot of data ye i got on that one i feel like i have a good combination of stats right i need to spend time on the other problems now meaning like accuracy etc yea what doing i am out and heading home soon actually learning a lot of tiny little things in this assignment which one that have a vastest impact in accuracy ml midterm like dealing with skewed data and picking relevant features polynomial regression oh yeah it is a good learning experience honestly i have to figure out the rain one now but i like meteorology so my knowledge helps i am out with she is going though a potential break up and i am there to support i will tell you later i figured out why you are getting and getting its the random state you really have too much time on your hands but yeah that was one of my assumptions wan na work on stuff tomorrow it time when love what you are doing interview is tomorrow what time i will look at proposal again tomorrow i wrote comments in that we are close to done cool i will take a look just got ta get it to pages somehow for his satisfaction i think content matters most and thoroughness yeah but he said it in class we are at somehow make that and one title page he did not say anything beyond the range man anyways if you wan na add stuff beyond what i will do feel free we will see what else code wise we can add do and i will start doing as well tomorrow code wise kinda stuck at this point predictions are already so good visualization of deep learning is too hard i think we need to think of practical applications and extensions of current stuff non library stuff etc i will brainstorm we can covert that into a mobile if you want to but never done that its just a python script that runs basically ooh good i have some web experience deploy python on basically yep or like flask or something react and python work too regularization brought up the to using penalty which i need research into some of these interesting details and it brought up rain dataset classification from to now i can incorporate this in our project too faculty look at the number of publications hes contributed a huge ass dataset to detecting sexual predators in chat is a research interest the latest video is delightful for a stuff do you use or the to run through part let us get proposal out of the way first so we can turn it in and where have you been we went to and dinner and to my place please look at the doc and see if everything makes sense and i will do final edits etc i did all i could on the content there with the limited scope of the paper left may be easiest for you to synthesize you addressed the comments if so i will look now i mean with what i could i will clean things up once you add or take away what you think should go in the final submission i wan na go over to to use that piano badly are you looking at what we were talking about will look after reaching campus oh yeah your class ye added comments should be done after this fixed some things okay cool i will take a peek in a moment going through the and running into some small bug what is accuracy metric for the etc is it related to our plotting of loss or something else like we were doing with accuracy score loss i got ta read into it more testing accuracy you can get cool so i can just pull that from the loss information it is using for plotting leave it for now got ta run the other two and yea this is amazing stuff it is predicting the country names are from better than i would expect even just the one yes once you change to last you will notice it does better predictions at longer words are you you guys planning to go out for the events yea we can go somewhere yeah except i wish i had a date to bring we should go get the costumes soon then we should just go by and i ask people will you be my yeah where do we go for costumes with the move and everything i do not think she will say yes she is been most of the time it seems this week or should i call and also say i know you are busy but would be fun etc just text ugh i just feel like a call would stand out more i will give it until tonight tomorrow morning i think too much easy for you to say you are already together with your girl that is what saying when its the right person it will automatically happen without the need to think about when to text them so what do you think i will not make it asking out i will just say are you doing anything and then go for it whatever comes to mind if she is equally interested shell play along ask probably only looking for girls meet at is tonight try to finish final changes tomorrow morning so we can turn it in yep also gon na try out going to class today at least for half what picture should i put in on title page something to do with text prediction or gram language models or cool then i can just save to and email to them are you staying home let me look at the final draft before submission sure make any final changes and then will do so you are not going to class gon na rest and complete some work before double date i am assuming that at this point i need to attend unless he does not focus on the important stuff what is the double date movies and dinner at with and her bf what is he covering today not sure but he is getting into deep learning this time or next time and lucky you yes alright then humble finish draft are not you looking at it i have already done all i can name of the baseline model there are no names besides what i wrote or found i also do not know what you mean like people name their models for ex you look at the paper there is no particular name besides the systems they use so is not the entire model no did you read the paper no i can not do both exactly coding itself takes a time can turn it in methods is cut off between the pages seems like i do not think that matters looks fine in the i generated it is just weird in word so guess i will catch ya later yup next days are end of how its awesome yes what validation accuracy are getting for the run garbage is giving me it can only predict some classes well what run stupid mac oh how do i get that metric i am just trying to get the to run running into a parameter issue as usual run predictions on validation set i just do not yet know how to write code to output accuracy think straight forward does not the confusion matrix show how well it predicts if you run on development set write code to output accuracy on the development set that is not helpful garbage model stuck on this forever my question is have you done the rainfall problem in the ml midterm that is due sooner yes is it tedious or you just selected a couple features from the many provided i do not just blindly do that cleaned the data etc look at histograms data look at correlations and then pick most relevant features also fine tuned the algorithm with regularization so lets say a column has a ton of is that reason enough to exclude it oh just got coding invite from do not exclude the entire column exclude the row so basically freeze is year so are you working with about rows in the rain dataset or any is not right is right okay how many rows of data were you working with after cleaning will check stupid what does your confusion matrix look like i have for the rain hold on i will send you a what threshold did you use no threshold just default but that means you are excluding rows though thats all well you are the expert i will go with that for now confusion on validation yep i passed in set can attach the notebook here mines acting weird i see what is going wrong here its doing well only on one class is the file not too big notebook is small okay good or email is also fine also when you say fine tune etc does that mean you say cleaned up changed directions to numbers as well as using scaler for the different kinds of number columns i am not sure if there is a ml way to choose the most relevant features columns yea so how did you end up selecting features to use though i can not get all the info i need without constantly going source to source for this one i used all corr if correlation is high then you pick because each one was significant enough that it did not make sense to remove individual features yea how did you deal with the dates remove does get transferred i the bus then transfers or is it different fee yes i think so but small chance i could be wrong oh i see now why your matrix looks good you should not random on this one you got ta do one by one for each validation thing then can get accuracy i give up fucking wasting my time i do not know what i am doing without guidance just go through every word rather than doing random the model seems to be trained correctly so when go over every word you know which ones got right so you can get accuracy it is not funny any more i am honestly annoyed by all of it i do not feel like i am getting the fundamentals i am supposed to get i spent half the day yesterday just getting to can we work on this tomorrow otherwise i am just gon na deal with looking for tomorrow i am stuck over there too i will let you know depends on how tired i will be after tonight implementations of is so easy i am sitting alone at a bar in cap hill enjoy the warmth at home yeah at least i am not alone here i fucked my hand while bowling we went to lucky strike yuck you fucked your hand good for you so work on stuff or i just go to campus myself i can come during the evening just woke up not gon na work maybe tomorrow then i am getting work done during the day through then i am out of the house what is your train test split look like for the rainfall problem same for all i mean what goes into what like train train etc what mean eh it does not matter i am just unable to figure things out or how to clearly get the data prepped how it needs to be i am not getting anywhere at this point i mean once you take out just split out features from labels and train test split and fit i have gotten somewhere anyways but we can look together later to see where all my mistakes are at least i got things lined up and log reg gave me accuracy just do not know if i am working with the right numbers what are you doing tomorrow that seems about right by using linear regression i did some optimizations to get it unto we can meet tomorrow will let know we have trivia evening can meet for lunch and go tomorrow the labels are column in the file do not use column in your model what is column cool i dropped why is be my target i think so either way if you look at it talks about it rain tomorrow is target it can be either depending on how you set things up i also showed some of my processing anyways we will take a look tomorrow some point or the midterm says rain tomorrow is target gon na study for coding assessment from it says their directly related so does not really matter yea they are correlated to anyways i will figure things out you are schedule does not align with mine at all these days besides class yea dropping risk mm makes is cross val scores are tho i will need to see what you are talking about not sure what all that means for the data evening plans maybe go out i am at a movie right now with a friend when does it end and where at i will be home by i think we can meet at for dinner at that time i will just order now super hungry we will meet tomorrow got costume nope but i can find something for next weekend wants us to join her now she wants to go somewhere i will see if i can get my lady friend to join when for next weekend nice weather work and cook dinner like last week not sure about timing i will let you know we are on a day trip to are back is asking if we go costume shopping a little later before trivia i will be back around there is still time i think maybe earlier i will let you know meet us at trivia at itself can not make it so what do the next couple days look like for you i think we should compare notes on the ml stuff probably focus on finishing that first not sure yet gon na focus on prepping for the coding assessment i got the ml stuff the way yesterday also for soft should be coming soon and they asked some really low level stuff for the rain is what i got too so i think you got that right i see gotcha just write ups really left then i got ta look at the last one how did the dataset one go easier i think on that one we need to just load from the site or something since it is not a or doc yea grab tea in the evening and cook dinner tonight i am up for that how do you get the numbers and columns out of the did you just copy something into a text file or just various things like split strip etc with the text i think had it in its library i used that ooh i will take a look at that then i am in a walking boot getting lunch at i just ate i could stop by and work on stuff maybe otherwise i will just go home need ingredients anyways we will meet a bit later take a nap i will be home still eating yup come here after then walking now limping to you here yo intense conversation cookie fail one of my students is not a thing thats why funny also why when i read through my test file in a try to output to labels is there a in the given test file it is not letting me print to my file because of that figured it out myself i am moving on to and finishing up ml midterm what do you think i should spend most time learning revisiting probably midterm first get it way i mean topics and what to dive deeper on polynomial reg cross validation meet for tea at wan na see the joker for free and i am up for something yeah just had the lunch special at cedars when taking coding assessment tonight at meet for tea at there is a couple at your local either way could also do another day but yeah maybe i will bring my laptop along then another day better need to practice problems so still tea or what lets meet at trader then walk to tea okay lets go while it is sunny you said i will put my boot on and start walking heading out i am inside trader okay i am hobbling over i need to get produce i will wait here accounts com en login continue com error we finished in min used rest of the time to write comments good was it easier than expected then one was hard go to i are not against it in a bit maybe when did you wan na go hungry asap whenever skipped breakfast i had phone interview well guess that does not work then i ate breakfast like minutes ago and how did interview go maybe get the food and come over otherwise i think i am gon na keep working on stuff here or a we can go at will finish practicing some questions it went well nice and okay work on stuff after or what are you up to after lunch yea we can go to your place after lunch cool beans i will see you there sharp at the place yup walk now it does not take minutes for you to get there i will be there by sharp at table okay i am a couple blocks away girl sitting adjacent to me is so cute check out com fun and funny prediction gives you whole paragraphs downloading all their data nice for the project or what its good data but i do not want do the preprocessing it comes in should not be too bad i am sure there is a library for that ill see day got ta prep for coding uploading to cloud if wan na see it gotcha will do when i get home do we need tickets for that and i can definitely go confirming might be free with the in we have with the guy who works there be nice shes been bugging me asking what to do is that a confirmation hold on i need to respond to me first or i will try messaging the dude myself you free at all before i get done at class ah wan na go grab some shoes after just an idea otherwise i am sitting home and watching football at where from rack is far off in no the one at we will do that tomorrow do people wear costumes to campus i am sure some do woo also look at the height are those shoes regular old shoe plus the even up got laid off ooh shit yup does she need a pep talk you do not know about this any update on the ship thing i have two lay off experiences but yeah when it is out there i can provide good advice does this mean plans for tonight changing it is free and he says as long as you guys are there at sharp she will be if i take her out address terry ave be there no later than so its like a boat party thing yep what do i tell him if he asks for tickets he said free admission just be there on time mention my name his name is did he create a event literally was just asking him you should also come after the date we can meet up in between when we are all done with our first events should i wear the costume and then go to the boat cheer her up be there and support her is she meeting you there she should just come to your place and you two commute to the boat that is what i am thinking liked that is what i am thinking its called naval reserve armory the place of address nice guess that is where they dock i got ta go to smith tower by pm to grab tickets in person the speakeasy duh from but tell them there could be a chance it does not work out still come through but being free the head count is kinda shaky the boats capacity is so being on time i guess is key how about before time like i am sure that will help where is the silver ramp you will see when you get there how the heck would i know ill text if i can not find him so or better i am sure you will see where it is just use your eyes and eyes liked ill text if i can not find him for sure so boat is off those people from a while back responded to him did get your tickets for speakeasy yeah can not find tickets on the page there is no button it is in person why do you think i went there myself oh you are too late because there was a big line behind me at oh pioneer square there is plenty going on in cap hill i am sure including you could try frat sorority parties so what are you guys up to sex just done my night kill lets meet at is picking me up to go where and congrats tell am did get home still out where cap hill is she still there yup what having an awesome time you home did not go anywhere we are at hula hula already late tho would have come earlier is okay been all one on one can make an android that can take predictions from our model and use it as predictive keyboard if so then once that is complete we can incorporate user text data into it for training preprocessing the data from yesterday its i have web not experience though but we can talk things over what is today look like for you tired so might not step out can come by here maybe also said the final report includes piece of work that each member has done so to make sure that its balanced see if you can get an working should not be too hard i guess with examples on the web web is different but i will take a peek also need to see how much time it would take got ta finish up a as well yea i will come by either before class or after class then let me see what the plan is yeah i will stop by after class either around or like depending on how class goes this helpful at all you think heartbeat fritz text classification on using create ml a looks good but instead of using their model we will have to use ours cool i needed some context thankfully a good article came up i will make sure i have good what did you use to visualize the data for are we supposed to pick out the sentences split things up make it label the words properly i did not visualize i believe the data was already split into train and test okay what was most of the work involving them then also i am gon na need some food after class fucking project keeps crashing with large data what is boring also is that gon na hinder any of the work no we just cant use lot of data gotcha might have to look into partial fit and keep iterating and partial fitting buy another box should i still stop by i am heading out from class now not the wont process the array size buy a new lets meet at okay cool should also grab tea and we can get dinner later cool on the way eta minutes i got an excellent idea yeah since its very good at mimicking sequences we can abuse that in a way that lacks tell me about something usually does not work so we get that something by audio extraction scrape a page on that so goes to so if a user is typing something about we can make it train on data to predict sequence okay let me know what you think is a good idea to research and i will take a look you focus on the still i will see what i can do regarding this part the network does such a good job it can identify born in just as good as invented in liked the network does such a good job it can identify born in just as good as invented in i trained it on a corpus that does not even have the word born in it but it figured it out nice developer apple com documentation converting trained models to core ml yup so that can be loaded instead of apples model looks pretty easy i am exploring the code in right now swift is quite interesting i see and python influences the interesting part is when data is collected and model is trained user wise this is exciting stuff wan na go to island we have a driver is joining and is out feeling sick in shower yea join when or so space for lunch done a bit to confirm yes and be swift oh car only people it would not be too long of a trip we can hang with after for food and stuff gon na go grab a snack at farmers market text me when you are ready i am currently grabbing some coffee by place and we go to get car is the overall plan also if you like you can it over to via building address i can leave now via th ave it pops up on by the name i go now yup with pool definitely now eta driver canceled niggers okay tell him i am on the way cool eta near school so min i am outside we will be right there grabbing something at amazon go round the corner sitting inside crappy end to the night could not even sleep normally what happened easier to talk about it in person what is your plan for the morning theres so much i need to practice in and graphs i need some food and then probably working on stuff too wan na come by gon na stay at home today need to focus and finish as much possible will see okay for the stuff did you have to extract stuff from train or what did you have to use also logistic is worse than there right own features from textbook not coming already said in the group my also summarize what happened tomorrow not that one the one after you a lady also it is weird but edit it and grab the non white image weird bug yea either way i was a bit heartbroken honestly i think i need to let a friendship mature into something basically she needs to see me as that i am gon na let things sit a bit and then make my feelings known she had a bit much to drink and let some dude dance up on her and it was like i was not there i mean i also had drinks and it made things feel worse i am just wondering if anything happened she did message after and say where were we and she is going home etc no messages today either aw dang that is why i do not go to bars did she text you today not yet but i also did not we will figure it out its fine give it time how is the going so far work on the project for a bit before i sleep going through a swift tutorial and their sample will try to make adjustments and play around with it eventually we can import the model into and try it out how was trivia we had more people join for trivia it was fun females males is a rare skew to see in a group in liked females males is a rare skew to see in a group in nice all non single ladies right though yes wan na get lunch later or busy dinner might work better got ta get through some stuff what you working on today stuff and project sad fucking after i do well on the assessment they tell they are closing off interviewing for this season idiots are doing well on the data i used bidirectional to see how it performs good to hear i am about to dive into making the swift code to mimic the tutorial their thing actually works pretty well the system i ask a question about the text it highlights the relevant part definitely a long term potential project i am so intrigued with the way apple decided to make swift it is like a mix of python and what do you think single view document based or could be interesting i am so confused as to how to get the stuff going i have been stuck for like an hour trying to figure out how to get the stuff to show up not to mention getting code in everything takes time that is why got ta do it incrementally lets go to at around sure fuck the already setting technically since we got the extra hour its already still sucks look a very basic start while i sort through all the documentation nice its running on simulator on my mac meaning it should also run on and i will see what involves it is like a basic with one view but we can add more add a splash screen etc most visual things come off attractive during presentation yep should i just come by with my stuff i am doing now sure here here here its outside fog tinder started labeling new users with a tag i saw for the concert tomorrow is good to go yea she and i will join anyone else not at the moment it is okay i will meet fellow volunteers there dude i scraped all my data i might have to give you some work to filter some stuff'"
      ]
     },
     "execution_count": 104,
     "metadata": {},
     "output_type": "execute_result"
    },
    {
     "name": "stdout",
     "output_type": "stream",
     "text": [
      "time: 5.25 ms\n"
     ]
    }
   ],
   "source": [
    "' '.join(words)"
   ]
  },
  {
   "cell_type": "code",
   "execution_count": 72,
   "metadata": {},
   "outputs": [
    {
     "name": "stdout",
     "output_type": "stream",
     "text": [
      "time: 670 ms\n"
     ]
    }
   ],
   "source": []
  },
  {
   "cell_type": "code",
   "execution_count": 153,
   "metadata": {},
   "outputs": [
    {
     "name": "stdout",
     "output_type": "stream",
     "text": [
      "['VBZ', 'DT', 'JJ']\n",
      "['RB']\n",
      "time: 964 µs\n"
     ]
    }
   ],
   "source": [
    "print([w.tag_ for w in doc])\n",
    "print([w.tag_ for w in pred])"
   ]
  },
  {
   "cell_type": "code",
   "execution_count": 89,
   "metadata": {},
   "outputs": [
    {
     "ename": "ConverterError",
     "evalue": "See console for info.\n2019-11-09 23:15:56.425695: I tensorflow/core/platform/cpu_feature_guard.cc:142] Your CPU supports instructions that this TensorFlow binary was not compiled to use: AVX2 FMA\n2019-11-09 23:15:56.435923: I tensorflow/compiler/xla/service/service.cc:168] XLA service 0x7fe37b73ab80 executing computations on platform Host. Devices:\n2019-11-09 23:15:56.435935: I tensorflow/compiler/xla/service/service.cc:175]   StreamExecutor device (0): Host, Default Version\n2019-11-09 23:15:56.516575: I tensorflow/lite/toco/import_tensorflow.cc:659] Converting unsupported operation: TensorListFromTensor\n2019-11-09 23:15:56.516610: I tensorflow/lite/toco/import_tensorflow.cc:193] Unsupported data type in placeholder op: 21\n2019-11-09 23:15:56.516653: I tensorflow/lite/toco/import_tensorflow.cc:659] Converting unsupported operation: TensorListFromTensor\n2019-11-09 23:15:56.516659: I tensorflow/lite/toco/import_tensorflow.cc:193] Unsupported data type in placeholder op: 21\n2019-11-09 23:15:56.516680: I tensorflow/lite/toco/import_tensorflow.cc:659] Converting unsupported operation: TensorListReserve\n2019-11-09 23:15:56.516687: I tensorflow/lite/toco/import_tensorflow.cc:193] Unsupported data type in placeholder op: 21\n2019-11-09 23:15:56.516694: I tensorflow/lite/toco/import_tensorflow.cc:659] Converting unsupported operation: TensorListReserve\n2019-11-09 23:15:56.516699: I tensorflow/lite/toco/import_tensorflow.cc:193] Unsupported data type in placeholder op: 21\n2019-11-09 23:15:56.516715: I tensorflow/lite/toco/import_tensorflow.cc:659] Converting unsupported operation: While\n2019-11-09 23:15:56.516729: I tensorflow/lite/toco/import_tensorflow.cc:193] Unsupported data type in placeholder op: 21\n2019-11-09 23:15:56.516732: I tensorflow/lite/toco/import_tensorflow.cc:193] Unsupported data type in placeholder op: 21\n2019-11-09 23:15:56.516754: I tensorflow/lite/toco/import_tensorflow.cc:659] Converting unsupported operation: While\n2019-11-09 23:15:56.516764: I tensorflow/lite/toco/import_tensorflow.cc:193] Unsupported data type in placeholder op: 21\n2019-11-09 23:15:56.516767: I tensorflow/lite/toco/import_tensorflow.cc:193] Unsupported data type in placeholder op: 21\n2019-11-09 23:15:56.516782: I tensorflow/lite/toco/import_tensorflow.cc:659] Converting unsupported operation: TensorListStack\n2019-11-09 23:15:56.516790: I tensorflow/lite/toco/import_tensorflow.cc:659] Converting unsupported operation: TensorListStack\n2019-11-09 23:15:56.533570: I tensorflow/lite/toco/graph_transformations/graph_transformations.cc:39] Before Removing unused ops: 38 operators, 109 arrays (0 quantized)\n2019-11-09 23:15:56.533779: I tensorflow/lite/toco/graph_transformations/graph_transformations.cc:39] After Removing unused ops pass 1: 36 operators, 107 arrays (0 quantized)\n2019-11-09 23:15:56.534236: I tensorflow/lite/toco/graph_transformations/graph_transformations.cc:39] Before general graph transformations: 36 operators, 107 arrays (0 quantized)\n2019-11-09 23:15:56.537810: I tensorflow/lite/toco/graph_transformations/graph_transformations.cc:39] After general graph transformations pass 1: 16 operators, 72 arrays (0 quantized)\n2019-11-09 23:15:56.538056: I tensorflow/lite/toco/graph_transformations/graph_transformations.cc:39] Before Group bidirectional sequence lstm/rnn: 16 operators, 72 arrays (0 quantized)\n2019-11-09 23:15:56.538210: I tensorflow/lite/toco/graph_transformations/graph_transformations.cc:39] Before dequantization graph transformations: 16 operators, 72 arrays (0 quantized)\n2019-11-09 23:15:56.538578: I tensorflow/lite/toco/allocate_transient_arrays.cc:345] Total transient array allocated size: 33664 bytes, theoretical optimal value: 33664 bytes.\n2019-11-09 23:15:56.539055: E tensorflow/lite/toco/toco_tooling.cc:466] We are continually in the process of adding support to TensorFlow Lite for more ops. It would be helpful if you could inform us of how this conversion went by opening a github issue at https://github.com/tensorflow/tensorflow/issues/new?template=40-tflite-op-request.md\n and pasting the following:\n\nSome of the operators in the model are not supported by the standard TensorFlow Lite runtime. If those are native TensorFlow operators, you might be able to use the extended runtime by passing --enable_select_tf_ops, or by setting target_ops=TFLITE_BUILTINS,SELECT_TF_OPS when calling tf.lite.TFLiteConverter(). Otherwise, if you have a custom implementation for them you can disable this error with --allow_custom_ops, or by setting allow_custom_ops=True when calling tf.lite.TFLiteConverter(). Here is a list of builtin operators you are using: CONCATENATION, FULLY_CONNECTED, RESHAPE, REVERSE_V2, SOFTMAX, STRIDED_SLICE. Here is a list of operators for which you will need custom implementations: TensorListFromTensor, TensorListReserve, TensorListStack, While.\nTraceback (most recent call last):\n  File \"/Library/Frameworks/Python.framework/Versions/3.7/bin/toco_from_protos\", line 8, in <module>\n    sys.exit(main())\n  File \"/Library/Frameworks/Python.framework/Versions/3.7/lib/python3.7/site-packages/tensorflow_core/lite/toco/python/toco_from_protos.py\", line 89, in main\n    app.run(main=execute, argv=[sys.argv[0]] + unparsed)\n  File \"/Library/Frameworks/Python.framework/Versions/3.7/lib/python3.7/site-packages/tensorflow_core/python/platform/app.py\", line 40, in run\n    _run(main=main, argv=argv, flags_parser=_parse_flags_tolerate_undef)\n  File \"/Library/Frameworks/Python.framework/Versions/3.7/lib/python3.7/site-packages/absl/app.py\", line 299, in run\n    _run_main(main, args)\n  File \"/Library/Frameworks/Python.framework/Versions/3.7/lib/python3.7/site-packages/absl/app.py\", line 250, in _run_main\n    sys.exit(main(argv))\n  File \"/Library/Frameworks/Python.framework/Versions/3.7/lib/python3.7/site-packages/tensorflow_core/lite/toco/python/toco_from_protos.py\", line 52, in execute\n    enable_mlir_converter)\nException: We are continually in the process of adding support to TensorFlow Lite for more ops. It would be helpful if you could inform us of how this conversion went by opening a github issue at https://github.com/tensorflow/tensorflow/issues/new?template=40-tflite-op-request.md\n and pasting the following:\n\nSome of the operators in the model are not supported by the standard TensorFlow Lite runtime. If those are native TensorFlow operators, you might be able to use the extended runtime by passing --enable_select_tf_ops, or by setting target_ops=TFLITE_BUILTINS,SELECT_TF_OPS when calling tf.lite.TFLiteConverter(). Otherwise, if you have a custom implementation for them you can disable this error with --allow_custom_ops, or by setting allow_custom_ops=True when calling tf.lite.TFLiteConverter(). Here is a list of builtin operators you are using: CONCATENATION, FULLY_CONNECTED, RESHAPE, REVERSE_V2, SOFTMAX, STRIDED_SLICE. Here is a list of operators for which you will need custom implementations: TensorListFromTensor, TensorListReserve, TensorListStack, While.\n\n\n",
     "output_type": "error",
     "traceback": [
      "\u001b[0;31m---------------------------------------------------------------------------\u001b[0m",
      "\u001b[0;31mConverterError\u001b[0m                            Traceback (most recent call last)",
      "\u001b[0;32m<ipython-input-89-df19505c36a1>\u001b[0m in \u001b[0;36m<module>\u001b[0;34m\u001b[0m\n\u001b[1;32m      1\u001b[0m \u001b[0mconverter\u001b[0m \u001b[0;34m=\u001b[0m \u001b[0mtf\u001b[0m\u001b[0;34m.\u001b[0m\u001b[0mlite\u001b[0m\u001b[0;34m.\u001b[0m\u001b[0mTFLiteConverter\u001b[0m\u001b[0;34m.\u001b[0m\u001b[0mfrom_keras_model\u001b[0m\u001b[0;34m(\u001b[0m\u001b[0mrnn_model\u001b[0m\u001b[0;34m)\u001b[0m\u001b[0;34m\u001b[0m\u001b[0;34m\u001b[0m\u001b[0m\n\u001b[0;32m----> 2\u001b[0;31m \u001b[0mtflite_model\u001b[0m \u001b[0;34m=\u001b[0m \u001b[0mconverter\u001b[0m\u001b[0;34m.\u001b[0m\u001b[0mconvert\u001b[0m\u001b[0;34m(\u001b[0m\u001b[0;34m)\u001b[0m\u001b[0;34m\u001b[0m\u001b[0;34m\u001b[0m\u001b[0m\n\u001b[0m",
      "\u001b[0;32m/Library/Frameworks/Python.framework/Versions/3.7/lib/python3.7/site-packages/tensorflow_core/lite/python/lite.py\u001b[0m in \u001b[0;36mconvert\u001b[0;34m(self)\u001b[0m\n\u001b[1;32m    444\u001b[0m         \u001b[0minput_tensors\u001b[0m\u001b[0;34m=\u001b[0m\u001b[0minput_tensors\u001b[0m\u001b[0;34m,\u001b[0m\u001b[0;34m\u001b[0m\u001b[0;34m\u001b[0m\u001b[0m\n\u001b[1;32m    445\u001b[0m         \u001b[0moutput_tensors\u001b[0m\u001b[0;34m=\u001b[0m\u001b[0moutput_tensors\u001b[0m\u001b[0;34m,\u001b[0m\u001b[0;34m\u001b[0m\u001b[0;34m\u001b[0m\u001b[0m\n\u001b[0;32m--> 446\u001b[0;31m         **converter_kwargs)\n\u001b[0m\u001b[1;32m    447\u001b[0m \u001b[0;34m\u001b[0m\u001b[0m\n\u001b[1;32m    448\u001b[0m     \u001b[0;32mif\u001b[0m \u001b[0mself\u001b[0m\u001b[0;34m.\u001b[0m\u001b[0m_is_calibration_quantize\u001b[0m\u001b[0;34m(\u001b[0m\u001b[0;34m)\u001b[0m\u001b[0;34m:\u001b[0m\u001b[0;34m\u001b[0m\u001b[0;34m\u001b[0m\u001b[0m\n",
      "\u001b[0;32m/Library/Frameworks/Python.framework/Versions/3.7/lib/python3.7/site-packages/tensorflow_core/lite/python/convert.py\u001b[0m in \u001b[0;36mtoco_convert_impl\u001b[0;34m(input_data, input_tensors, output_tensors, enable_mlir_converter, *args, **kwargs)\u001b[0m\n\u001b[1;32m    447\u001b[0m       \u001b[0minput_data\u001b[0m\u001b[0;34m.\u001b[0m\u001b[0mSerializeToString\u001b[0m\u001b[0;34m(\u001b[0m\u001b[0;34m)\u001b[0m\u001b[0;34m,\u001b[0m\u001b[0;34m\u001b[0m\u001b[0;34m\u001b[0m\u001b[0m\n\u001b[1;32m    448\u001b[0m       \u001b[0mdebug_info_str\u001b[0m\u001b[0;34m=\u001b[0m\u001b[0mdebug_info_str\u001b[0m\u001b[0;34m,\u001b[0m\u001b[0;34m\u001b[0m\u001b[0;34m\u001b[0m\u001b[0m\n\u001b[0;32m--> 449\u001b[0;31m       enable_mlir_converter=enable_mlir_converter)\n\u001b[0m\u001b[1;32m    450\u001b[0m   \u001b[0;32mreturn\u001b[0m \u001b[0mdata\u001b[0m\u001b[0;34m\u001b[0m\u001b[0;34m\u001b[0m\u001b[0m\n\u001b[1;32m    451\u001b[0m \u001b[0;34m\u001b[0m\u001b[0m\n",
      "\u001b[0;32m/Library/Frameworks/Python.framework/Versions/3.7/lib/python3.7/site-packages/tensorflow_core/lite/python/convert.py\u001b[0m in \u001b[0;36mtoco_convert_protos\u001b[0;34m(model_flags_str, toco_flags_str, input_data_str, debug_info_str, enable_mlir_converter)\u001b[0m\n\u001b[1;32m    198\u001b[0m       \u001b[0mstdout\u001b[0m \u001b[0;34m=\u001b[0m \u001b[0m_try_convert_to_unicode\u001b[0m\u001b[0;34m(\u001b[0m\u001b[0mstdout\u001b[0m\u001b[0;34m)\u001b[0m\u001b[0;34m\u001b[0m\u001b[0;34m\u001b[0m\u001b[0m\n\u001b[1;32m    199\u001b[0m       \u001b[0mstderr\u001b[0m \u001b[0;34m=\u001b[0m \u001b[0m_try_convert_to_unicode\u001b[0m\u001b[0;34m(\u001b[0m\u001b[0mstderr\u001b[0m\u001b[0;34m)\u001b[0m\u001b[0;34m\u001b[0m\u001b[0;34m\u001b[0m\u001b[0m\n\u001b[0;32m--> 200\u001b[0;31m       \u001b[0;32mraise\u001b[0m \u001b[0mConverterError\u001b[0m\u001b[0;34m(\u001b[0m\u001b[0;34m\"See console for info.\\n%s\\n%s\\n\"\u001b[0m \u001b[0;34m%\u001b[0m \u001b[0;34m(\u001b[0m\u001b[0mstdout\u001b[0m\u001b[0;34m,\u001b[0m \u001b[0mstderr\u001b[0m\u001b[0;34m)\u001b[0m\u001b[0;34m)\u001b[0m\u001b[0;34m\u001b[0m\u001b[0;34m\u001b[0m\u001b[0m\n\u001b[0m\u001b[1;32m    201\u001b[0m   \u001b[0;32mfinally\u001b[0m\u001b[0;34m:\u001b[0m\u001b[0;34m\u001b[0m\u001b[0;34m\u001b[0m\u001b[0m\n\u001b[1;32m    202\u001b[0m     \u001b[0;31m# Must manually cleanup files.\u001b[0m\u001b[0;34m\u001b[0m\u001b[0;34m\u001b[0m\u001b[0;34m\u001b[0m\u001b[0m\n",
      "\u001b[0;31mConverterError\u001b[0m: See console for info.\n2019-11-09 23:15:56.425695: I tensorflow/core/platform/cpu_feature_guard.cc:142] Your CPU supports instructions that this TensorFlow binary was not compiled to use: AVX2 FMA\n2019-11-09 23:15:56.435923: I tensorflow/compiler/xla/service/service.cc:168] XLA service 0x7fe37b73ab80 executing computations on platform Host. Devices:\n2019-11-09 23:15:56.435935: I tensorflow/compiler/xla/service/service.cc:175]   StreamExecutor device (0): Host, Default Version\n2019-11-09 23:15:56.516575: I tensorflow/lite/toco/import_tensorflow.cc:659] Converting unsupported operation: TensorListFromTensor\n2019-11-09 23:15:56.516610: I tensorflow/lite/toco/import_tensorflow.cc:193] Unsupported data type in placeholder op: 21\n2019-11-09 23:15:56.516653: I tensorflow/lite/toco/import_tensorflow.cc:659] Converting unsupported operation: TensorListFromTensor\n2019-11-09 23:15:56.516659: I tensorflow/lite/toco/import_tensorflow.cc:193] Unsupported data type in placeholder op: 21\n2019-11-09 23:15:56.516680: I tensorflow/lite/toco/import_tensorflow.cc:659] Converting unsupported operation: TensorListReserve\n2019-11-09 23:15:56.516687: I tensorflow/lite/toco/import_tensorflow.cc:193] Unsupported data type in placeholder op: 21\n2019-11-09 23:15:56.516694: I tensorflow/lite/toco/import_tensorflow.cc:659] Converting unsupported operation: TensorListReserve\n2019-11-09 23:15:56.516699: I tensorflow/lite/toco/import_tensorflow.cc:193] Unsupported data type in placeholder op: 21\n2019-11-09 23:15:56.516715: I tensorflow/lite/toco/import_tensorflow.cc:659] Converting unsupported operation: While\n2019-11-09 23:15:56.516729: I tensorflow/lite/toco/import_tensorflow.cc:193] Unsupported data type in placeholder op: 21\n2019-11-09 23:15:56.516732: I tensorflow/lite/toco/import_tensorflow.cc:193] Unsupported data type in placeholder op: 21\n2019-11-09 23:15:56.516754: I tensorflow/lite/toco/import_tensorflow.cc:659] Converting unsupported operation: While\n2019-11-09 23:15:56.516764: I tensorflow/lite/toco/import_tensorflow.cc:193] Unsupported data type in placeholder op: 21\n2019-11-09 23:15:56.516767: I tensorflow/lite/toco/import_tensorflow.cc:193] Unsupported data type in placeholder op: 21\n2019-11-09 23:15:56.516782: I tensorflow/lite/toco/import_tensorflow.cc:659] Converting unsupported operation: TensorListStack\n2019-11-09 23:15:56.516790: I tensorflow/lite/toco/import_tensorflow.cc:659] Converting unsupported operation: TensorListStack\n2019-11-09 23:15:56.533570: I tensorflow/lite/toco/graph_transformations/graph_transformations.cc:39] Before Removing unused ops: 38 operators, 109 arrays (0 quantized)\n2019-11-09 23:15:56.533779: I tensorflow/lite/toco/graph_transformations/graph_transformations.cc:39] After Removing unused ops pass 1: 36 operators, 107 arrays (0 quantized)\n2019-11-09 23:15:56.534236: I tensorflow/lite/toco/graph_transformations/graph_transformations.cc:39] Before general graph transformations: 36 operators, 107 arrays (0 quantized)\n2019-11-09 23:15:56.537810: I tensorflow/lite/toco/graph_transformations/graph_transformations.cc:39] After general graph transformations pass 1: 16 operators, 72 arrays (0 quantized)\n2019-11-09 23:15:56.538056: I tensorflow/lite/toco/graph_transformations/graph_transformations.cc:39] Before Group bidirectional sequence lstm/rnn: 16 operators, 72 arrays (0 quantized)\n2019-11-09 23:15:56.538210: I tensorflow/lite/toco/graph_transformations/graph_transformations.cc:39] Before dequantization graph transformations: 16 operators, 72 arrays (0 quantized)\n2019-11-09 23:15:56.538578: I tensorflow/lite/toco/allocate_transient_arrays.cc:345] Total transient array allocated size: 33664 bytes, theoretical optimal value: 33664 bytes.\n2019-11-09 23:15:56.539055: E tensorflow/lite/toco/toco_tooling.cc:466] We are continually in the process of adding support to TensorFlow Lite for more ops. It would be helpful if you could inform us of how this conversion went by opening a github issue at https://github.com/tensorflow/tensorflow/issues/new?template=40-tflite-op-request.md\n and pasting the following:\n\nSome of the operators in the model are not supported by the standard TensorFlow Lite runtime. If those are native TensorFlow operators, you might be able to use the extended runtime by passing --enable_select_tf_ops, or by setting target_ops=TFLITE_BUILTINS,SELECT_TF_OPS when calling tf.lite.TFLiteConverter(). Otherwise, if you have a custom implementation for them you can disable this error with --allow_custom_ops, or by setting allow_custom_ops=True when calling tf.lite.TFLiteConverter(). Here is a list of builtin operators you are using: CONCATENATION, FULLY_CONNECTED, RESHAPE, REVERSE_V2, SOFTMAX, STRIDED_SLICE. Here is a list of operators for which you will need custom implementations: TensorListFromTensor, TensorListReserve, TensorListStack, While.\nTraceback (most recent call last):\n  File \"/Library/Frameworks/Python.framework/Versions/3.7/bin/toco_from_protos\", line 8, in <module>\n    sys.exit(main())\n  File \"/Library/Frameworks/Python.framework/Versions/3.7/lib/python3.7/site-packages/tensorflow_core/lite/toco/python/toco_from_protos.py\", line 89, in main\n    app.run(main=execute, argv=[sys.argv[0]] + unparsed)\n  File \"/Library/Frameworks/Python.framework/Versions/3.7/lib/python3.7/site-packages/tensorflow_core/python/platform/app.py\", line 40, in run\n    _run(main=main, argv=argv, flags_parser=_parse_flags_tolerate_undef)\n  File \"/Library/Frameworks/Python.framework/Versions/3.7/lib/python3.7/site-packages/absl/app.py\", line 299, in run\n    _run_main(main, args)\n  File \"/Library/Frameworks/Python.framework/Versions/3.7/lib/python3.7/site-packages/absl/app.py\", line 250, in _run_main\n    sys.exit(main(argv))\n  File \"/Library/Frameworks/Python.framework/Versions/3.7/lib/python3.7/site-packages/tensorflow_core/lite/toco/python/toco_from_protos.py\", line 52, in execute\n    enable_mlir_converter)\nException: We are continually in the process of adding support to TensorFlow Lite for more ops. It would be helpful if you could inform us of how this conversion went by opening a github issue at https://github.com/tensorflow/tensorflow/issues/new?template=40-tflite-op-request.md\n and pasting the following:\n\nSome of the operators in the model are not supported by the standard TensorFlow Lite runtime. If those are native TensorFlow operators, you might be able to use the extended runtime by passing --enable_select_tf_ops, or by setting target_ops=TFLITE_BUILTINS,SELECT_TF_OPS when calling tf.lite.TFLiteConverter(). Otherwise, if you have a custom implementation for them you can disable this error with --allow_custom_ops, or by setting allow_custom_ops=True when calling tf.lite.TFLiteConverter(). Here is a list of builtin operators you are using: CONCATENATION, FULLY_CONNECTED, RESHAPE, REVERSE_V2, SOFTMAX, STRIDED_SLICE. Here is a list of operators for which you will need custom implementations: TensorListFromTensor, TensorListReserve, TensorListStack, While.\n\n\n"
     ]
    },
    {
     "name": "stdout",
     "output_type": "stream",
     "text": [
      "time: 4.51 s\n"
     ]
    }
   ],
   "source": [
    "converter = tf.lite.TFLiteConverter.from_keras_model(rnn_model)\n",
    "tflite_model = converter.convert()"
   ]
  },
  {
   "cell_type": "raw",
   "metadata": {},
   "source": []
  },
  {
   "cell_type": "code",
   "execution_count": 190,
   "metadata": {},
   "outputs": [
    {
     "name": "stdout",
     "output_type": "stream",
     "text": [
      "time: 531 µs\n"
     ]
    }
   ],
   "source": [
    "from nltk.corpus import webtext"
   ]
  },
  {
   "cell_type": "code",
   "execution_count": 200,
   "metadata": {},
   "outputs": [
    {
     "name": "stdout",
     "output_type": "stream",
     "text": [
      "396733\n",
      "time: 385 ms\n"
     ]
    }
   ],
   "source": [
    "words = []\n",
    "for file in webtext.fileids():\n",
    "    words = [word.lower()for word in webtext.words(file)]\n",
    "print(len(words))"
   ]
  },
  {
   "cell_type": "code",
   "execution_count": 199,
   "metadata": {},
   "outputs": [
    {
     "data": {
      "text/plain": [
       "8711"
      ]
     },
     "execution_count": 199,
     "metadata": {},
     "output_type": "execute_result"
    },
    {
     "name": "stdout",
     "output_type": "stream",
     "text": [
      "time: 2.76 ms\n"
     ]
    }
   ],
   "source": [
    "len(words)"
   ]
  },
  {
   "cell_type": "code",
   "execution_count": null,
   "metadata": {},
   "outputs": [],
   "source": []
  }
 ],
 "metadata": {
  "kernelspec": {
   "display_name": "Python 3",
   "language": "python",
   "name": "python3"
  },
  "language_info": {
   "codemirror_mode": {
    "name": "ipython",
    "version": 3
   },
   "file_extension": ".py",
   "mimetype": "text/x-python",
   "name": "python",
   "nbconvert_exporter": "python",
   "pygments_lexer": "ipython3",
   "version": "3.7.4"
  }
 },
 "nbformat": 4,
 "nbformat_minor": 2
}
